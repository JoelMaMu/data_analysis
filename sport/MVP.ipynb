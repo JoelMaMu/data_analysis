{
 "cells": [
  {
   "cell_type": "markdown",
   "metadata": {},
   "source": [
    "# **ANALYSE DATASET MVP NBA (1991 -2021)**"
   ]
  },
  {
   "cell_type": "markdown",
   "metadata": {},
   "source": [
    "**Importation des bibliothèques**"
   ]
  },
  {
   "cell_type": "code",
   "execution_count": 4,
   "metadata": {},
   "outputs": [],
   "source": [
    "import pandas as pd\n",
    "import numpy as np\n",
    "import plotly.express as px\n",
    "#import seaborn as sns\n",
    "import matplotlib.pyplot as plt"
   ]
  },
  {
   "cell_type": "markdown",
   "metadata": {},
   "source": [
    "**Lecture des fichiers**"
   ]
  },
  {
   "cell_type": "code",
   "execution_count": 5,
   "metadata": {},
   "outputs": [],
   "source": [
    "\n",
    "mvps = pd.read_csv(\"mvps.csv\", encoding='latin-1', sep=\";\")\n",
    "player_mvp_stats = pd.read_csv(\"player_mvp_stats.csv\", encoding='latin-1', sep=\";\")\n",
    "players = pd.read_csv(\"players.csv\", encoding='latin-1', sep=\";\")\n",
    "teams = pd.read_csv(\"teams.csv\", encoding='latin-1', sep=\";\")\n",
    "nicknames = pd.read_csv(\"nicknames.csv\", encoding='latin-1', sep=\";\")"
   ]
  },
  {
   "cell_type": "markdown",
   "metadata": {},
   "source": [
    "**Sélection des Premiers au classement des MVP** "
   ]
  },
  {
   "cell_type": "code",
   "execution_count": 6,
   "metadata": {},
   "outputs": [
    {
     "name": "stdout",
     "output_type": "stream",
     "text": [
      "    Rank                 Player  Age   Tm  First  Pts Won  Pts Max  Share   G  \\\n",
      "0      1         Michael Jordan   27  CHI     77      891      960  0.928  82   \n",
      "20     1         Michael Jordan   28  CHI     80      900      960  0.938  80   \n",
      "37     1        Charles Barkley   29  PHO     59      835      980  0.852  76   \n",
      "51     1        Hakeem Olajuwon   31  HOU     66      889     1010  0.880  80   \n",
      "68     1         David Robinson   29  SAS     73      901     1050  0.858  81   \n",
      "83     1         Michael Jordan   32  CHI    109     1114     1130  0.986  82   \n",
      "100    1            Karl Malone   33  UTA     63      986     1150  0.857  82   \n",
      "120    1         Michael Jordan   34  CHI     92     1084     1160  0.934  82   \n",
      "139    1            Karl Malone   35  UTA     44      827     1180  0.701  49   \n",
      "160    1       Shaquille O'Neal   27  LAL    120     1207     1210  0.998  79   \n",
      "176    1          Allen Iverson   25  PHI     93     1121     1240  0.904  71   \n",
      "193    1             Tim Duncan   25  SAS     57      954     1260  0.757  82   \n",
      "211    1             Tim Duncan   26  SAS     60      962     1190  0.808  81   \n",
      "224    1          Kevin Garnett   27  MIN    120     1219     1230  0.991  82   \n",
      "240    1             Steve Nash   30  PHO     65     1066     1270  0.839  75   \n",
      "256    1             Steve Nash   31  PHO     57      924     1250  0.739  79   \n",
      "267    1          Dirk Nowitzki   28  DAL     83     1138     1290  0.882  78   \n",
      "284    1            Kobe Bryant   29  LAL     82     1100     1260  0.873  82   \n",
      "301    1           LeBron James   24  CLE    109     1172     1210  0.969  81   \n",
      "313    1           LeBron James   25  CLE    116     1205     1230  0.980  76   \n",
      "328    1           Derrick Rose   22  CHI    113     1182     1210  0.977  81   \n",
      "341    1           LeBron James   27  MIA     85     1074     1210  0.888  62   \n",
      "356    1           LeBron James   28  MIA    120     1207     1210  0.998  76   \n",
      "372    1           Kevin Durant   25  OKC    119     1232     1250  0.986  81   \n",
      "389    1          Stephen Curry   26  GSW    100     1198     1300  0.922  80   \n",
      "401    1          Stephen Curry   27  GSW    131     1310     1310  1.000  79   \n",
      "411    1      Russell Westbrook   28  OKC     69      888     1010  0.879  81   \n",
      "422    1           James Harden   28  HOU     86      965     1010  0.955  72   \n",
      "435    1  Giannis Antetokounmpo   24  MIL     78      941     1010  0.932  72   \n",
      "447    1  Giannis Antetokounmpo   25  MIL     85      962     1010  0.952  63   \n",
      "459    1           Nikola Joki?   25  DEN     91      971     1010  0.961  72   \n",
      "\n",
      "       MP  ...   TRB   AST  STL  BLK    FG%    3P%    FT%    WS  WS/48  Year  \n",
      "0    37.0  ...   6.0   5.5  2.7  1.0  0.539  0.312  0.851  20.3  0.321  1991  \n",
      "20   38.8  ...   6.4   6.1  2.3  0.9  0.519  0.270  0.832  17.7  0.274  1992  \n",
      "37   37.6  ...  12.2   5.1  1.6  1.0  0.520  0.305  0.765  14.4  0.242  1993  \n",
      "51   41.0  ...  11.9   3.6  1.6  3.7  0.528  0.421  0.716  14.3  0.210  1994  \n",
      "68   38.0  ...  10.8   2.9  1.7  3.2  0.530  0.300  0.774  17.5  0.273  1995  \n",
      "83   37.7  ...   6.6   4.3  2.2  0.5  0.495  0.427  0.834  20.4  0.317  1996  \n",
      "100  36.6  ...   9.9   4.5  1.4  0.6  0.550  0.000  0.755  16.7  0.268  1997  \n",
      "120  38.8  ...   5.8   3.5  1.7  0.5  0.465  0.238  0.784  15.8  0.238  1998  \n",
      "139  37.4  ...   9.4   4.1  1.3  0.6  0.493  0.000  0.788   9.6  0.252  1999  \n",
      "160  40.0  ...  13.6   3.8  0.5  3.0  0.574  0.000  0.524  18.6  0.283  2000  \n",
      "176  42.0  ...   3.8   4.6  2.5  0.3  0.420  0.320  0.814  11.8  0.190  2001  \n",
      "193  40.6  ...  12.7   3.7  0.7  2.5  0.508  0.100  0.799  17.8  0.257  2002  \n",
      "211  39.3  ...  12.9   3.9  0.7  2.9  0.513  0.273  0.710  16.5  0.248  2003  \n",
      "224  39.4  ...  13.9   5.0  1.5  2.2  0.499  0.256  0.791  18.3  0.272  2004  \n",
      "240  34.3  ...   3.3  11.5  1.0  0.1  0.502  0.431  0.887  10.9  0.203  2005  \n",
      "256  35.4  ...   4.2  10.5  0.8  0.2  0.512  0.439  0.921  12.4  0.212  2006  \n",
      "267  36.2  ...   8.9   3.4  0.7  0.8  0.502  0.416  0.904  16.3  0.278  2007  \n",
      "284  38.9  ...   6.3   5.4  1.8  0.5  0.459  0.361  0.840  13.8  0.208  2008  \n",
      "301  37.7  ...   7.6   7.2  1.7  1.1  0.489  0.344  0.780  20.3  0.318  2009  \n",
      "313  39.0  ...   7.3   8.6  1.6  1.0  0.503  0.333  0.767  18.5  0.299  2010  \n",
      "328  37.4  ...   4.1   7.7  1.0  0.6  0.445  0.332  0.858  13.1  0.208  2011  \n",
      "341  37.5  ...   7.9   6.2  1.9  0.8  0.531  0.362  0.771  14.5  0.298  2012  \n",
      "356  37.9  ...   8.0   7.3  1.7  0.9  0.565  0.406  0.753  19.3  0.322  2013  \n",
      "372  38.5  ...   7.4   5.5  1.3  0.7  0.503  0.391  0.873  19.2  0.295  2014  \n",
      "389  32.7  ...   4.3   7.7  2.0  0.2  0.487  0.443  0.914  15.7  0.288  2015  \n",
      "401  34.2  ...   5.4   6.7  2.1  0.2  0.504  0.454  0.908  17.9  0.318  2016  \n",
      "411  34.6  ...  10.7  10.4  1.6  0.4  0.425  0.343  0.845  13.1  0.224  2017  \n",
      "422  35.4  ...   5.4   8.8  1.8  0.7  0.449  0.367  0.858  15.4  0.289  2018  \n",
      "435  32.8  ...  12.5   5.9  1.3  1.5  0.578  0.256  0.729  14.4  0.292  2019  \n",
      "447  30.4  ...  13.6   5.6  1.0  1.0  0.553  0.304  0.633  11.1  0.279  2020  \n",
      "459  34.6  ...  10.8   8.3  1.3  0.7  0.566  0.388  0.868  15.6  0.301  2021  \n",
      "\n",
      "[31 rows x 21 columns]\n"
     ]
    }
   ],
   "source": [
    "mvps = mvps[mvps[\"Rank\"] == \"1\"]\n",
    "print(mvps)"
   ]
  },
  {
   "cell_type": "markdown",
   "metadata": {},
   "source": []
  },
  {
   "cell_type": "markdown",
   "metadata": {},
   "source": [
    "**Ajouter la colonne Pos(position du joueur) à MVPS'**"
   ]
  },
  {
   "cell_type": "code",
   "execution_count": 7,
   "metadata": {},
   "outputs": [
    {
     "name": "stdout",
     "output_type": "stream",
     "text": [
      "   Rank                 Player  Age   Tm  First  Pts Won  Pts Max  Share   G  \\\n",
      "0     1         Michael Jordan   27  CHI     77      891      960  0.928  82   \n",
      "1     1         Michael Jordan   28  CHI     80      900      960  0.938  80   \n",
      "2     1        Charles Barkley   29  PHO     59      835      980  0.852  76   \n",
      "3     1        Hakeem Olajuwon   31  HOU     66      889     1010  0.880  80   \n",
      "4     1         David Robinson   29  SAS     73      901     1050  0.858  81   \n",
      "5     1         Michael Jordan   32  CHI    109     1114     1130  0.986  82   \n",
      "6     1            Karl Malone   33  UTA     63      986     1150  0.857  82   \n",
      "7     1         Michael Jordan   34  CHI     92     1084     1160  0.934  82   \n",
      "8     1            Karl Malone   35  UTA     44      827     1180  0.701  49   \n",
      "9     1       Shaquille O'Neal   27  LAL    120     1207     1210  0.998  79   \n",
      "10    1          Allen Iverson   25  PHI     93     1121     1240  0.904  71   \n",
      "11    1             Tim Duncan   25  SAS     57      954     1260  0.757  82   \n",
      "12    1             Tim Duncan   26  SAS     60      962     1190  0.808  81   \n",
      "13    1          Kevin Garnett   27  MIN    120     1219     1230  0.991  82   \n",
      "14    1             Steve Nash   30  PHO     65     1066     1270  0.839  75   \n",
      "15    1             Steve Nash   31  PHO     57      924     1250  0.739  79   \n",
      "16    1          Dirk Nowitzki   28  DAL     83     1138     1290  0.882  78   \n",
      "17    1            Kobe Bryant   29  LAL     82     1100     1260  0.873  82   \n",
      "18    1           LeBron James   24  CLE    109     1172     1210  0.969  81   \n",
      "19    1           LeBron James   25  CLE    116     1205     1230  0.980  76   \n",
      "20    1           Derrick Rose   22  CHI    113     1182     1210  0.977  81   \n",
      "21    1           LeBron James   27  MIA     85     1074     1210  0.888  62   \n",
      "22    1           LeBron James   28  MIA    120     1207     1210  0.998  76   \n",
      "23    1           Kevin Durant   25  OKC    119     1232     1250  0.986  81   \n",
      "24    1          Stephen Curry   26  GSW    100     1198     1300  0.922  80   \n",
      "25    1          Stephen Curry   27  GSW    131     1310     1310  1.000  79   \n",
      "26    1      Russell Westbrook   28  OKC     69      888     1010  0.879  81   \n",
      "27    1           James Harden   28  HOU     86      965     1010  0.955  72   \n",
      "28    1  Giannis Antetokounmpo   24  MIL     78      941     1010  0.932  72   \n",
      "29    1  Giannis Antetokounmpo   25  MIL     85      962     1010  0.952  63   \n",
      "30    1           Nikola Joki?   25  DEN     91      971     1010  0.961  72   \n",
      "\n",
      "      MP   PTS   TRB   AST  STL  BLK    FG%    3P%    FT%    WS  WS/48  Year  \\\n",
      "0   37.0  31.5   6.0   5.5  2.7  1.0  0.539  0.312  0.851  20.3  0.321  1991   \n",
      "1   38.8  30.1   6.4   6.1  2.3  0.9  0.519  0.270  0.832  17.7  0.274  1992   \n",
      "2   37.6  25.6  12.2   5.1  1.6  1.0  0.520  0.305  0.765  14.4  0.242  1993   \n",
      "3   41.0  27.3  11.9   3.6  1.6  3.7  0.528  0.421  0.716  14.3  0.210  1994   \n",
      "4   38.0  27.6  10.8   2.9  1.7  3.2  0.530  0.300  0.774  17.5  0.273  1995   \n",
      "5   37.7  30.4   6.6   4.3  2.2  0.5  0.495  0.427  0.834  20.4  0.317  1996   \n",
      "6   36.6  27.4   9.9   4.5  1.4  0.6  0.550  0.000  0.755  16.7  0.268  1997   \n",
      "7   38.8  28.7   5.8   3.5  1.7  0.5  0.465  0.238  0.784  15.8  0.238  1998   \n",
      "8   37.4  23.8   9.4   4.1  1.3  0.6  0.493  0.000  0.788   9.6  0.252  1999   \n",
      "9   40.0  29.7  13.6   3.8  0.5  3.0  0.574  0.000  0.524  18.6  0.283  2000   \n",
      "10  42.0  31.1   3.8   4.6  2.5  0.3  0.420  0.320  0.814  11.8  0.190  2001   \n",
      "11  40.6  25.5  12.7   3.7  0.7  2.5  0.508  0.100  0.799  17.8  0.257  2002   \n",
      "12  39.3  23.3  12.9   3.9  0.7  2.9  0.513  0.273  0.710  16.5  0.248  2003   \n",
      "13  39.4  24.2  13.9   5.0  1.5  2.2  0.499  0.256  0.791  18.3  0.272  2004   \n",
      "14  34.3  15.5   3.3  11.5  1.0  0.1  0.502  0.431  0.887  10.9  0.203  2005   \n",
      "15  35.4  18.8   4.2  10.5  0.8  0.2  0.512  0.439  0.921  12.4  0.212  2006   \n",
      "16  36.2  24.6   8.9   3.4  0.7  0.8  0.502  0.416  0.904  16.3  0.278  2007   \n",
      "17  38.9  28.3   6.3   5.4  1.8  0.5  0.459  0.361  0.840  13.8  0.208  2008   \n",
      "18  37.7  28.4   7.6   7.2  1.7  1.1  0.489  0.344  0.780  20.3  0.318  2009   \n",
      "19  39.0  29.7   7.3   8.6  1.6  1.0  0.503  0.333  0.767  18.5  0.299  2010   \n",
      "20  37.4  25.0   4.1   7.7  1.0  0.6  0.445  0.332  0.858  13.1  0.208  2011   \n",
      "21  37.5  27.1   7.9   6.2  1.9  0.8  0.531  0.362  0.771  14.5  0.298  2012   \n",
      "22  37.9  26.8   8.0   7.3  1.7  0.9  0.565  0.406  0.753  19.3  0.322  2013   \n",
      "23  38.5  32.0   7.4   5.5  1.3  0.7  0.503  0.391  0.873  19.2  0.295  2014   \n",
      "24  32.7  23.8   4.3   7.7  2.0  0.2  0.487  0.443  0.914  15.7  0.288  2015   \n",
      "25  34.2  30.1   5.4   6.7  2.1  0.2  0.504  0.454  0.908  17.9  0.318  2016   \n",
      "26  34.6  31.6  10.7  10.4  1.6  0.4  0.425  0.343  0.845  13.1  0.224  2017   \n",
      "27  35.4  30.4   5.4   8.8  1.8  0.7  0.449  0.367  0.858  15.4  0.289  2018   \n",
      "28  32.8  27.7  12.5   5.9  1.3  1.5  0.578  0.256  0.729  14.4  0.292  2019   \n",
      "29  30.4  29.5  13.6   5.6  1.0  1.0  0.553  0.304  0.633  11.1  0.279  2020   \n",
      "30  34.6  26.4  10.8   8.3  1.3  0.7  0.566  0.388  0.868  15.6  0.301  2021   \n",
      "\n",
      "   Pos  \n",
      "0   SG  \n",
      "1   SG  \n",
      "2   PF  \n",
      "3    C  \n",
      "4    C  \n",
      "5   SG  \n",
      "6   PF  \n",
      "7   SG  \n",
      "8   PF  \n",
      "9    C  \n",
      "10  SG  \n",
      "11  PF  \n",
      "12  PF  \n",
      "13  PF  \n",
      "14  PG  \n",
      "15  PG  \n",
      "16  PF  \n",
      "17  SG  \n",
      "18  SF  \n",
      "19  SF  \n",
      "20  PG  \n",
      "21  SF  \n",
      "22  PF  \n",
      "23  SF  \n",
      "24  PG  \n",
      "25  PG  \n",
      "26  PG  \n",
      "27  SG  \n",
      "28  PF  \n",
      "29  PF  \n",
      "30   C  \n"
     ]
    }
   ],
   "source": [
    "for i, player in enumerate(players['Player']):\n",
    "    players.loc[i, 'Player'] = player.replace('*', '')\n",
    "\n",
    "# Fusionner les DataFrames en fonction des colonnes 'Player' et 'Year'\n",
    "mvps_merged = pd.merge(mvps, players[['Player', 'Year', 'Pos']], on=['Player', 'Year'], how='left')\n",
    "pd.options.display.max_columns = None\n",
    "print(mvps_merged)"
   ]
  },
  {
   "cell_type": "code",
   "execution_count": 8,
   "metadata": {},
   "outputs": [
    {
     "name": "stdout",
     "output_type": "stream",
     "text": [
      "   Rank                 Player  Age   Tm  First  Pts Won  Pts Max  Share   G  \\\n",
      "0     1         Michael Jordan   27  CHI     77      891      960  0.928  82   \n",
      "1     1         Michael Jordan   28  CHI     80      900      960  0.938  80   \n",
      "2     1        Charles Barkley   29  PHO     59      835      980  0.852  76   \n",
      "3     1        Hakeem Olajuwon   31  HOU     66      889     1010  0.880  80   \n",
      "4     1         David Robinson   29  SAS     73      901     1050  0.858  81   \n",
      "5     1         Michael Jordan   32  CHI    109     1114     1130  0.986  82   \n",
      "6     1            Karl Malone   33  UTA     63      986     1150  0.857  82   \n",
      "7     1         Michael Jordan   34  CHI     92     1084     1160  0.934  82   \n",
      "8     1            Karl Malone   35  UTA     44      827     1180  0.701  49   \n",
      "9     1       Shaquille O'Neal   27  LAL    120     1207     1210  0.998  79   \n",
      "10    1          Allen Iverson   25  PHI     93     1121     1240  0.904  71   \n",
      "11    1             Tim Duncan   25  SAS     57      954     1260  0.757  82   \n",
      "12    1             Tim Duncan   26  SAS     60      962     1190  0.808  81   \n",
      "13    1          Kevin Garnett   27  MIN    120     1219     1230  0.991  82   \n",
      "14    1             Steve Nash   30  PHO     65     1066     1270  0.839  75   \n",
      "15    1             Steve Nash   31  PHO     57      924     1250  0.739  79   \n",
      "16    1          Dirk Nowitzki   28  DAL     83     1138     1290  0.882  78   \n",
      "17    1            Kobe Bryant   29  LAL     82     1100     1260  0.873  82   \n",
      "18    1           LeBron James   24  CLE    109     1172     1210  0.969  81   \n",
      "19    1           LeBron James   25  CLE    116     1205     1230  0.980  76   \n",
      "20    1           Derrick Rose   22  CHI    113     1182     1210  0.977  81   \n",
      "21    1           LeBron James   27  MIA     85     1074     1210  0.888  62   \n",
      "22    1           LeBron James   28  MIA    120     1207     1210  0.998  76   \n",
      "23    1           Kevin Durant   25  OKC    119     1232     1250  0.986  81   \n",
      "24    1          Stephen Curry   26  GSW    100     1198     1300  0.922  80   \n",
      "25    1          Stephen Curry   27  GSW    131     1310     1310  1.000  79   \n",
      "26    1      Russell Westbrook   28  OKC     69      888     1010  0.879  81   \n",
      "27    1           James Harden   28  HOU     86      965     1010  0.955  72   \n",
      "28    1  Giannis Antetokounmpo   24  MIL     78      941     1010  0.932  72   \n",
      "29    1  Giannis Antetokounmpo   25  MIL     85      962     1010  0.952  63   \n",
      "30    1           Nikola Joki?   25  DEN     91      971     1010  0.961  72   \n",
      "\n",
      "      MP   PTS   TRB   AST  STL  BLK    FG%    3P%    FT%    WS  WS/48  Year  \\\n",
      "0   37.0  31.5   6.0   5.5  2.7  1.0  0.539  0.312  0.851  20.3  0.321  1991   \n",
      "1   38.8  30.1   6.4   6.1  2.3  0.9  0.519  0.270  0.832  17.7  0.274  1992   \n",
      "2   37.6  25.6  12.2   5.1  1.6  1.0  0.520  0.305  0.765  14.4  0.242  1993   \n",
      "3   41.0  27.3  11.9   3.6  1.6  3.7  0.528  0.421  0.716  14.3  0.210  1994   \n",
      "4   38.0  27.6  10.8   2.9  1.7  3.2  0.530  0.300  0.774  17.5  0.273  1995   \n",
      "5   37.7  30.4   6.6   4.3  2.2  0.5  0.495  0.427  0.834  20.4  0.317  1996   \n",
      "6   36.6  27.4   9.9   4.5  1.4  0.6  0.550  0.000  0.755  16.7  0.268  1997   \n",
      "7   38.8  28.7   5.8   3.5  1.7  0.5  0.465  0.238  0.784  15.8  0.238  1998   \n",
      "8   37.4  23.8   9.4   4.1  1.3  0.6  0.493  0.000  0.788   9.6  0.252  1999   \n",
      "9   40.0  29.7  13.6   3.8  0.5  3.0  0.574  0.000  0.524  18.6  0.283  2000   \n",
      "10  42.0  31.1   3.8   4.6  2.5  0.3  0.420  0.320  0.814  11.8  0.190  2001   \n",
      "11  40.6  25.5  12.7   3.7  0.7  2.5  0.508  0.100  0.799  17.8  0.257  2002   \n",
      "12  39.3  23.3  12.9   3.9  0.7  2.9  0.513  0.273  0.710  16.5  0.248  2003   \n",
      "13  39.4  24.2  13.9   5.0  1.5  2.2  0.499  0.256  0.791  18.3  0.272  2004   \n",
      "14  34.3  15.5   3.3  11.5  1.0  0.1  0.502  0.431  0.887  10.9  0.203  2005   \n",
      "15  35.4  18.8   4.2  10.5  0.8  0.2  0.512  0.439  0.921  12.4  0.212  2006   \n",
      "16  36.2  24.6   8.9   3.4  0.7  0.8  0.502  0.416  0.904  16.3  0.278  2007   \n",
      "17  38.9  28.3   6.3   5.4  1.8  0.5  0.459  0.361  0.840  13.8  0.208  2008   \n",
      "18  37.7  28.4   7.6   7.2  1.7  1.1  0.489  0.344  0.780  20.3  0.318  2009   \n",
      "19  39.0  29.7   7.3   8.6  1.6  1.0  0.503  0.333  0.767  18.5  0.299  2010   \n",
      "20  37.4  25.0   4.1   7.7  1.0  0.6  0.445  0.332  0.858  13.1  0.208  2011   \n",
      "21  37.5  27.1   7.9   6.2  1.9  0.8  0.531  0.362  0.771  14.5  0.298  2012   \n",
      "22  37.9  26.8   8.0   7.3  1.7  0.9  0.565  0.406  0.753  19.3  0.322  2013   \n",
      "23  38.5  32.0   7.4   5.5  1.3  0.7  0.503  0.391  0.873  19.2  0.295  2014   \n",
      "24  32.7  23.8   4.3   7.7  2.0  0.2  0.487  0.443  0.914  15.7  0.288  2015   \n",
      "25  34.2  30.1   5.4   6.7  2.1  0.2  0.504  0.454  0.908  17.9  0.318  2016   \n",
      "26  34.6  31.6  10.7  10.4  1.6  0.4  0.425  0.343  0.845  13.1  0.224  2017   \n",
      "27  35.4  30.4   5.4   8.8  1.8  0.7  0.449  0.367  0.858  15.4  0.289  2018   \n",
      "28  32.8  27.7  12.5   5.9  1.3  1.5  0.578  0.256  0.729  14.4  0.292  2019   \n",
      "29  30.4  29.5  13.6   5.6  1.0  1.0  0.553  0.304  0.633  11.1  0.279  2020   \n",
      "30  34.6  26.4  10.8   8.3  1.3  0.7  0.566  0.388  0.868  15.6  0.301  2021   \n",
      "\n",
      "   Pos                    Name  \n",
      "0   SG           Chicago Bulls  \n",
      "1   SG           Chicago Bulls  \n",
      "2   PF            Phoenix Suns  \n",
      "3    C         Houston Rockets  \n",
      "4    C       San Antonio Spurs  \n",
      "5   SG           Chicago Bulls  \n",
      "6   PF               Utah Jazz  \n",
      "7   SG           Chicago Bulls  \n",
      "8   PF               Utah Jazz  \n",
      "9    C      Los Angeles Lakers  \n",
      "10  SG      Philadelphia 76ers  \n",
      "11  PF       San Antonio Spurs  \n",
      "12  PF       San Antonio Spurs  \n",
      "13  PF  Minnesota Timberwolves  \n",
      "14  PG            Phoenix Suns  \n",
      "15  PG            Phoenix Suns  \n",
      "16  PF        Dallas Mavericks  \n",
      "17  SG      Los Angeles Lakers  \n",
      "18  SF     Cleveland Cavaliers  \n",
      "19  SF     Cleveland Cavaliers  \n",
      "20  PG           Chicago Bulls  \n",
      "21  SF              Miami Heat  \n",
      "22  PF              Miami Heat  \n",
      "23  SF   Oklahoma City Thunder  \n",
      "24  PG   Golden State Warriors  \n",
      "25  PG   Golden State Warriors  \n",
      "26  PG   Oklahoma City Thunder  \n",
      "27  SG         Houston Rockets  \n",
      "28  PF         Milwaukee Bucks  \n",
      "29  PF         Milwaukee Bucks  \n",
      "30   C          Denver Nuggets  \n"
     ]
    }
   ],
   "source": [
    "# Fusionner les DataFrames en fonction des colonnes 'Tm' et 'Abbreviation'\n",
    "mvps_merged = pd.merge(mvps_merged, nicknames[['Abbreviation','Name']], left_on='Tm', right_on='Abbreviation')\n",
    "mvps_merged = mvps_merged.drop(columns=\"Abbreviation\")\n",
    "print(mvps_merged)\n"
   ]
  },
  {
   "cell_type": "code",
   "execution_count": 9,
   "metadata": {},
   "outputs": [],
   "source": [
    "# Suppression des \" * \" dnas le jeu des données\n",
    "\n",
    "teams[\"Team\"] = teams[\"Team\"].str.replace(\"*\", \"\")"
   ]
  },
  {
   "cell_type": "markdown",
   "metadata": {},
   "source": [
    "**Affichage des doublons**"
   ]
  },
  {
   "cell_type": "code",
   "execution_count": 10,
   "metadata": {},
   "outputs": [
    {
     "name": "stdout",
     "output_type": "stream",
     "text": [
      "[]\n"
     ]
    }
   ],
   "source": [
    "# Grouper les données par an et equipe\n",
    "grouped_by_year_team = teams.groupby([\"Year\", \"Team\"])\n",
    "\n",
    "# Itérrer pour vérifier les doublons\n",
    "doublon = []\n",
    "for (year, team), group in grouped_by_year_team:\n",
    "    #print(year, team)\n",
    "    if len(group) > 1:\n",
    "        doublon.append(group)\n",
    "        print(f\"In {year}, the team {team} appears multiple times.\")\n",
    "        print(group)\n",
    "        print()\n",
    "print(doublon)"
   ]
  },
  {
   "cell_type": "markdown",
   "metadata": {},
   "source": [
    "**Fusion des colonnes d'autres fichiers**"
   ]
  },
  {
   "cell_type": "code",
   "execution_count": 11,
   "metadata": {},
   "outputs": [
    {
     "data": {
      "text/html": [
       "<div>\n",
       "<style scoped>\n",
       "    .dataframe tbody tr th:only-of-type {\n",
       "        vertical-align: middle;\n",
       "    }\n",
       "\n",
       "    .dataframe tbody tr th {\n",
       "        vertical-align: top;\n",
       "    }\n",
       "\n",
       "    .dataframe thead th {\n",
       "        text-align: right;\n",
       "    }\n",
       "</style>\n",
       "<table border=\"1\" class=\"dataframe\">\n",
       "  <thead>\n",
       "    <tr style=\"text-align: right;\">\n",
       "      <th></th>\n",
       "      <th>Rank</th>\n",
       "      <th>Player</th>\n",
       "      <th>Age</th>\n",
       "      <th>Tm</th>\n",
       "      <th>First</th>\n",
       "      <th>Pts Won</th>\n",
       "      <th>Pts Max</th>\n",
       "      <th>Share</th>\n",
       "      <th>G</th>\n",
       "      <th>MP</th>\n",
       "      <th>PTS</th>\n",
       "      <th>TRB</th>\n",
       "      <th>AST</th>\n",
       "      <th>STL</th>\n",
       "      <th>BLK</th>\n",
       "      <th>FG%</th>\n",
       "      <th>3P%</th>\n",
       "      <th>FT%</th>\n",
       "      <th>WS</th>\n",
       "      <th>WS/48</th>\n",
       "      <th>Year</th>\n",
       "      <th>Pos</th>\n",
       "      <th>Name</th>\n",
       "      <th>W</th>\n",
       "      <th>L</th>\n",
       "      <th>W/L%</th>\n",
       "      <th>GB</th>\n",
       "      <th>PS/G</th>\n",
       "      <th>PA/G</th>\n",
       "      <th>SRS</th>\n",
       "      <th>Team</th>\n",
       "    </tr>\n",
       "  </thead>\n",
       "  <tbody>\n",
       "    <tr>\n",
       "      <th>0</th>\n",
       "      <td>1</td>\n",
       "      <td>Michael Jordan</td>\n",
       "      <td>27</td>\n",
       "      <td>CHI</td>\n",
       "      <td>77</td>\n",
       "      <td>891</td>\n",
       "      <td>960</td>\n",
       "      <td>0.928</td>\n",
       "      <td>82</td>\n",
       "      <td>37.0</td>\n",
       "      <td>31.5</td>\n",
       "      <td>6.0</td>\n",
       "      <td>5.5</td>\n",
       "      <td>2.7</td>\n",
       "      <td>1.0</td>\n",
       "      <td>0.539</td>\n",
       "      <td>0.312</td>\n",
       "      <td>0.851</td>\n",
       "      <td>20.3</td>\n",
       "      <td>0.321</td>\n",
       "      <td>1991</td>\n",
       "      <td>SG</td>\n",
       "      <td>Chicago Bulls</td>\n",
       "      <td>61</td>\n",
       "      <td>21</td>\n",
       "      <td>0.744</td>\n",
       "      <td></td>\n",
       "      <td>110</td>\n",
       "      <td>101</td>\n",
       "      <td>8.57</td>\n",
       "      <td>Chicago Bulls</td>\n",
       "    </tr>\n",
       "    <tr>\n",
       "      <th>1</th>\n",
       "      <td>1</td>\n",
       "      <td>Michael Jordan</td>\n",
       "      <td>28</td>\n",
       "      <td>CHI</td>\n",
       "      <td>80</td>\n",
       "      <td>900</td>\n",
       "      <td>960</td>\n",
       "      <td>0.938</td>\n",
       "      <td>80</td>\n",
       "      <td>38.8</td>\n",
       "      <td>30.1</td>\n",
       "      <td>6.4</td>\n",
       "      <td>6.1</td>\n",
       "      <td>2.3</td>\n",
       "      <td>0.9</td>\n",
       "      <td>0.519</td>\n",
       "      <td>0.270</td>\n",
       "      <td>0.832</td>\n",
       "      <td>17.7</td>\n",
       "      <td>0.274</td>\n",
       "      <td>1992</td>\n",
       "      <td>SG</td>\n",
       "      <td>Chicago Bulls</td>\n",
       "      <td>67</td>\n",
       "      <td>15</td>\n",
       "      <td>0.817</td>\n",
       "      <td></td>\n",
       "      <td>109.9</td>\n",
       "      <td>99.5</td>\n",
       "      <td>10.07</td>\n",
       "      <td>Chicago Bulls</td>\n",
       "    </tr>\n",
       "    <tr>\n",
       "      <th>2</th>\n",
       "      <td>1</td>\n",
       "      <td>Charles Barkley</td>\n",
       "      <td>29</td>\n",
       "      <td>PHO</td>\n",
       "      <td>59</td>\n",
       "      <td>835</td>\n",
       "      <td>980</td>\n",
       "      <td>0.852</td>\n",
       "      <td>76</td>\n",
       "      <td>37.6</td>\n",
       "      <td>25.6</td>\n",
       "      <td>12.2</td>\n",
       "      <td>5.1</td>\n",
       "      <td>1.6</td>\n",
       "      <td>1.0</td>\n",
       "      <td>0.520</td>\n",
       "      <td>0.305</td>\n",
       "      <td>0.765</td>\n",
       "      <td>14.4</td>\n",
       "      <td>0.242</td>\n",
       "      <td>1993</td>\n",
       "      <td>PF</td>\n",
       "      <td>Phoenix Suns</td>\n",
       "      <td>62</td>\n",
       "      <td>20</td>\n",
       "      <td>0.756</td>\n",
       "      <td></td>\n",
       "      <td>113.4</td>\n",
       "      <td>106.7</td>\n",
       "      <td>6.27</td>\n",
       "      <td>Phoenix Suns</td>\n",
       "    </tr>\n",
       "    <tr>\n",
       "      <th>3</th>\n",
       "      <td>1</td>\n",
       "      <td>Hakeem Olajuwon</td>\n",
       "      <td>31</td>\n",
       "      <td>HOU</td>\n",
       "      <td>66</td>\n",
       "      <td>889</td>\n",
       "      <td>1010</td>\n",
       "      <td>0.880</td>\n",
       "      <td>80</td>\n",
       "      <td>41.0</td>\n",
       "      <td>27.3</td>\n",
       "      <td>11.9</td>\n",
       "      <td>3.6</td>\n",
       "      <td>1.6</td>\n",
       "      <td>3.7</td>\n",
       "      <td>0.528</td>\n",
       "      <td>0.421</td>\n",
       "      <td>0.716</td>\n",
       "      <td>14.3</td>\n",
       "      <td>0.210</td>\n",
       "      <td>1994</td>\n",
       "      <td>C</td>\n",
       "      <td>Houston Rockets</td>\n",
       "      <td>58</td>\n",
       "      <td>24</td>\n",
       "      <td>0.707</td>\n",
       "      <td></td>\n",
       "      <td>101.1</td>\n",
       "      <td>96.8</td>\n",
       "      <td>4.19</td>\n",
       "      <td>Houston Rockets</td>\n",
       "    </tr>\n",
       "    <tr>\n",
       "      <th>4</th>\n",
       "      <td>1</td>\n",
       "      <td>David Robinson</td>\n",
       "      <td>29</td>\n",
       "      <td>SAS</td>\n",
       "      <td>73</td>\n",
       "      <td>901</td>\n",
       "      <td>1050</td>\n",
       "      <td>0.858</td>\n",
       "      <td>81</td>\n",
       "      <td>38.0</td>\n",
       "      <td>27.6</td>\n",
       "      <td>10.8</td>\n",
       "      <td>2.9</td>\n",
       "      <td>1.7</td>\n",
       "      <td>3.2</td>\n",
       "      <td>0.530</td>\n",
       "      <td>0.300</td>\n",
       "      <td>0.774</td>\n",
       "      <td>17.5</td>\n",
       "      <td>0.273</td>\n",
       "      <td>1995</td>\n",
       "      <td>C</td>\n",
       "      <td>San Antonio Spurs</td>\n",
       "      <td>62</td>\n",
       "      <td>20</td>\n",
       "      <td>0.756</td>\n",
       "      <td></td>\n",
       "      <td>106.6</td>\n",
       "      <td>100.6</td>\n",
       "      <td>5.9</td>\n",
       "      <td>San Antonio Spurs</td>\n",
       "    </tr>\n",
       "    <tr>\n",
       "      <th>5</th>\n",
       "      <td>1</td>\n",
       "      <td>Michael Jordan</td>\n",
       "      <td>32</td>\n",
       "      <td>CHI</td>\n",
       "      <td>109</td>\n",
       "      <td>1114</td>\n",
       "      <td>1130</td>\n",
       "      <td>0.986</td>\n",
       "      <td>82</td>\n",
       "      <td>37.7</td>\n",
       "      <td>30.4</td>\n",
       "      <td>6.6</td>\n",
       "      <td>4.3</td>\n",
       "      <td>2.2</td>\n",
       "      <td>0.5</td>\n",
       "      <td>0.495</td>\n",
       "      <td>0.427</td>\n",
       "      <td>0.834</td>\n",
       "      <td>20.4</td>\n",
       "      <td>0.317</td>\n",
       "      <td>1996</td>\n",
       "      <td>SG</td>\n",
       "      <td>Chicago Bulls</td>\n",
       "      <td>72</td>\n",
       "      <td>10</td>\n",
       "      <td>0.878</td>\n",
       "      <td></td>\n",
       "      <td>105.2</td>\n",
       "      <td>92.9</td>\n",
       "      <td>11.8</td>\n",
       "      <td>Chicago Bulls</td>\n",
       "    </tr>\n",
       "    <tr>\n",
       "      <th>6</th>\n",
       "      <td>1</td>\n",
       "      <td>Karl Malone</td>\n",
       "      <td>33</td>\n",
       "      <td>UTA</td>\n",
       "      <td>63</td>\n",
       "      <td>986</td>\n",
       "      <td>1150</td>\n",
       "      <td>0.857</td>\n",
       "      <td>82</td>\n",
       "      <td>36.6</td>\n",
       "      <td>27.4</td>\n",
       "      <td>9.9</td>\n",
       "      <td>4.5</td>\n",
       "      <td>1.4</td>\n",
       "      <td>0.6</td>\n",
       "      <td>0.550</td>\n",
       "      <td>0.000</td>\n",
       "      <td>0.755</td>\n",
       "      <td>16.7</td>\n",
       "      <td>0.268</td>\n",
       "      <td>1997</td>\n",
       "      <td>PF</td>\n",
       "      <td>Utah Jazz</td>\n",
       "      <td>64</td>\n",
       "      <td>18</td>\n",
       "      <td>0.78</td>\n",
       "      <td></td>\n",
       "      <td>103.1</td>\n",
       "      <td>94.3</td>\n",
       "      <td>7.97</td>\n",
       "      <td>Utah Jazz</td>\n",
       "    </tr>\n",
       "    <tr>\n",
       "      <th>7</th>\n",
       "      <td>1</td>\n",
       "      <td>Michael Jordan</td>\n",
       "      <td>34</td>\n",
       "      <td>CHI</td>\n",
       "      <td>92</td>\n",
       "      <td>1084</td>\n",
       "      <td>1160</td>\n",
       "      <td>0.934</td>\n",
       "      <td>82</td>\n",
       "      <td>38.8</td>\n",
       "      <td>28.7</td>\n",
       "      <td>5.8</td>\n",
       "      <td>3.5</td>\n",
       "      <td>1.7</td>\n",
       "      <td>0.5</td>\n",
       "      <td>0.465</td>\n",
       "      <td>0.238</td>\n",
       "      <td>0.784</td>\n",
       "      <td>15.8</td>\n",
       "      <td>0.238</td>\n",
       "      <td>1998</td>\n",
       "      <td>SG</td>\n",
       "      <td>Chicago Bulls</td>\n",
       "      <td>62</td>\n",
       "      <td>20</td>\n",
       "      <td>0.756</td>\n",
       "      <td></td>\n",
       "      <td>96.7</td>\n",
       "      <td>89.6</td>\n",
       "      <td>7.24</td>\n",
       "      <td>Chicago Bulls</td>\n",
       "    </tr>\n",
       "    <tr>\n",
       "      <th>8</th>\n",
       "      <td>1</td>\n",
       "      <td>Karl Malone</td>\n",
       "      <td>35</td>\n",
       "      <td>UTA</td>\n",
       "      <td>44</td>\n",
       "      <td>827</td>\n",
       "      <td>1180</td>\n",
       "      <td>0.701</td>\n",
       "      <td>49</td>\n",
       "      <td>37.4</td>\n",
       "      <td>23.8</td>\n",
       "      <td>9.4</td>\n",
       "      <td>4.1</td>\n",
       "      <td>1.3</td>\n",
       "      <td>0.6</td>\n",
       "      <td>0.493</td>\n",
       "      <td>0.000</td>\n",
       "      <td>0.788</td>\n",
       "      <td>9.6</td>\n",
       "      <td>0.252</td>\n",
       "      <td>1999</td>\n",
       "      <td>PF</td>\n",
       "      <td>Utah Jazz</td>\n",
       "      <td>37</td>\n",
       "      <td>13</td>\n",
       "      <td>0.74</td>\n",
       "      <td></td>\n",
       "      <td>93.3</td>\n",
       "      <td>86.8</td>\n",
       "      <td>5.54</td>\n",
       "      <td>Utah Jazz</td>\n",
       "    </tr>\n",
       "    <tr>\n",
       "      <th>9</th>\n",
       "      <td>1</td>\n",
       "      <td>Shaquille O'Neal</td>\n",
       "      <td>27</td>\n",
       "      <td>LAL</td>\n",
       "      <td>120</td>\n",
       "      <td>1207</td>\n",
       "      <td>1210</td>\n",
       "      <td>0.998</td>\n",
       "      <td>79</td>\n",
       "      <td>40.0</td>\n",
       "      <td>29.7</td>\n",
       "      <td>13.6</td>\n",
       "      <td>3.8</td>\n",
       "      <td>0.5</td>\n",
       "      <td>3.0</td>\n",
       "      <td>0.574</td>\n",
       "      <td>0.000</td>\n",
       "      <td>0.524</td>\n",
       "      <td>18.6</td>\n",
       "      <td>0.283</td>\n",
       "      <td>2000</td>\n",
       "      <td>C</td>\n",
       "      <td>Los Angeles Lakers</td>\n",
       "      <td>67</td>\n",
       "      <td>15</td>\n",
       "      <td>0.817</td>\n",
       "      <td></td>\n",
       "      <td>100.8</td>\n",
       "      <td>92.3</td>\n",
       "      <td>8.41</td>\n",
       "      <td>Los Angeles Lakers</td>\n",
       "    </tr>\n",
       "    <tr>\n",
       "      <th>10</th>\n",
       "      <td>1</td>\n",
       "      <td>Allen Iverson</td>\n",
       "      <td>25</td>\n",
       "      <td>PHI</td>\n",
       "      <td>93</td>\n",
       "      <td>1121</td>\n",
       "      <td>1240</td>\n",
       "      <td>0.904</td>\n",
       "      <td>71</td>\n",
       "      <td>42.0</td>\n",
       "      <td>31.1</td>\n",
       "      <td>3.8</td>\n",
       "      <td>4.6</td>\n",
       "      <td>2.5</td>\n",
       "      <td>0.3</td>\n",
       "      <td>0.420</td>\n",
       "      <td>0.320</td>\n",
       "      <td>0.814</td>\n",
       "      <td>11.8</td>\n",
       "      <td>0.190</td>\n",
       "      <td>2001</td>\n",
       "      <td>SG</td>\n",
       "      <td>Philadelphia 76ers</td>\n",
       "      <td>56</td>\n",
       "      <td>26</td>\n",
       "      <td>0.683</td>\n",
       "      <td></td>\n",
       "      <td>94.7</td>\n",
       "      <td>90.4</td>\n",
       "      <td>3.64</td>\n",
       "      <td>Philadelphia 76ers</td>\n",
       "    </tr>\n",
       "    <tr>\n",
       "      <th>11</th>\n",
       "      <td>1</td>\n",
       "      <td>Tim Duncan</td>\n",
       "      <td>25</td>\n",
       "      <td>SAS</td>\n",
       "      <td>57</td>\n",
       "      <td>954</td>\n",
       "      <td>1260</td>\n",
       "      <td>0.757</td>\n",
       "      <td>82</td>\n",
       "      <td>40.6</td>\n",
       "      <td>25.5</td>\n",
       "      <td>12.7</td>\n",
       "      <td>3.7</td>\n",
       "      <td>0.7</td>\n",
       "      <td>2.5</td>\n",
       "      <td>0.508</td>\n",
       "      <td>0.100</td>\n",
       "      <td>0.799</td>\n",
       "      <td>17.8</td>\n",
       "      <td>0.257</td>\n",
       "      <td>2002</td>\n",
       "      <td>PF</td>\n",
       "      <td>San Antonio Spurs</td>\n",
       "      <td>58</td>\n",
       "      <td>24</td>\n",
       "      <td>0.707</td>\n",
       "      <td></td>\n",
       "      <td>96.7</td>\n",
       "      <td>90.5</td>\n",
       "      <td>6.28</td>\n",
       "      <td>San Antonio Spurs</td>\n",
       "    </tr>\n",
       "    <tr>\n",
       "      <th>12</th>\n",
       "      <td>1</td>\n",
       "      <td>Tim Duncan</td>\n",
       "      <td>26</td>\n",
       "      <td>SAS</td>\n",
       "      <td>60</td>\n",
       "      <td>962</td>\n",
       "      <td>1190</td>\n",
       "      <td>0.808</td>\n",
       "      <td>81</td>\n",
       "      <td>39.3</td>\n",
       "      <td>23.3</td>\n",
       "      <td>12.9</td>\n",
       "      <td>3.9</td>\n",
       "      <td>0.7</td>\n",
       "      <td>2.9</td>\n",
       "      <td>0.513</td>\n",
       "      <td>0.273</td>\n",
       "      <td>0.710</td>\n",
       "      <td>16.5</td>\n",
       "      <td>0.248</td>\n",
       "      <td>2003</td>\n",
       "      <td>PF</td>\n",
       "      <td>San Antonio Spurs</td>\n",
       "      <td>60</td>\n",
       "      <td>22</td>\n",
       "      <td>0.732</td>\n",
       "      <td></td>\n",
       "      <td>95.8</td>\n",
       "      <td>90.4</td>\n",
       "      <td>5.65</td>\n",
       "      <td>San Antonio Spurs</td>\n",
       "    </tr>\n",
       "    <tr>\n",
       "      <th>13</th>\n",
       "      <td>1</td>\n",
       "      <td>Kevin Garnett</td>\n",
       "      <td>27</td>\n",
       "      <td>MIN</td>\n",
       "      <td>120</td>\n",
       "      <td>1219</td>\n",
       "      <td>1230</td>\n",
       "      <td>0.991</td>\n",
       "      <td>82</td>\n",
       "      <td>39.4</td>\n",
       "      <td>24.2</td>\n",
       "      <td>13.9</td>\n",
       "      <td>5.0</td>\n",
       "      <td>1.5</td>\n",
       "      <td>2.2</td>\n",
       "      <td>0.499</td>\n",
       "      <td>0.256</td>\n",
       "      <td>0.791</td>\n",
       "      <td>18.3</td>\n",
       "      <td>0.272</td>\n",
       "      <td>2004</td>\n",
       "      <td>PF</td>\n",
       "      <td>Minnesota Timberwolves</td>\n",
       "      <td>58</td>\n",
       "      <td>24</td>\n",
       "      <td>0.707</td>\n",
       "      <td></td>\n",
       "      <td>94.5</td>\n",
       "      <td>89.1</td>\n",
       "      <td>5.86</td>\n",
       "      <td>Minnesota Timberwolves</td>\n",
       "    </tr>\n",
       "    <tr>\n",
       "      <th>14</th>\n",
       "      <td>1</td>\n",
       "      <td>Steve Nash</td>\n",
       "      <td>30</td>\n",
       "      <td>PHO</td>\n",
       "      <td>65</td>\n",
       "      <td>1066</td>\n",
       "      <td>1270</td>\n",
       "      <td>0.839</td>\n",
       "      <td>75</td>\n",
       "      <td>34.3</td>\n",
       "      <td>15.5</td>\n",
       "      <td>3.3</td>\n",
       "      <td>11.5</td>\n",
       "      <td>1.0</td>\n",
       "      <td>0.1</td>\n",
       "      <td>0.502</td>\n",
       "      <td>0.431</td>\n",
       "      <td>0.887</td>\n",
       "      <td>10.9</td>\n",
       "      <td>0.203</td>\n",
       "      <td>2005</td>\n",
       "      <td>PG</td>\n",
       "      <td>Phoenix Suns</td>\n",
       "      <td>62</td>\n",
       "      <td>20</td>\n",
       "      <td>0.756</td>\n",
       "      <td></td>\n",
       "      <td>110.4</td>\n",
       "      <td>103.3</td>\n",
       "      <td>7.08</td>\n",
       "      <td>Phoenix Suns</td>\n",
       "    </tr>\n",
       "    <tr>\n",
       "      <th>15</th>\n",
       "      <td>1</td>\n",
       "      <td>Steve Nash</td>\n",
       "      <td>31</td>\n",
       "      <td>PHO</td>\n",
       "      <td>57</td>\n",
       "      <td>924</td>\n",
       "      <td>1250</td>\n",
       "      <td>0.739</td>\n",
       "      <td>79</td>\n",
       "      <td>35.4</td>\n",
       "      <td>18.8</td>\n",
       "      <td>4.2</td>\n",
       "      <td>10.5</td>\n",
       "      <td>0.8</td>\n",
       "      <td>0.2</td>\n",
       "      <td>0.512</td>\n",
       "      <td>0.439</td>\n",
       "      <td>0.921</td>\n",
       "      <td>12.4</td>\n",
       "      <td>0.212</td>\n",
       "      <td>2006</td>\n",
       "      <td>PG</td>\n",
       "      <td>Phoenix Suns</td>\n",
       "      <td>54</td>\n",
       "      <td>28</td>\n",
       "      <td>0.659</td>\n",
       "      <td></td>\n",
       "      <td>108.4</td>\n",
       "      <td>102.8</td>\n",
       "      <td>5.48</td>\n",
       "      <td>Phoenix Suns</td>\n",
       "    </tr>\n",
       "    <tr>\n",
       "      <th>16</th>\n",
       "      <td>1</td>\n",
       "      <td>Dirk Nowitzki</td>\n",
       "      <td>28</td>\n",
       "      <td>DAL</td>\n",
       "      <td>83</td>\n",
       "      <td>1138</td>\n",
       "      <td>1290</td>\n",
       "      <td>0.882</td>\n",
       "      <td>78</td>\n",
       "      <td>36.2</td>\n",
       "      <td>24.6</td>\n",
       "      <td>8.9</td>\n",
       "      <td>3.4</td>\n",
       "      <td>0.7</td>\n",
       "      <td>0.8</td>\n",
       "      <td>0.502</td>\n",
       "      <td>0.416</td>\n",
       "      <td>0.904</td>\n",
       "      <td>16.3</td>\n",
       "      <td>0.278</td>\n",
       "      <td>2007</td>\n",
       "      <td>PF</td>\n",
       "      <td>Dallas Mavericks</td>\n",
       "      <td>67</td>\n",
       "      <td>15</td>\n",
       "      <td>0.817</td>\n",
       "      <td></td>\n",
       "      <td>100</td>\n",
       "      <td>92.8</td>\n",
       "      <td>7.28</td>\n",
       "      <td>Dallas Mavericks</td>\n",
       "    </tr>\n",
       "    <tr>\n",
       "      <th>17</th>\n",
       "      <td>1</td>\n",
       "      <td>Kobe Bryant</td>\n",
       "      <td>29</td>\n",
       "      <td>LAL</td>\n",
       "      <td>82</td>\n",
       "      <td>1100</td>\n",
       "      <td>1260</td>\n",
       "      <td>0.873</td>\n",
       "      <td>82</td>\n",
       "      <td>38.9</td>\n",
       "      <td>28.3</td>\n",
       "      <td>6.3</td>\n",
       "      <td>5.4</td>\n",
       "      <td>1.8</td>\n",
       "      <td>0.5</td>\n",
       "      <td>0.459</td>\n",
       "      <td>0.361</td>\n",
       "      <td>0.840</td>\n",
       "      <td>13.8</td>\n",
       "      <td>0.208</td>\n",
       "      <td>2008</td>\n",
       "      <td>SG</td>\n",
       "      <td>Los Angeles Lakers</td>\n",
       "      <td>57</td>\n",
       "      <td>25</td>\n",
       "      <td>0.695</td>\n",
       "      <td></td>\n",
       "      <td>108.6</td>\n",
       "      <td>101.3</td>\n",
       "      <td>7.34</td>\n",
       "      <td>Los Angeles Lakers</td>\n",
       "    </tr>\n",
       "    <tr>\n",
       "      <th>18</th>\n",
       "      <td>1</td>\n",
       "      <td>LeBron James</td>\n",
       "      <td>24</td>\n",
       "      <td>CLE</td>\n",
       "      <td>109</td>\n",
       "      <td>1172</td>\n",
       "      <td>1210</td>\n",
       "      <td>0.969</td>\n",
       "      <td>81</td>\n",
       "      <td>37.7</td>\n",
       "      <td>28.4</td>\n",
       "      <td>7.6</td>\n",
       "      <td>7.2</td>\n",
       "      <td>1.7</td>\n",
       "      <td>1.1</td>\n",
       "      <td>0.489</td>\n",
       "      <td>0.344</td>\n",
       "      <td>0.780</td>\n",
       "      <td>20.3</td>\n",
       "      <td>0.318</td>\n",
       "      <td>2009</td>\n",
       "      <td>SF</td>\n",
       "      <td>Cleveland Cavaliers</td>\n",
       "      <td>66</td>\n",
       "      <td>16</td>\n",
       "      <td>0.805</td>\n",
       "      <td></td>\n",
       "      <td>100.3</td>\n",
       "      <td>91.4</td>\n",
       "      <td>8.68</td>\n",
       "      <td>Cleveland Cavaliers</td>\n",
       "    </tr>\n",
       "    <tr>\n",
       "      <th>19</th>\n",
       "      <td>1</td>\n",
       "      <td>LeBron James</td>\n",
       "      <td>25</td>\n",
       "      <td>CLE</td>\n",
       "      <td>116</td>\n",
       "      <td>1205</td>\n",
       "      <td>1230</td>\n",
       "      <td>0.980</td>\n",
       "      <td>76</td>\n",
       "      <td>39.0</td>\n",
       "      <td>29.7</td>\n",
       "      <td>7.3</td>\n",
       "      <td>8.6</td>\n",
       "      <td>1.6</td>\n",
       "      <td>1.0</td>\n",
       "      <td>0.503</td>\n",
       "      <td>0.333</td>\n",
       "      <td>0.767</td>\n",
       "      <td>18.5</td>\n",
       "      <td>0.299</td>\n",
       "      <td>2010</td>\n",
       "      <td>SF</td>\n",
       "      <td>Cleveland Cavaliers</td>\n",
       "      <td>61</td>\n",
       "      <td>21</td>\n",
       "      <td>0.744</td>\n",
       "      <td></td>\n",
       "      <td>102.1</td>\n",
       "      <td>95.6</td>\n",
       "      <td>6.17</td>\n",
       "      <td>Cleveland Cavaliers</td>\n",
       "    </tr>\n",
       "    <tr>\n",
       "      <th>20</th>\n",
       "      <td>1</td>\n",
       "      <td>Derrick Rose</td>\n",
       "      <td>22</td>\n",
       "      <td>CHI</td>\n",
       "      <td>113</td>\n",
       "      <td>1182</td>\n",
       "      <td>1210</td>\n",
       "      <td>0.977</td>\n",
       "      <td>81</td>\n",
       "      <td>37.4</td>\n",
       "      <td>25.0</td>\n",
       "      <td>4.1</td>\n",
       "      <td>7.7</td>\n",
       "      <td>1.0</td>\n",
       "      <td>0.6</td>\n",
       "      <td>0.445</td>\n",
       "      <td>0.332</td>\n",
       "      <td>0.858</td>\n",
       "      <td>13.1</td>\n",
       "      <td>0.208</td>\n",
       "      <td>2011</td>\n",
       "      <td>PG</td>\n",
       "      <td>Chicago Bulls</td>\n",
       "      <td>62</td>\n",
       "      <td>20</td>\n",
       "      <td>0.756</td>\n",
       "      <td></td>\n",
       "      <td>98.6</td>\n",
       "      <td>91.3</td>\n",
       "      <td>6.53</td>\n",
       "      <td>Chicago Bulls</td>\n",
       "    </tr>\n",
       "    <tr>\n",
       "      <th>21</th>\n",
       "      <td>1</td>\n",
       "      <td>LeBron James</td>\n",
       "      <td>27</td>\n",
       "      <td>MIA</td>\n",
       "      <td>85</td>\n",
       "      <td>1074</td>\n",
       "      <td>1210</td>\n",
       "      <td>0.888</td>\n",
       "      <td>62</td>\n",
       "      <td>37.5</td>\n",
       "      <td>27.1</td>\n",
       "      <td>7.9</td>\n",
       "      <td>6.2</td>\n",
       "      <td>1.9</td>\n",
       "      <td>0.8</td>\n",
       "      <td>0.531</td>\n",
       "      <td>0.362</td>\n",
       "      <td>0.771</td>\n",
       "      <td>14.5</td>\n",
       "      <td>0.298</td>\n",
       "      <td>2012</td>\n",
       "      <td>SF</td>\n",
       "      <td>Miami Heat</td>\n",
       "      <td>46</td>\n",
       "      <td>20</td>\n",
       "      <td>0.697</td>\n",
       "      <td></td>\n",
       "      <td>98.5</td>\n",
       "      <td>92.5</td>\n",
       "      <td>5.72</td>\n",
       "      <td>Miami Heat</td>\n",
       "    </tr>\n",
       "    <tr>\n",
       "      <th>22</th>\n",
       "      <td>1</td>\n",
       "      <td>LeBron James</td>\n",
       "      <td>28</td>\n",
       "      <td>MIA</td>\n",
       "      <td>120</td>\n",
       "      <td>1207</td>\n",
       "      <td>1210</td>\n",
       "      <td>0.998</td>\n",
       "      <td>76</td>\n",
       "      <td>37.9</td>\n",
       "      <td>26.8</td>\n",
       "      <td>8.0</td>\n",
       "      <td>7.3</td>\n",
       "      <td>1.7</td>\n",
       "      <td>0.9</td>\n",
       "      <td>0.565</td>\n",
       "      <td>0.406</td>\n",
       "      <td>0.753</td>\n",
       "      <td>19.3</td>\n",
       "      <td>0.322</td>\n",
       "      <td>2013</td>\n",
       "      <td>PF</td>\n",
       "      <td>Miami Heat</td>\n",
       "      <td>66</td>\n",
       "      <td>16</td>\n",
       "      <td>0.805</td>\n",
       "      <td></td>\n",
       "      <td>102.9</td>\n",
       "      <td>95</td>\n",
       "      <td>7.03</td>\n",
       "      <td>Miami Heat</td>\n",
       "    </tr>\n",
       "    <tr>\n",
       "      <th>23</th>\n",
       "      <td>1</td>\n",
       "      <td>Kevin Durant</td>\n",
       "      <td>25</td>\n",
       "      <td>OKC</td>\n",
       "      <td>119</td>\n",
       "      <td>1232</td>\n",
       "      <td>1250</td>\n",
       "      <td>0.986</td>\n",
       "      <td>81</td>\n",
       "      <td>38.5</td>\n",
       "      <td>32.0</td>\n",
       "      <td>7.4</td>\n",
       "      <td>5.5</td>\n",
       "      <td>1.3</td>\n",
       "      <td>0.7</td>\n",
       "      <td>0.503</td>\n",
       "      <td>0.391</td>\n",
       "      <td>0.873</td>\n",
       "      <td>19.2</td>\n",
       "      <td>0.295</td>\n",
       "      <td>2014</td>\n",
       "      <td>SF</td>\n",
       "      <td>Oklahoma City Thunder</td>\n",
       "      <td>59</td>\n",
       "      <td>23</td>\n",
       "      <td>0.72</td>\n",
       "      <td></td>\n",
       "      <td>106.2</td>\n",
       "      <td>99.8</td>\n",
       "      <td>6.66</td>\n",
       "      <td>Oklahoma City Thunder</td>\n",
       "    </tr>\n",
       "    <tr>\n",
       "      <th>24</th>\n",
       "      <td>1</td>\n",
       "      <td>Stephen Curry</td>\n",
       "      <td>26</td>\n",
       "      <td>GSW</td>\n",
       "      <td>100</td>\n",
       "      <td>1198</td>\n",
       "      <td>1300</td>\n",
       "      <td>0.922</td>\n",
       "      <td>80</td>\n",
       "      <td>32.7</td>\n",
       "      <td>23.8</td>\n",
       "      <td>4.3</td>\n",
       "      <td>7.7</td>\n",
       "      <td>2.0</td>\n",
       "      <td>0.2</td>\n",
       "      <td>0.487</td>\n",
       "      <td>0.443</td>\n",
       "      <td>0.914</td>\n",
       "      <td>15.7</td>\n",
       "      <td>0.288</td>\n",
       "      <td>2015</td>\n",
       "      <td>PG</td>\n",
       "      <td>Golden State Warriors</td>\n",
       "      <td>67</td>\n",
       "      <td>15</td>\n",
       "      <td>0.817</td>\n",
       "      <td></td>\n",
       "      <td>110</td>\n",
       "      <td>99.9</td>\n",
       "      <td>10.01</td>\n",
       "      <td>Golden State Warriors</td>\n",
       "    </tr>\n",
       "    <tr>\n",
       "      <th>25</th>\n",
       "      <td>1</td>\n",
       "      <td>Stephen Curry</td>\n",
       "      <td>27</td>\n",
       "      <td>GSW</td>\n",
       "      <td>131</td>\n",
       "      <td>1310</td>\n",
       "      <td>1310</td>\n",
       "      <td>1.000</td>\n",
       "      <td>79</td>\n",
       "      <td>34.2</td>\n",
       "      <td>30.1</td>\n",
       "      <td>5.4</td>\n",
       "      <td>6.7</td>\n",
       "      <td>2.1</td>\n",
       "      <td>0.2</td>\n",
       "      <td>0.504</td>\n",
       "      <td>0.454</td>\n",
       "      <td>0.908</td>\n",
       "      <td>17.9</td>\n",
       "      <td>0.318</td>\n",
       "      <td>2016</td>\n",
       "      <td>PG</td>\n",
       "      <td>Golden State Warriors</td>\n",
       "      <td>73</td>\n",
       "      <td>9</td>\n",
       "      <td>0.89</td>\n",
       "      <td></td>\n",
       "      <td>114.9</td>\n",
       "      <td>104.1</td>\n",
       "      <td>10.38</td>\n",
       "      <td>Golden State Warriors</td>\n",
       "    </tr>\n",
       "    <tr>\n",
       "      <th>26</th>\n",
       "      <td>1</td>\n",
       "      <td>Russell Westbrook</td>\n",
       "      <td>28</td>\n",
       "      <td>OKC</td>\n",
       "      <td>69</td>\n",
       "      <td>888</td>\n",
       "      <td>1010</td>\n",
       "      <td>0.879</td>\n",
       "      <td>81</td>\n",
       "      <td>34.6</td>\n",
       "      <td>31.6</td>\n",
       "      <td>10.7</td>\n",
       "      <td>10.4</td>\n",
       "      <td>1.6</td>\n",
       "      <td>0.4</td>\n",
       "      <td>0.425</td>\n",
       "      <td>0.343</td>\n",
       "      <td>0.845</td>\n",
       "      <td>13.1</td>\n",
       "      <td>0.224</td>\n",
       "      <td>2017</td>\n",
       "      <td>PG</td>\n",
       "      <td>Oklahoma City Thunder</td>\n",
       "      <td>47</td>\n",
       "      <td>35</td>\n",
       "      <td>0.573</td>\n",
       "      <td>4</td>\n",
       "      <td>106.6</td>\n",
       "      <td>105.8</td>\n",
       "      <td>1.14</td>\n",
       "      <td>Oklahoma City Thunder</td>\n",
       "    </tr>\n",
       "    <tr>\n",
       "      <th>27</th>\n",
       "      <td>1</td>\n",
       "      <td>James Harden</td>\n",
       "      <td>28</td>\n",
       "      <td>HOU</td>\n",
       "      <td>86</td>\n",
       "      <td>965</td>\n",
       "      <td>1010</td>\n",
       "      <td>0.955</td>\n",
       "      <td>72</td>\n",
       "      <td>35.4</td>\n",
       "      <td>30.4</td>\n",
       "      <td>5.4</td>\n",
       "      <td>8.8</td>\n",
       "      <td>1.8</td>\n",
       "      <td>0.7</td>\n",
       "      <td>0.449</td>\n",
       "      <td>0.367</td>\n",
       "      <td>0.858</td>\n",
       "      <td>15.4</td>\n",
       "      <td>0.289</td>\n",
       "      <td>2018</td>\n",
       "      <td>SG</td>\n",
       "      <td>Houston Rockets</td>\n",
       "      <td>65</td>\n",
       "      <td>17</td>\n",
       "      <td>0.793</td>\n",
       "      <td></td>\n",
       "      <td>112.4</td>\n",
       "      <td>103.9</td>\n",
       "      <td>8.21</td>\n",
       "      <td>Houston Rockets</td>\n",
       "    </tr>\n",
       "    <tr>\n",
       "      <th>28</th>\n",
       "      <td>1</td>\n",
       "      <td>Giannis Antetokounmpo</td>\n",
       "      <td>24</td>\n",
       "      <td>MIL</td>\n",
       "      <td>78</td>\n",
       "      <td>941</td>\n",
       "      <td>1010</td>\n",
       "      <td>0.932</td>\n",
       "      <td>72</td>\n",
       "      <td>32.8</td>\n",
       "      <td>27.7</td>\n",
       "      <td>12.5</td>\n",
       "      <td>5.9</td>\n",
       "      <td>1.3</td>\n",
       "      <td>1.5</td>\n",
       "      <td>0.578</td>\n",
       "      <td>0.256</td>\n",
       "      <td>0.729</td>\n",
       "      <td>14.4</td>\n",
       "      <td>0.292</td>\n",
       "      <td>2019</td>\n",
       "      <td>PF</td>\n",
       "      <td>Milwaukee Bucks</td>\n",
       "      <td>60</td>\n",
       "      <td>22</td>\n",
       "      <td>0.732</td>\n",
       "      <td></td>\n",
       "      <td>118.1</td>\n",
       "      <td>109.3</td>\n",
       "      <td>8.04</td>\n",
       "      <td>Milwaukee Bucks</td>\n",
       "    </tr>\n",
       "    <tr>\n",
       "      <th>29</th>\n",
       "      <td>1</td>\n",
       "      <td>Giannis Antetokounmpo</td>\n",
       "      <td>25</td>\n",
       "      <td>MIL</td>\n",
       "      <td>85</td>\n",
       "      <td>962</td>\n",
       "      <td>1010</td>\n",
       "      <td>0.952</td>\n",
       "      <td>63</td>\n",
       "      <td>30.4</td>\n",
       "      <td>29.5</td>\n",
       "      <td>13.6</td>\n",
       "      <td>5.6</td>\n",
       "      <td>1.0</td>\n",
       "      <td>1.0</td>\n",
       "      <td>0.553</td>\n",
       "      <td>0.304</td>\n",
       "      <td>0.633</td>\n",
       "      <td>11.1</td>\n",
       "      <td>0.279</td>\n",
       "      <td>2020</td>\n",
       "      <td>PF</td>\n",
       "      <td>Milwaukee Bucks</td>\n",
       "      <td>56</td>\n",
       "      <td>17</td>\n",
       "      <td>0.767</td>\n",
       "      <td></td>\n",
       "      <td>118.7</td>\n",
       "      <td>108.6</td>\n",
       "      <td>9.41</td>\n",
       "      <td>Milwaukee Bucks</td>\n",
       "    </tr>\n",
       "    <tr>\n",
       "      <th>30</th>\n",
       "      <td>1</td>\n",
       "      <td>Nikola Joki?</td>\n",
       "      <td>25</td>\n",
       "      <td>DEN</td>\n",
       "      <td>91</td>\n",
       "      <td>971</td>\n",
       "      <td>1010</td>\n",
       "      <td>0.961</td>\n",
       "      <td>72</td>\n",
       "      <td>34.6</td>\n",
       "      <td>26.4</td>\n",
       "      <td>10.8</td>\n",
       "      <td>8.3</td>\n",
       "      <td>1.3</td>\n",
       "      <td>0.7</td>\n",
       "      <td>0.566</td>\n",
       "      <td>0.388</td>\n",
       "      <td>0.868</td>\n",
       "      <td>15.6</td>\n",
       "      <td>0.301</td>\n",
       "      <td>2021</td>\n",
       "      <td>C</td>\n",
       "      <td>Denver Nuggets</td>\n",
       "      <td>47</td>\n",
       "      <td>25</td>\n",
       "      <td>0.653</td>\n",
       "      <td>5</td>\n",
       "      <td>115.1</td>\n",
       "      <td>110.1</td>\n",
       "      <td>4.82</td>\n",
       "      <td>Denver Nuggets</td>\n",
       "    </tr>\n",
       "  </tbody>\n",
       "</table>\n",
       "</div>"
      ],
      "text/plain": [
       "   Rank                 Player  Age   Tm  First  Pts Won  Pts Max  Share   G  \\\n",
       "0     1         Michael Jordan   27  CHI     77      891      960  0.928  82   \n",
       "1     1         Michael Jordan   28  CHI     80      900      960  0.938  80   \n",
       "2     1        Charles Barkley   29  PHO     59      835      980  0.852  76   \n",
       "3     1        Hakeem Olajuwon   31  HOU     66      889     1010  0.880  80   \n",
       "4     1         David Robinson   29  SAS     73      901     1050  0.858  81   \n",
       "5     1         Michael Jordan   32  CHI    109     1114     1130  0.986  82   \n",
       "6     1            Karl Malone   33  UTA     63      986     1150  0.857  82   \n",
       "7     1         Michael Jordan   34  CHI     92     1084     1160  0.934  82   \n",
       "8     1            Karl Malone   35  UTA     44      827     1180  0.701  49   \n",
       "9     1       Shaquille O'Neal   27  LAL    120     1207     1210  0.998  79   \n",
       "10    1          Allen Iverson   25  PHI     93     1121     1240  0.904  71   \n",
       "11    1             Tim Duncan   25  SAS     57      954     1260  0.757  82   \n",
       "12    1             Tim Duncan   26  SAS     60      962     1190  0.808  81   \n",
       "13    1          Kevin Garnett   27  MIN    120     1219     1230  0.991  82   \n",
       "14    1             Steve Nash   30  PHO     65     1066     1270  0.839  75   \n",
       "15    1             Steve Nash   31  PHO     57      924     1250  0.739  79   \n",
       "16    1          Dirk Nowitzki   28  DAL     83     1138     1290  0.882  78   \n",
       "17    1            Kobe Bryant   29  LAL     82     1100     1260  0.873  82   \n",
       "18    1           LeBron James   24  CLE    109     1172     1210  0.969  81   \n",
       "19    1           LeBron James   25  CLE    116     1205     1230  0.980  76   \n",
       "20    1           Derrick Rose   22  CHI    113     1182     1210  0.977  81   \n",
       "21    1           LeBron James   27  MIA     85     1074     1210  0.888  62   \n",
       "22    1           LeBron James   28  MIA    120     1207     1210  0.998  76   \n",
       "23    1           Kevin Durant   25  OKC    119     1232     1250  0.986  81   \n",
       "24    1          Stephen Curry   26  GSW    100     1198     1300  0.922  80   \n",
       "25    1          Stephen Curry   27  GSW    131     1310     1310  1.000  79   \n",
       "26    1      Russell Westbrook   28  OKC     69      888     1010  0.879  81   \n",
       "27    1           James Harden   28  HOU     86      965     1010  0.955  72   \n",
       "28    1  Giannis Antetokounmpo   24  MIL     78      941     1010  0.932  72   \n",
       "29    1  Giannis Antetokounmpo   25  MIL     85      962     1010  0.952  63   \n",
       "30    1           Nikola Joki?   25  DEN     91      971     1010  0.961  72   \n",
       "\n",
       "      MP   PTS   TRB   AST  STL  BLK    FG%    3P%    FT%    WS  WS/48  Year  \\\n",
       "0   37.0  31.5   6.0   5.5  2.7  1.0  0.539  0.312  0.851  20.3  0.321  1991   \n",
       "1   38.8  30.1   6.4   6.1  2.3  0.9  0.519  0.270  0.832  17.7  0.274  1992   \n",
       "2   37.6  25.6  12.2   5.1  1.6  1.0  0.520  0.305  0.765  14.4  0.242  1993   \n",
       "3   41.0  27.3  11.9   3.6  1.6  3.7  0.528  0.421  0.716  14.3  0.210  1994   \n",
       "4   38.0  27.6  10.8   2.9  1.7  3.2  0.530  0.300  0.774  17.5  0.273  1995   \n",
       "5   37.7  30.4   6.6   4.3  2.2  0.5  0.495  0.427  0.834  20.4  0.317  1996   \n",
       "6   36.6  27.4   9.9   4.5  1.4  0.6  0.550  0.000  0.755  16.7  0.268  1997   \n",
       "7   38.8  28.7   5.8   3.5  1.7  0.5  0.465  0.238  0.784  15.8  0.238  1998   \n",
       "8   37.4  23.8   9.4   4.1  1.3  0.6  0.493  0.000  0.788   9.6  0.252  1999   \n",
       "9   40.0  29.7  13.6   3.8  0.5  3.0  0.574  0.000  0.524  18.6  0.283  2000   \n",
       "10  42.0  31.1   3.8   4.6  2.5  0.3  0.420  0.320  0.814  11.8  0.190  2001   \n",
       "11  40.6  25.5  12.7   3.7  0.7  2.5  0.508  0.100  0.799  17.8  0.257  2002   \n",
       "12  39.3  23.3  12.9   3.9  0.7  2.9  0.513  0.273  0.710  16.5  0.248  2003   \n",
       "13  39.4  24.2  13.9   5.0  1.5  2.2  0.499  0.256  0.791  18.3  0.272  2004   \n",
       "14  34.3  15.5   3.3  11.5  1.0  0.1  0.502  0.431  0.887  10.9  0.203  2005   \n",
       "15  35.4  18.8   4.2  10.5  0.8  0.2  0.512  0.439  0.921  12.4  0.212  2006   \n",
       "16  36.2  24.6   8.9   3.4  0.7  0.8  0.502  0.416  0.904  16.3  0.278  2007   \n",
       "17  38.9  28.3   6.3   5.4  1.8  0.5  0.459  0.361  0.840  13.8  0.208  2008   \n",
       "18  37.7  28.4   7.6   7.2  1.7  1.1  0.489  0.344  0.780  20.3  0.318  2009   \n",
       "19  39.0  29.7   7.3   8.6  1.6  1.0  0.503  0.333  0.767  18.5  0.299  2010   \n",
       "20  37.4  25.0   4.1   7.7  1.0  0.6  0.445  0.332  0.858  13.1  0.208  2011   \n",
       "21  37.5  27.1   7.9   6.2  1.9  0.8  0.531  0.362  0.771  14.5  0.298  2012   \n",
       "22  37.9  26.8   8.0   7.3  1.7  0.9  0.565  0.406  0.753  19.3  0.322  2013   \n",
       "23  38.5  32.0   7.4   5.5  1.3  0.7  0.503  0.391  0.873  19.2  0.295  2014   \n",
       "24  32.7  23.8   4.3   7.7  2.0  0.2  0.487  0.443  0.914  15.7  0.288  2015   \n",
       "25  34.2  30.1   5.4   6.7  2.1  0.2  0.504  0.454  0.908  17.9  0.318  2016   \n",
       "26  34.6  31.6  10.7  10.4  1.6  0.4  0.425  0.343  0.845  13.1  0.224  2017   \n",
       "27  35.4  30.4   5.4   8.8  1.8  0.7  0.449  0.367  0.858  15.4  0.289  2018   \n",
       "28  32.8  27.7  12.5   5.9  1.3  1.5  0.578  0.256  0.729  14.4  0.292  2019   \n",
       "29  30.4  29.5  13.6   5.6  1.0  1.0  0.553  0.304  0.633  11.1  0.279  2020   \n",
       "30  34.6  26.4  10.8   8.3  1.3  0.7  0.566  0.388  0.868  15.6  0.301  2021   \n",
       "\n",
       "   Pos                    Name   W   L   W/L% GB   PS/G   PA/G    SRS  \\\n",
       "0   SG           Chicago Bulls  61  21  0.744      110    101   8.57   \n",
       "1   SG           Chicago Bulls  67  15  0.817    109.9   99.5  10.07   \n",
       "2   PF            Phoenix Suns  62  20  0.756    113.4  106.7   6.27   \n",
       "3    C         Houston Rockets  58  24  0.707    101.1   96.8   4.19   \n",
       "4    C       San Antonio Spurs  62  20  0.756    106.6  100.6    5.9   \n",
       "5   SG           Chicago Bulls  72  10  0.878    105.2   92.9   11.8   \n",
       "6   PF               Utah Jazz  64  18   0.78    103.1   94.3   7.97   \n",
       "7   SG           Chicago Bulls  62  20  0.756     96.7   89.6   7.24   \n",
       "8   PF               Utah Jazz  37  13   0.74     93.3   86.8   5.54   \n",
       "9    C      Los Angeles Lakers  67  15  0.817    100.8   92.3   8.41   \n",
       "10  SG      Philadelphia 76ers  56  26  0.683     94.7   90.4   3.64   \n",
       "11  PF       San Antonio Spurs  58  24  0.707     96.7   90.5   6.28   \n",
       "12  PF       San Antonio Spurs  60  22  0.732     95.8   90.4   5.65   \n",
       "13  PF  Minnesota Timberwolves  58  24  0.707     94.5   89.1   5.86   \n",
       "14  PG            Phoenix Suns  62  20  0.756    110.4  103.3   7.08   \n",
       "15  PG            Phoenix Suns  54  28  0.659    108.4  102.8   5.48   \n",
       "16  PF        Dallas Mavericks  67  15  0.817      100   92.8   7.28   \n",
       "17  SG      Los Angeles Lakers  57  25  0.695    108.6  101.3   7.34   \n",
       "18  SF     Cleveland Cavaliers  66  16  0.805    100.3   91.4   8.68   \n",
       "19  SF     Cleveland Cavaliers  61  21  0.744    102.1   95.6   6.17   \n",
       "20  PG           Chicago Bulls  62  20  0.756     98.6   91.3   6.53   \n",
       "21  SF              Miami Heat  46  20  0.697     98.5   92.5   5.72   \n",
       "22  PF              Miami Heat  66  16  0.805    102.9     95   7.03   \n",
       "23  SF   Oklahoma City Thunder  59  23   0.72    106.2   99.8   6.66   \n",
       "24  PG   Golden State Warriors  67  15  0.817      110   99.9  10.01   \n",
       "25  PG   Golden State Warriors  73   9   0.89    114.9  104.1  10.38   \n",
       "26  PG   Oklahoma City Thunder  47  35  0.573  4  106.6  105.8   1.14   \n",
       "27  SG         Houston Rockets  65  17  0.793    112.4  103.9   8.21   \n",
       "28  PF         Milwaukee Bucks  60  22  0.732    118.1  109.3   8.04   \n",
       "29  PF         Milwaukee Bucks  56  17  0.767    118.7  108.6   9.41   \n",
       "30   C          Denver Nuggets  47  25  0.653  5  115.1  110.1   4.82   \n",
       "\n",
       "                      Team  \n",
       "0            Chicago Bulls  \n",
       "1            Chicago Bulls  \n",
       "2             Phoenix Suns  \n",
       "3          Houston Rockets  \n",
       "4        San Antonio Spurs  \n",
       "5            Chicago Bulls  \n",
       "6                Utah Jazz  \n",
       "7            Chicago Bulls  \n",
       "8                Utah Jazz  \n",
       "9       Los Angeles Lakers  \n",
       "10      Philadelphia 76ers  \n",
       "11       San Antonio Spurs  \n",
       "12       San Antonio Spurs  \n",
       "13  Minnesota Timberwolves  \n",
       "14            Phoenix Suns  \n",
       "15            Phoenix Suns  \n",
       "16        Dallas Mavericks  \n",
       "17      Los Angeles Lakers  \n",
       "18     Cleveland Cavaliers  \n",
       "19     Cleveland Cavaliers  \n",
       "20           Chicago Bulls  \n",
       "21              Miami Heat  \n",
       "22              Miami Heat  \n",
       "23   Oklahoma City Thunder  \n",
       "24   Golden State Warriors  \n",
       "25   Golden State Warriors  \n",
       "26   Oklahoma City Thunder  \n",
       "27         Houston Rockets  \n",
       "28         Milwaukee Bucks  \n",
       "29         Milwaukee Bucks  \n",
       "30          Denver Nuggets  "
      ]
     },
     "execution_count": 11,
     "metadata": {},
     "output_type": "execute_result"
    }
   ],
   "source": [
    "# Colonnes à fusionner\n",
    "columns_to_merge = [\"W\", \"L\", \"W/L%\", \"GB\", \"PS/G\", \"PA/G\", \"SRS\", \"Year\", \"Team\"]\n",
    "\n",
    "# Fusionner les DataFrames en utilisant les clés \"Year\" et \"Name\" afin d'avoir les stats de l'équipe du joueur MVP à son année afin de comparer\n",
    "mvps_players_merged = pd.merge(mvps_merged, teams[columns_to_merge], left_on=[\"Year\", \"Name\"], right_on=[\"Year\", \"Team\"])\n",
    "\n",
    "mvps_players_merged"
   ]
  },
  {
   "cell_type": "code",
   "execution_count": 12,
   "metadata": {},
   "outputs": [],
   "source": [
    "mvps_merged = mvps_players_merged\n",
    "# Créer une liste des noms de colonnes existants à renommer\n",
    "columns_to_rename = [\"W\", \"L\", \"W/L%\", \"GB\", \"PS/G\", \"PA/G\", \"SRS\"]\n",
    "\n",
    "# Parcourir la liste des noms de colonnes à renommer et renommer chaque colonne en ajoutant le suffixe \"- team\"\n",
    "for column_name in columns_to_rename:\n",
    "    mvps_merged = mvps_merged.rename(columns={column_name: \"Tms -\" + column_name })"
   ]
  },
  {
   "cell_type": "markdown",
   "metadata": {},
   "source": [
    "**Conversion en Float**"
   ]
  },
  {
   "cell_type": "code",
   "execution_count": 13,
   "metadata": {},
   "outputs": [
    {
     "name": "stdout",
     "output_type": "stream",
     "text": [
      "Rank          object\n",
      "Player        object\n",
      "Age            int64\n",
      "Tm            object\n",
      "First          int64\n",
      "Pts Won        int64\n",
      "Pts Max        int64\n",
      "Share        float64\n",
      "G              int64\n",
      "MP           float64\n",
      "PTS          float64\n",
      "TRB          float64\n",
      "AST          float64\n",
      "STL          float64\n",
      "BLK          float64\n",
      "FG%          float64\n",
      "3P%          float64\n",
      "FT%          float64\n",
      "WS           float64\n",
      "WS/48        float64\n",
      "Year           int64\n",
      "Pos           object\n",
      "Name          object\n",
      "Tms -W         int64\n",
      "Tms -L         int64\n",
      "Tms -W/L%    float64\n",
      "Tms -GB      float64\n",
      "Tms -PS/G    float64\n",
      "Tms -PA/G    float64\n",
      "Tms -SRS     float64\n",
      "Team          object\n",
      "dtype: object\n"
     ]
    }
   ],
   "source": [
    "# Liste des colonnes à convertir en float\n",
    "columns_to_convert = [\"Tms -W\", \"Tms -L\", \"Tms -W/L%\", \"Tms -GB\", \"Tms -PS/G\", \"Tms -PA/G\", \"Tms -SRS\"]\n",
    "\n",
    "# Convertir les colonnes en float\n",
    "mvps_merged[columns_to_convert] = mvps_merged[columns_to_convert].apply(pd.to_numeric, errors='coerce')\n",
    "\n",
    "# Vérifier le type de données après conversion\n",
    "print(mvps_merged.dtypes)"
   ]
  },
  {
   "cell_type": "code",
   "execution_count": 14,
   "metadata": {},
   "outputs": [
    {
     "name": "stdout",
     "output_type": "stream",
     "text": [
      "Rank          object\n",
      "Player        object\n",
      "Age            int64\n",
      "Tm            object\n",
      "First          int64\n",
      "Pts Won        int64\n",
      "Pts Max        int64\n",
      "Share        float64\n",
      "G              int64\n",
      "MP           float64\n",
      "PTS          float64\n",
      "TRB          float64\n",
      "AST          float64\n",
      "STL          float64\n",
      "BLK          float64\n",
      "FG%          float64\n",
      "3P%          float64\n",
      "FT%          float64\n",
      "WS           float64\n",
      "WS/48        float64\n",
      "Year           int64\n",
      "Pos           object\n",
      "Name          object\n",
      "Tms -W         int64\n",
      "Tms -L         int64\n",
      "Tms -W/L%    float64\n",
      "Tms -GB      float64\n",
      "Tms -PS/G    float64\n",
      "Tms -PA/G    float64\n",
      "Tms -SRS     float64\n",
      "Team          object\n",
      "dtype: object\n"
     ]
    },
    {
     "ename": "NameError",
     "evalue": "name 'sns' is not defined",
     "output_type": "error",
     "traceback": [
      "\u001b[0;31m---------------------------------------------------------------------------\u001b[0m",
      "\u001b[0;31mNameError\u001b[0m                                 Traceback (most recent call last)",
      "Cell \u001b[0;32mIn[14], line 14\u001b[0m\n\u001b[1;32m     12\u001b[0m \u001b[38;5;66;03m# Créer un heatmap de la matrice de corrélation\u001b[39;00m\n\u001b[1;32m     13\u001b[0m plt\u001b[38;5;241m.\u001b[39mfigure(figsize\u001b[38;5;241m=\u001b[39m(\u001b[38;5;241m10\u001b[39m, \u001b[38;5;241m8\u001b[39m))\n\u001b[0;32m---> 14\u001b[0m \u001b[43msns\u001b[49m\u001b[38;5;241m.\u001b[39mheatmap(filtered_matrix, annot\u001b[38;5;241m=\u001b[39m\u001b[38;5;28;01mTrue\u001b[39;00m, cmap\u001b[38;5;241m=\u001b[39m\u001b[38;5;124m\"\u001b[39m\u001b[38;5;124mcoolwarm\u001b[39m\u001b[38;5;124m\"\u001b[39m, fmt\u001b[38;5;241m=\u001b[39m\u001b[38;5;124m\"\u001b[39m\u001b[38;5;124m.2f\u001b[39m\u001b[38;5;124m\"\u001b[39m, linewidths\u001b[38;5;241m=\u001b[39m\u001b[38;5;241m.5\u001b[39m)\n\u001b[1;32m     15\u001b[0m plt\u001b[38;5;241m.\u001b[39mtitle(\u001b[38;5;124m\"\u001b[39m\u001b[38;5;124mMatrice de corrélation\u001b[39m\u001b[38;5;124m\"\u001b[39m)\n\u001b[1;32m     16\u001b[0m plt\u001b[38;5;241m.\u001b[39mshow()\n",
      "\u001b[0;31mNameError\u001b[0m: name 'sns' is not defined"
     ]
    },
    {
     "data": {
      "text/plain": [
       "<Figure size 1000x800 with 0 Axes>"
      ]
     },
     "metadata": {},
     "output_type": "display_data"
    }
   ],
   "source": [
    "# Sélectionner uniquement les colonnes numériques dans le DataFrame\n",
    "numeric_columns = mvps_merged.select_dtypes(include=[\"number\"])\n",
    "\n",
    "print(mvps_merged.dtypes)\n",
    "\n",
    "# Calculer la corrélation entre les colonnes numériques\n",
    "correlation_matrix = numeric_columns.corr()\n",
    "\n",
    "# Filtrer la matrice de corrélation pour n'avoir que les valeurs entre 0,40 et 1\n",
    "filtered_matrix = correlation_matrix.mask((correlation_matrix < 0.4) & (correlation_matrix > -0.4))\n",
    "\n",
    "# Créer un heatmap de la matrice de corrélation\n",
    "plt.figure(figsize=(10, 8))\n",
    "sns.heatmap(filtered_matrix, annot=True, cmap=\"coolwarm\", fmt=\".2f\", linewidths=.5)\n",
    "plt.title(\"Matrice de corrélation\")\n",
    "plt.show()"
   ]
  },
  {
   "cell_type": "code",
   "execution_count": null,
   "metadata": {},
   "outputs": [
    {
     "name": "stdout",
     "output_type": "stream",
     "text": [
      "   Rank                 Player  Age   Tm  First  Pts Won  Pts Max  Share   G  \\\n",
      "0     1         Michael Jordan   27  CHI     77      891      960  0.928  82   \n",
      "1     1         Michael Jordan   28  CHI     80      900      960  0.938  80   \n",
      "2     1        Charles Barkley   29  PHO     59      835      980  0.852  76   \n",
      "3     1        Hakeem Olajuwon   31  HOU     66      889     1010  0.880  80   \n",
      "4     1         David Robinson   29  SAS     73      901     1050  0.858  81   \n",
      "5     1         Michael Jordan   32  CHI    109     1114     1130  0.986  82   \n",
      "6     1            Karl Malone   33  UTA     63      986     1150  0.857  82   \n",
      "7     1         Michael Jordan   34  CHI     92     1084     1160  0.934  82   \n",
      "8     1            Karl Malone   35  UTA     44      827     1180  0.701  49   \n",
      "9     1       Shaquille O'Neal   27  LAL    120     1207     1210  0.998  79   \n",
      "10    1          Allen Iverson   25  PHI     93     1121     1240  0.904  71   \n",
      "11    1             Tim Duncan   25  SAS     57      954     1260  0.757  82   \n",
      "12    1             Tim Duncan   26  SAS     60      962     1190  0.808  81   \n",
      "13    1          Kevin Garnett   27  MIN    120     1219     1230  0.991  82   \n",
      "14    1             Steve Nash   30  PHO     65     1066     1270  0.839  75   \n",
      "15    1             Steve Nash   31  PHO     57      924     1250  0.739  79   \n",
      "16    1          Dirk Nowitzki   28  DAL     83     1138     1290  0.882  78   \n",
      "17    1            Kobe Bryant   29  LAL     82     1100     1260  0.873  82   \n",
      "18    1           LeBron James   24  CLE    109     1172     1210  0.969  81   \n",
      "19    1           LeBron James   25  CLE    116     1205     1230  0.980  76   \n",
      "20    1           Derrick Rose   22  CHI    113     1182     1210  0.977  81   \n",
      "21    1           LeBron James   27  MIA     85     1074     1210  0.888  62   \n",
      "22    1           LeBron James   28  MIA    120     1207     1210  0.998  76   \n",
      "23    1           Kevin Durant   25  OKC    119     1232     1250  0.986  81   \n",
      "24    1          Stephen Curry   26  GSW    100     1198     1300  0.922  80   \n",
      "25    1          Stephen Curry   27  GSW    131     1310     1310  1.000  79   \n",
      "26    1      Russell Westbrook   28  OKC     69      888     1010  0.879  81   \n",
      "27    1           James Harden   28  HOU     86      965     1010  0.955  72   \n",
      "28    1  Giannis Antetokounmpo   24  MIL     78      941     1010  0.932  72   \n",
      "29    1  Giannis Antetokounmpo   25  MIL     85      962     1010  0.952  63   \n",
      "30    1           Nikola Joki?   25  DEN     91      971     1010  0.961  72   \n",
      "\n",
      "      MP   PTS   TRB   AST  STL  BLK    FG%    3P%    FT%    WS  WS/48  Year  \\\n",
      "0   37.0  31.5   6.0   5.5  2.7  1.0  0.539  0.312  0.851  20.3  0.321  1991   \n",
      "1   38.8  30.1   6.4   6.1  2.3  0.9  0.519  0.270  0.832  17.7  0.274  1992   \n",
      "2   37.6  25.6  12.2   5.1  1.6  1.0  0.520  0.305  0.765  14.4  0.242  1993   \n",
      "3   41.0  27.3  11.9   3.6  1.6  3.7  0.528  0.421  0.716  14.3  0.210  1994   \n",
      "4   38.0  27.6  10.8   2.9  1.7  3.2  0.530  0.300  0.774  17.5  0.273  1995   \n",
      "5   37.7  30.4   6.6   4.3  2.2  0.5  0.495  0.427  0.834  20.4  0.317  1996   \n",
      "6   36.6  27.4   9.9   4.5  1.4  0.6  0.550  0.000  0.755  16.7  0.268  1997   \n",
      "7   38.8  28.7   5.8   3.5  1.7  0.5  0.465  0.238  0.784  15.8  0.238  1998   \n",
      "8   37.4  23.8   9.4   4.1  1.3  0.6  0.493  0.000  0.788   9.6  0.252  1999   \n",
      "9   40.0  29.7  13.6   3.8  0.5  3.0  0.574  0.000  0.524  18.6  0.283  2000   \n",
      "10  42.0  31.1   3.8   4.6  2.5  0.3  0.420  0.320  0.814  11.8  0.190  2001   \n",
      "11  40.6  25.5  12.7   3.7  0.7  2.5  0.508  0.100  0.799  17.8  0.257  2002   \n",
      "12  39.3  23.3  12.9   3.9  0.7  2.9  0.513  0.273  0.710  16.5  0.248  2003   \n",
      "13  39.4  24.2  13.9   5.0  1.5  2.2  0.499  0.256  0.791  18.3  0.272  2004   \n",
      "14  34.3  15.5   3.3  11.5  1.0  0.1  0.502  0.431  0.887  10.9  0.203  2005   \n",
      "15  35.4  18.8   4.2  10.5  0.8  0.2  0.512  0.439  0.921  12.4  0.212  2006   \n",
      "16  36.2  24.6   8.9   3.4  0.7  0.8  0.502  0.416  0.904  16.3  0.278  2007   \n",
      "17  38.9  28.3   6.3   5.4  1.8  0.5  0.459  0.361  0.840  13.8  0.208  2008   \n",
      "18  37.7  28.4   7.6   7.2  1.7  1.1  0.489  0.344  0.780  20.3  0.318  2009   \n",
      "19  39.0  29.7   7.3   8.6  1.6  1.0  0.503  0.333  0.767  18.5  0.299  2010   \n",
      "20  37.4  25.0   4.1   7.7  1.0  0.6  0.445  0.332  0.858  13.1  0.208  2011   \n",
      "21  37.5  27.1   7.9   6.2  1.9  0.8  0.531  0.362  0.771  14.5  0.298  2012   \n",
      "22  37.9  26.8   8.0   7.3  1.7  0.9  0.565  0.406  0.753  19.3  0.322  2013   \n",
      "23  38.5  32.0   7.4   5.5  1.3  0.7  0.503  0.391  0.873  19.2  0.295  2014   \n",
      "24  32.7  23.8   4.3   7.7  2.0  0.2  0.487  0.443  0.914  15.7  0.288  2015   \n",
      "25  34.2  30.1   5.4   6.7  2.1  0.2  0.504  0.454  0.908  17.9  0.318  2016   \n",
      "26  34.6  31.6  10.7  10.4  1.6  0.4  0.425  0.343  0.845  13.1  0.224  2017   \n",
      "27  35.4  30.4   5.4   8.8  1.8  0.7  0.449  0.367  0.858  15.4  0.289  2018   \n",
      "28  32.8  27.7  12.5   5.9  1.3  1.5  0.578  0.256  0.729  14.4  0.292  2019   \n",
      "29  30.4  29.5  13.6   5.6  1.0  1.0  0.553  0.304  0.633  11.1  0.279  2020   \n",
      "30  34.6  26.4  10.8   8.3  1.3  0.7  0.566  0.388  0.868  15.6  0.301  2021   \n",
      "\n",
      "   Pos                    Name  Tms -W  Tms -L  Tms -W/L%  Tms -GB  Tms -PS/G  \\\n",
      "0   SG           Chicago Bulls      61      21      0.744      NaN      110.0   \n",
      "1   SG           Chicago Bulls      67      15      0.817      NaN      109.9   \n",
      "2   PF            Phoenix Suns      62      20      0.756      NaN      113.4   \n",
      "3    C         Houston Rockets      58      24      0.707      NaN      101.1   \n",
      "4    C       San Antonio Spurs      62      20      0.756      NaN      106.6   \n",
      "5   SG           Chicago Bulls      72      10      0.878      NaN      105.2   \n",
      "6   PF               Utah Jazz      64      18      0.780      NaN      103.1   \n",
      "7   SG           Chicago Bulls      62      20      0.756      NaN       96.7   \n",
      "8   PF               Utah Jazz      37      13      0.740      NaN       93.3   \n",
      "9    C      Los Angeles Lakers      67      15      0.817      NaN      100.8   \n",
      "10  SG      Philadelphia 76ers      56      26      0.683      NaN       94.7   \n",
      "11  PF       San Antonio Spurs      58      24      0.707      NaN       96.7   \n",
      "12  PF       San Antonio Spurs      60      22      0.732      NaN       95.8   \n",
      "13  PF  Minnesota Timberwolves      58      24      0.707      NaN       94.5   \n",
      "14  PG            Phoenix Suns      62      20      0.756      NaN      110.4   \n",
      "15  PG            Phoenix Suns      54      28      0.659      NaN      108.4   \n",
      "16  PF        Dallas Mavericks      67      15      0.817      NaN      100.0   \n",
      "17  SG      Los Angeles Lakers      57      25      0.695      NaN      108.6   \n",
      "18  SF     Cleveland Cavaliers      66      16      0.805      NaN      100.3   \n",
      "19  SF     Cleveland Cavaliers      61      21      0.744      NaN      102.1   \n",
      "20  PG           Chicago Bulls      62      20      0.756      NaN       98.6   \n",
      "21  SF              Miami Heat      46      20      0.697      NaN       98.5   \n",
      "22  PF              Miami Heat      66      16      0.805      NaN      102.9   \n",
      "23  SF   Oklahoma City Thunder      59      23      0.720      NaN      106.2   \n",
      "24  PG   Golden State Warriors      67      15      0.817      NaN      110.0   \n",
      "25  PG   Golden State Warriors      73       9      0.890      NaN      114.9   \n",
      "26  PG   Oklahoma City Thunder      47      35      0.573      4.0      106.6   \n",
      "27  SG         Houston Rockets      65      17      0.793      NaN      112.4   \n",
      "28  PF         Milwaukee Bucks      60      22      0.732      NaN      118.1   \n",
      "29  PF         Milwaukee Bucks      56      17      0.767      NaN      118.7   \n",
      "30   C          Denver Nuggets      47      25      0.653      5.0      115.1   \n",
      "\n",
      "    Tms -PA/G  Tms -SRS                    Team  \n",
      "0       101.0      8.57           Chicago Bulls  \n",
      "1        99.5     10.07           Chicago Bulls  \n",
      "2       106.7      6.27            Phoenix Suns  \n",
      "3        96.8      4.19         Houston Rockets  \n",
      "4       100.6      5.90       San Antonio Spurs  \n",
      "5        92.9     11.80           Chicago Bulls  \n",
      "6        94.3      7.97               Utah Jazz  \n",
      "7        89.6      7.24           Chicago Bulls  \n",
      "8        86.8      5.54               Utah Jazz  \n",
      "9        92.3      8.41      Los Angeles Lakers  \n",
      "10       90.4      3.64      Philadelphia 76ers  \n",
      "11       90.5      6.28       San Antonio Spurs  \n",
      "12       90.4      5.65       San Antonio Spurs  \n",
      "13       89.1      5.86  Minnesota Timberwolves  \n",
      "14      103.3      7.08            Phoenix Suns  \n",
      "15      102.8      5.48            Phoenix Suns  \n",
      "16       92.8      7.28        Dallas Mavericks  \n",
      "17      101.3      7.34      Los Angeles Lakers  \n",
      "18       91.4      8.68     Cleveland Cavaliers  \n",
      "19       95.6      6.17     Cleveland Cavaliers  \n",
      "20       91.3      6.53           Chicago Bulls  \n",
      "21       92.5      5.72              Miami Heat  \n",
      "22       95.0      7.03              Miami Heat  \n",
      "23       99.8      6.66   Oklahoma City Thunder  \n",
      "24       99.9     10.01   Golden State Warriors  \n",
      "25      104.1     10.38   Golden State Warriors  \n",
      "26      105.8      1.14   Oklahoma City Thunder  \n",
      "27      103.9      8.21         Houston Rockets  \n",
      "28      109.3      8.04         Milwaukee Bucks  \n",
      "29      108.6      9.41         Milwaukee Bucks  \n",
      "30      110.1      4.82          Denver Nuggets  \n"
     ]
    }
   ],
   "source": [
    "print(mvps_merged)"
   ]
  },
  {
   "cell_type": "code",
   "execution_count": null,
   "metadata": {},
   "outputs": [
    {
     "name": "stdout",
     "output_type": "stream",
     "text": [
      "   Rank  Player  Age  First  Pts Won  Pts Max  Share   G    MP   PTS   TRB  \\\n",
      "0     1       0   27     77      891      960  0.928  82  37.0  31.5   6.0   \n",
      "1     1       0   28     80      900      960  0.938  80  38.8  30.1   6.4   \n",
      "2     1       1   29     59      835      980  0.852  76  37.6  25.6  12.2   \n",
      "3     1       2   31     66      889     1010  0.880  80  41.0  27.3  11.9   \n",
      "4     1       3   29     73      901     1050  0.858  81  38.0  27.6  10.8   \n",
      "5     1       0   32    109     1114     1130  0.986  82  37.7  30.4   6.6   \n",
      "6     1       4   33     63      986     1150  0.857  82  36.6  27.4   9.9   \n",
      "7     1       0   34     92     1084     1160  0.934  82  38.8  28.7   5.8   \n",
      "8     1       4   35     44      827     1180  0.701  49  37.4  23.8   9.4   \n",
      "9     1       5   27    120     1207     1210  0.998  79  40.0  29.7  13.6   \n",
      "10    1       6   25     93     1121     1240  0.904  71  42.0  31.1   3.8   \n",
      "11    1       7   25     57      954     1260  0.757  82  40.6  25.5  12.7   \n",
      "12    1       7   26     60      962     1190  0.808  81  39.3  23.3  12.9   \n",
      "13    1       8   27    120     1219     1230  0.991  82  39.4  24.2  13.9   \n",
      "14    1       9   30     65     1066     1270  0.839  75  34.3  15.5   3.3   \n",
      "15    1       9   31     57      924     1250  0.739  79  35.4  18.8   4.2   \n",
      "16    1      10   28     83     1138     1290  0.882  78  36.2  24.6   8.9   \n",
      "17    1      11   29     82     1100     1260  0.873  82  38.9  28.3   6.3   \n",
      "18    1      12   24    109     1172     1210  0.969  81  37.7  28.4   7.6   \n",
      "19    1      12   25    116     1205     1230  0.980  76  39.0  29.7   7.3   \n",
      "20    1      13   22    113     1182     1210  0.977  81  37.4  25.0   4.1   \n",
      "21    1      12   27     85     1074     1210  0.888  62  37.5  27.1   7.9   \n",
      "22    1      12   28    120     1207     1210  0.998  76  37.9  26.8   8.0   \n",
      "23    1      14   25    119     1232     1250  0.986  81  38.5  32.0   7.4   \n",
      "24    1      15   26    100     1198     1300  0.922  80  32.7  23.8   4.3   \n",
      "25    1      15   27    131     1310     1310  1.000  79  34.2  30.1   5.4   \n",
      "26    1      16   28     69      888     1010  0.879  81  34.6  31.6  10.7   \n",
      "27    1      17   28     86      965     1010  0.955  72  35.4  30.4   5.4   \n",
      "28    1      18   24     78      941     1010  0.932  72  32.8  27.7  12.5   \n",
      "29    1      18   25     85      962     1010  0.952  63  30.4  29.5  13.6   \n",
      "30    1      19   25     91      971     1010  0.961  72  34.6  26.4  10.8   \n",
      "\n",
      "     AST  STL  BLK    FG%    3P%    FT%    WS  WS/48  Year  Pos  Name  Tms -W  \\\n",
      "0    5.5  2.7  1.0  0.539  0.312  0.851  20.3  0.321  1991  NaN     0      61   \n",
      "1    6.1  2.3  0.9  0.519  0.270  0.832  17.7  0.274  1992  NaN     0      67   \n",
      "2    5.1  1.6  1.0  0.520  0.305  0.765  14.4  0.242  1993  NaN     1      62   \n",
      "3    3.6  1.6  3.7  0.528  0.421  0.716  14.3  0.210  1994  NaN     2      58   \n",
      "4    2.9  1.7  3.2  0.530  0.300  0.774  17.5  0.273  1995  NaN     3      62   \n",
      "5    4.3  2.2  0.5  0.495  0.427  0.834  20.4  0.317  1996  NaN     0      72   \n",
      "6    4.5  1.4  0.6  0.550  0.000  0.755  16.7  0.268  1997  NaN     4      64   \n",
      "7    3.5  1.7  0.5  0.465  0.238  0.784  15.8  0.238  1998  NaN     0      62   \n",
      "8    4.1  1.3  0.6  0.493  0.000  0.788   9.6  0.252  1999  NaN     4      37   \n",
      "9    3.8  0.5  3.0  0.574  0.000  0.524  18.6  0.283  2000  NaN     5      67   \n",
      "10   4.6  2.5  0.3  0.420  0.320  0.814  11.8  0.190  2001  NaN     6      56   \n",
      "11   3.7  0.7  2.5  0.508  0.100  0.799  17.8  0.257  2002  NaN     3      58   \n",
      "12   3.9  0.7  2.9  0.513  0.273  0.710  16.5  0.248  2003  NaN     3      60   \n",
      "13   5.0  1.5  2.2  0.499  0.256  0.791  18.3  0.272  2004  NaN     7      58   \n",
      "14  11.5  1.0  0.1  0.502  0.431  0.887  10.9  0.203  2005  NaN     1      62   \n",
      "15  10.5  0.8  0.2  0.512  0.439  0.921  12.4  0.212  2006  NaN     1      54   \n",
      "16   3.4  0.7  0.8  0.502  0.416  0.904  16.3  0.278  2007  NaN     8      67   \n",
      "17   5.4  1.8  0.5  0.459  0.361  0.840  13.8  0.208  2008  NaN     5      57   \n",
      "18   7.2  1.7  1.1  0.489  0.344  0.780  20.3  0.318  2009  NaN     9      66   \n",
      "19   8.6  1.6  1.0  0.503  0.333  0.767  18.5  0.299  2010  NaN     9      61   \n",
      "20   7.7  1.0  0.6  0.445  0.332  0.858  13.1  0.208  2011  NaN     0      62   \n",
      "21   6.2  1.9  0.8  0.531  0.362  0.771  14.5  0.298  2012  NaN    10      46   \n",
      "22   7.3  1.7  0.9  0.565  0.406  0.753  19.3  0.322  2013  NaN    10      66   \n",
      "23   5.5  1.3  0.7  0.503  0.391  0.873  19.2  0.295  2014  NaN    11      59   \n",
      "24   7.7  2.0  0.2  0.487  0.443  0.914  15.7  0.288  2015  NaN    12      67   \n",
      "25   6.7  2.1  0.2  0.504  0.454  0.908  17.9  0.318  2016  NaN    12      73   \n",
      "26  10.4  1.6  0.4  0.425  0.343  0.845  13.1  0.224  2017  NaN    11      47   \n",
      "27   8.8  1.8  0.7  0.449  0.367  0.858  15.4  0.289  2018  NaN     2      65   \n",
      "28   5.9  1.3  1.5  0.578  0.256  0.729  14.4  0.292  2019  NaN    13      60   \n",
      "29   5.6  1.0  1.0  0.553  0.304  0.633  11.1  0.279  2020  NaN    13      56   \n",
      "30   8.3  1.3  0.7  0.566  0.388  0.868  15.6  0.301  2021  NaN    14      47   \n",
      "\n",
      "    Tms -L  Tms -W/L%  Tms -GB  Tms -PS/G  Tms -PA/G  Tms -SRS  \n",
      "0       21      0.744      NaN      110.0      101.0      8.57  \n",
      "1       15      0.817      NaN      109.9       99.5     10.07  \n",
      "2       20      0.756      NaN      113.4      106.7      6.27  \n",
      "3       24      0.707      NaN      101.1       96.8      4.19  \n",
      "4       20      0.756      NaN      106.6      100.6      5.90  \n",
      "5       10      0.878      NaN      105.2       92.9     11.80  \n",
      "6       18      0.780      NaN      103.1       94.3      7.97  \n",
      "7       20      0.756      NaN       96.7       89.6      7.24  \n",
      "8       13      0.740      NaN       93.3       86.8      5.54  \n",
      "9       15      0.817      NaN      100.8       92.3      8.41  \n",
      "10      26      0.683      NaN       94.7       90.4      3.64  \n",
      "11      24      0.707      NaN       96.7       90.5      6.28  \n",
      "12      22      0.732      NaN       95.8       90.4      5.65  \n",
      "13      24      0.707      NaN       94.5       89.1      5.86  \n",
      "14      20      0.756      NaN      110.4      103.3      7.08  \n",
      "15      28      0.659      NaN      108.4      102.8      5.48  \n",
      "16      15      0.817      NaN      100.0       92.8      7.28  \n",
      "17      25      0.695      NaN      108.6      101.3      7.34  \n",
      "18      16      0.805      NaN      100.3       91.4      8.68  \n",
      "19      21      0.744      NaN      102.1       95.6      6.17  \n",
      "20      20      0.756      NaN       98.6       91.3      6.53  \n",
      "21      20      0.697      NaN       98.5       92.5      5.72  \n",
      "22      16      0.805      NaN      102.9       95.0      7.03  \n",
      "23      23      0.720      NaN      106.2       99.8      6.66  \n",
      "24      15      0.817      NaN      110.0       99.9     10.01  \n",
      "25       9      0.890      NaN      114.9      104.1     10.38  \n",
      "26      35      0.573      4.0      106.6      105.8      1.14  \n",
      "27      17      0.793      NaN      112.4      103.9      8.21  \n",
      "28      22      0.732      NaN      118.1      109.3      8.04  \n",
      "29      17      0.767      NaN      118.7      108.6      9.41  \n",
      "30      25      0.653      5.0      115.1      110.1      4.82  \n"
     ]
    },
    {
     "data": {
      "image/png": "[encoded data removed]",
      "text/plain": [
       "<Figure size 1000x800 with 2 Axes>"
      ]
     },
     "metadata": {},
     "output_type": "display_data"
    }
   ],
   "source": [
    "mvps_merged_explo = mvps_merged.copy()\n",
    "mvps_merged_explo = mvps_merged_explo.drop(columns=\"Tm\")\n",
    "mvps_merged_explo = mvps_merged_explo.drop(columns=\"Team\")\n",
    "# Créer des dictionnaires pour mapper les joueurs et les équipes à des valeurs numériques uniques\n",
    "player_mapping = {player: i for i, player in enumerate(mvps_merged_explo['Player'].unique())}\n",
    "team_mapping = {team: i for i, team in enumerate(mvps_merged_explo['Name'].unique())}\n",
    "post_mapping = {post: i for i, post in enumerate(mvps_merged_explo['Pos'].unique())}\n",
    "\n",
    "# Remplacer les noms de joueurs et d'équipes par les valeurs numériques correspondantes\n",
    "mvps_merged_explo['Player'] = mvps_merged_explo['Player'].map(player_mapping)\n",
    "mvps_merged_explo['Name'] = mvps_merged_explo['Name'].map(team_mapping)\n",
    "mvps_merged_explo['Pos'] = mvps_merged_explo['Pos'].map(team_mapping)\n",
    "\n",
    "print(mvps_merged_explo)\n",
    "\n",
    "# Calculer la corrélation entre les colonnes numériques de votre DataFrame\n",
    "correlation_matrix = mvps_merged_explo.corr()\n",
    "\n",
    "# Filtrer la matrice de corrélation pour n'avoir que les valeurs entre 0,40 et 1\n",
    "filtered_matrix = correlation_matrix.mask((correlation_matrix < 0.7) & (correlation_matrix > -0.7))\n",
    "\n",
    "# Créer un heatmap de la matrice de corrélation\n",
    "plt.figure(figsize=(10, 8))\n",
    "sns.heatmap(filtered_matrix, annot=True, cmap=\"coolwarm\", fmt=\".2f\", linewidths=.5)\n",
    "plt.title(\"Matrice de corrélation\")\n",
    "plt.show()"
   ]
  },
  {
   "cell_type": "markdown",
   "metadata": {},
   "source": [
    "On peut remarquer que la colonne  PS/G est fortement décorélé avec la colonne MP qui sont les minutes joué du joueur MVP\n",
    "On peut également remarquer que PS/G est corrélé avec  la colonne PA/G qui nous dit que le nombre de point sd'un équiepe va plutot varier en fonction des opposants qu'elle a en face "
   ]
  },
  {
   "cell_type": "code",
   "execution_count": null,
   "metadata": {},
   "outputs": [
    {
     "name": "stdout",
     "output_type": "stream",
     "text": [
      "   Rank                 Player  Age   Tm  First  Pts Won  Pts Max  Share   G  \\\n",
      "0     1         Michael Jordan   27  CHI     77      891      960  0.928  82   \n",
      "1     1         Michael Jordan   28  CHI     80      900      960  0.938  80   \n",
      "2     1        Charles Barkley   29  PHO     59      835      980  0.852  76   \n",
      "3     1        Hakeem Olajuwon   31  HOU     66      889     1010  0.880  80   \n",
      "4     1         David Robinson   29  SAS     73      901     1050  0.858  81   \n",
      "5     1         Michael Jordan   32  CHI    109     1114     1130  0.986  82   \n",
      "6     1            Karl Malone   33  UTA     63      986     1150  0.857  82   \n",
      "7     1         Michael Jordan   34  CHI     92     1084     1160  0.934  82   \n",
      "8     1            Karl Malone   35  UTA     44      827     1180  0.701  49   \n",
      "9     1       Shaquille O'Neal   27  LAL    120     1207     1210  0.998  79   \n",
      "10    1          Allen Iverson   25  PHI     93     1121     1240  0.904  71   \n",
      "11    1             Tim Duncan   25  SAS     57      954     1260  0.757  82   \n",
      "12    1             Tim Duncan   26  SAS     60      962     1190  0.808  81   \n",
      "13    1          Kevin Garnett   27  MIN    120     1219     1230  0.991  82   \n",
      "14    1             Steve Nash   30  PHO     65     1066     1270  0.839  75   \n",
      "15    1             Steve Nash   31  PHO     57      924     1250  0.739  79   \n",
      "16    1          Dirk Nowitzki   28  DAL     83     1138     1290  0.882  78   \n",
      "17    1            Kobe Bryant   29  LAL     82     1100     1260  0.873  82   \n",
      "18    1           LeBron James   24  CLE    109     1172     1210  0.969  81   \n",
      "19    1           LeBron James   25  CLE    116     1205     1230  0.980  76   \n",
      "20    1           Derrick Rose   22  CHI    113     1182     1210  0.977  81   \n",
      "21    1           LeBron James   27  MIA     85     1074     1210  0.888  62   \n",
      "22    1           LeBron James   28  MIA    120     1207     1210  0.998  76   \n",
      "23    1           Kevin Durant   25  OKC    119     1232     1250  0.986  81   \n",
      "24    1          Stephen Curry   26  GSW    100     1198     1300  0.922  80   \n",
      "25    1          Stephen Curry   27  GSW    131     1310     1310  1.000  79   \n",
      "26    1      Russell Westbrook   28  OKC     69      888     1010  0.879  81   \n",
      "27    1           James Harden   28  HOU     86      965     1010  0.955  72   \n",
      "28    1  Giannis Antetokounmpo   24  MIL     78      941     1010  0.932  72   \n",
      "29    1  Giannis Antetokounmpo   25  MIL     85      962     1010  0.952  63   \n",
      "30    1           Nikola Joki?   25  DEN     91      971     1010  0.961  72   \n",
      "\n",
      "      MP   PTS   TRB   AST  STL  BLK    FG%    3P%    FT%    WS  WS/48  Year  \\\n",
      "0   37.0  31.5   6.0   5.5  2.7  1.0  0.539  0.312  0.851  20.3  0.321  1991   \n",
      "1   38.8  30.1   6.4   6.1  2.3  0.9  0.519  0.270  0.832  17.7  0.274  1992   \n",
      "2   37.6  25.6  12.2   5.1  1.6  1.0  0.520  0.305  0.765  14.4  0.242  1993   \n",
      "3   41.0  27.3  11.9   3.6  1.6  3.7  0.528  0.421  0.716  14.3  0.210  1994   \n",
      "4   38.0  27.6  10.8   2.9  1.7  3.2  0.530  0.300  0.774  17.5  0.273  1995   \n",
      "5   37.7  30.4   6.6   4.3  2.2  0.5  0.495  0.427  0.834  20.4  0.317  1996   \n",
      "6   36.6  27.4   9.9   4.5  1.4  0.6  0.550  0.000  0.755  16.7  0.268  1997   \n",
      "7   38.8  28.7   5.8   3.5  1.7  0.5  0.465  0.238  0.784  15.8  0.238  1998   \n",
      "8   37.4  23.8   9.4   4.1  1.3  0.6  0.493  0.000  0.788   9.6  0.252  1999   \n",
      "9   40.0  29.7  13.6   3.8  0.5  3.0  0.574  0.000  0.524  18.6  0.283  2000   \n",
      "10  42.0  31.1   3.8   4.6  2.5  0.3  0.420  0.320  0.814  11.8  0.190  2001   \n",
      "11  40.6  25.5  12.7   3.7  0.7  2.5  0.508  0.100  0.799  17.8  0.257  2002   \n",
      "12  39.3  23.3  12.9   3.9  0.7  2.9  0.513  0.273  0.710  16.5  0.248  2003   \n",
      "13  39.4  24.2  13.9   5.0  1.5  2.2  0.499  0.256  0.791  18.3  0.272  2004   \n",
      "14  34.3  15.5   3.3  11.5  1.0  0.1  0.502  0.431  0.887  10.9  0.203  2005   \n",
      "15  35.4  18.8   4.2  10.5  0.8  0.2  0.512  0.439  0.921  12.4  0.212  2006   \n",
      "16  36.2  24.6   8.9   3.4  0.7  0.8  0.502  0.416  0.904  16.3  0.278  2007   \n",
      "17  38.9  28.3   6.3   5.4  1.8  0.5  0.459  0.361  0.840  13.8  0.208  2008   \n",
      "18  37.7  28.4   7.6   7.2  1.7  1.1  0.489  0.344  0.780  20.3  0.318  2009   \n",
      "19  39.0  29.7   7.3   8.6  1.6  1.0  0.503  0.333  0.767  18.5  0.299  2010   \n",
      "20  37.4  25.0   4.1   7.7  1.0  0.6  0.445  0.332  0.858  13.1  0.208  2011   \n",
      "21  37.5  27.1   7.9   6.2  1.9  0.8  0.531  0.362  0.771  14.5  0.298  2012   \n",
      "22  37.9  26.8   8.0   7.3  1.7  0.9  0.565  0.406  0.753  19.3  0.322  2013   \n",
      "23  38.5  32.0   7.4   5.5  1.3  0.7  0.503  0.391  0.873  19.2  0.295  2014   \n",
      "24  32.7  23.8   4.3   7.7  2.0  0.2  0.487  0.443  0.914  15.7  0.288  2015   \n",
      "25  34.2  30.1   5.4   6.7  2.1  0.2  0.504  0.454  0.908  17.9  0.318  2016   \n",
      "26  34.6  31.6  10.7  10.4  1.6  0.4  0.425  0.343  0.845  13.1  0.224  2017   \n",
      "27  35.4  30.4   5.4   8.8  1.8  0.7  0.449  0.367  0.858  15.4  0.289  2018   \n",
      "28  32.8  27.7  12.5   5.9  1.3  1.5  0.578  0.256  0.729  14.4  0.292  2019   \n",
      "29  30.4  29.5  13.6   5.6  1.0  1.0  0.553  0.304  0.633  11.1  0.279  2020   \n",
      "30  34.6  26.4  10.8   8.3  1.3  0.7  0.566  0.388  0.868  15.6  0.301  2021   \n",
      "\n",
      "   Pos                    Name   W   L   W/L% GB   PS/G   PA/G    SRS  \\\n",
      "0   SG           Chicago Bulls  61  21  0.744      110    101   8.57   \n",
      "1   SG           Chicago Bulls  67  15  0.817    109.9   99.5  10.07   \n",
      "2   PF            Phoenix Suns  62  20  0.756    113.4  106.7   6.27   \n",
      "3    C         Houston Rockets  58  24  0.707    101.1   96.8   4.19   \n",
      "4    C       San Antonio Spurs  62  20  0.756    106.6  100.6    5.9   \n",
      "5   SG           Chicago Bulls  72  10  0.878    105.2   92.9   11.8   \n",
      "6   PF               Utah Jazz  64  18   0.78    103.1   94.3   7.97   \n",
      "7   SG           Chicago Bulls  62  20  0.756     96.7   89.6   7.24   \n",
      "8   PF               Utah Jazz  37  13   0.74     93.3   86.8   5.54   \n",
      "9    C      Los Angeles Lakers  67  15  0.817    100.8   92.3   8.41   \n",
      "10  SG      Philadelphia 76ers  56  26  0.683     94.7   90.4   3.64   \n",
      "11  PF       San Antonio Spurs  58  24  0.707     96.7   90.5   6.28   \n",
      "12  PF       San Antonio Spurs  60  22  0.732     95.8   90.4   5.65   \n",
      "13  PF  Minnesota Timberwolves  58  24  0.707     94.5   89.1   5.86   \n",
      "14  PG            Phoenix Suns  62  20  0.756    110.4  103.3   7.08   \n",
      "15  PG            Phoenix Suns  54  28  0.659    108.4  102.8   5.48   \n",
      "16  PF        Dallas Mavericks  67  15  0.817      100   92.8   7.28   \n",
      "17  SG      Los Angeles Lakers  57  25  0.695    108.6  101.3   7.34   \n",
      "18  SF     Cleveland Cavaliers  66  16  0.805    100.3   91.4   8.68   \n",
      "19  SF     Cleveland Cavaliers  61  21  0.744    102.1   95.6   6.17   \n",
      "20  PG           Chicago Bulls  62  20  0.756     98.6   91.3   6.53   \n",
      "21  SF              Miami Heat  46  20  0.697     98.5   92.5   5.72   \n",
      "22  PF              Miami Heat  66  16  0.805    102.9     95   7.03   \n",
      "23  SF   Oklahoma City Thunder  59  23   0.72    106.2   99.8   6.66   \n",
      "24  PG   Golden State Warriors  67  15  0.817      110   99.9  10.01   \n",
      "25  PG   Golden State Warriors  73   9   0.89    114.9  104.1  10.38   \n",
      "26  PG   Oklahoma City Thunder  47  35  0.573  4  106.6  105.8   1.14   \n",
      "27  SG         Houston Rockets  65  17  0.793    112.4  103.9   8.21   \n",
      "28  PF         Milwaukee Bucks  60  22  0.732    118.1  109.3   8.04   \n",
      "29  PF         Milwaukee Bucks  56  17  0.767    118.7  108.6   9.41   \n",
      "30   C          Denver Nuggets  47  25  0.653  5  115.1  110.1   4.82   \n",
      "\n",
      "                      Team  \n",
      "0            Chicago Bulls  \n",
      "1            Chicago Bulls  \n",
      "2             Phoenix Suns  \n",
      "3          Houston Rockets  \n",
      "4        San Antonio Spurs  \n",
      "5            Chicago Bulls  \n",
      "6                Utah Jazz  \n",
      "7            Chicago Bulls  \n",
      "8                Utah Jazz  \n",
      "9       Los Angeles Lakers  \n",
      "10      Philadelphia 76ers  \n",
      "11       San Antonio Spurs  \n",
      "12       San Antonio Spurs  \n",
      "13  Minnesota Timberwolves  \n",
      "14            Phoenix Suns  \n",
      "15            Phoenix Suns  \n",
      "16        Dallas Mavericks  \n",
      "17      Los Angeles Lakers  \n",
      "18     Cleveland Cavaliers  \n",
      "19     Cleveland Cavaliers  \n",
      "20           Chicago Bulls  \n",
      "21              Miami Heat  \n",
      "22              Miami Heat  \n",
      "23   Oklahoma City Thunder  \n",
      "24   Golden State Warriors  \n",
      "25   Golden State Warriors  \n",
      "26   Oklahoma City Thunder  \n",
      "27         Houston Rockets  \n",
      "28         Milwaukee Bucks  \n",
      "29         Milwaukee Bucks  \n",
      "30          Denver Nuggets  \n"
     ]
    }
   ],
   "source": [
    "pd.options.display.max_columns = None\n",
    "print(mvps_players_merged)"
   ]
  },
  {
   "cell_type": "code",
   "execution_count": null,
   "metadata": {},
   "outputs": [
    {
     "name": "stdout",
     "output_type": "stream",
     "text": [
      "       Rk  Player  Pos  Age  Tm  G  GS  MP  FG  FGA  FG%  3P  3PA  3P%  2P  \\\n",
      "47     Rk  Player  Pos  Age  Tm  G  GS  MP  FG  FGA  FG%  3P  3PA  3P%  2P   \n",
      "70     Rk  Player  Pos  Age  Tm  G  GS  MP  FG  FGA  FG%  3P  3PA  3P%  2P   \n",
      "93     Rk  Player  Pos  Age  Tm  G  GS  MP  FG  FGA  FG%  3P  3PA  3P%  2P   \n",
      "118    Rk  Player  Pos  Age  Tm  G  GS  MP  FG  FGA  FG%  3P  3PA  3P%  2P   \n",
      "145    Rk  Player  Pos  Age  Tm  G  GS  MP  FG  FGA  FG%  3P  3PA  3P%  2P   \n",
      "...    ..     ...  ...  ...  .. ..  ..  ..  ..  ...  ...  ..  ...  ...  ..   \n",
      "17908  Rk  Player  Pos  Age  Tm  G  GS  MP  FG  FGA  FG%  3P  3PA  3P%  2P   \n",
      "17931  Rk  Player  Pos  Age  Tm  G  GS  MP  FG  FGA  FG%  3P  3PA  3P%  2P   \n",
      "17960  Rk  Player  Pos  Age  Tm  G  GS  MP  FG  FGA  FG%  3P  3PA  3P%  2P   \n",
      "17989  Rk  Player  Pos  Age  Tm  G  GS  MP  FG  FGA  FG%  3P  3PA  3P%  2P   \n",
      "18017  Rk  Player  Pos  Age  Tm  G  GS  MP  FG  FGA  FG%  3P  3PA  3P%  2P   \n",
      "\n",
      "       2PA  2P%  eFG%  FT  FTA  FT%  ORB  DRB  TRB  AST  STL  BLK  TOV  PF  \\\n",
      "47     2PA  2P%  eFG%  FT  FTA  FT%  ORB  DRB  TRB  AST  STL  BLK  TOV  PF   \n",
      "70     2PA  2P%  eFG%  FT  FTA  FT%  ORB  DRB  TRB  AST  STL  BLK  TOV  PF   \n",
      "93     2PA  2P%  eFG%  FT  FTA  FT%  ORB  DRB  TRB  AST  STL  BLK  TOV  PF   \n",
      "118    2PA  2P%  eFG%  FT  FTA  FT%  ORB  DRB  TRB  AST  STL  BLK  TOV  PF   \n",
      "145    2PA  2P%  eFG%  FT  FTA  FT%  ORB  DRB  TRB  AST  STL  BLK  TOV  PF   \n",
      "...    ...  ...   ...  ..  ...  ...  ...  ...  ...  ...  ...  ...  ...  ..   \n",
      "17908  2PA  2P%  eFG%  FT  FTA  FT%  ORB  DRB  TRB  AST  STL  BLK  TOV  PF   \n",
      "17931  2PA  2P%  eFG%  FT  FTA  FT%  ORB  DRB  TRB  AST  STL  BLK  TOV  PF   \n",
      "17960  2PA  2P%  eFG%  FT  FTA  FT%  ORB  DRB  TRB  AST  STL  BLK  TOV  PF   \n",
      "17989  2PA  2P%  eFG%  FT  FTA  FT%  ORB  DRB  TRB  AST  STL  BLK  TOV  PF   \n",
      "18017  2PA  2P%  eFG%  FT  FTA  FT%  ORB  DRB  TRB  AST  STL  BLK  TOV  PF   \n",
      "\n",
      "       PTS  Year  \n",
      "47     PTS  1991  \n",
      "70     PTS  1991  \n",
      "93     PTS  1991  \n",
      "118    PTS  1991  \n",
      "145    PTS  1991  \n",
      "...    ...   ...  \n",
      "17908  PTS  2021  \n",
      "17931  PTS  2021  \n",
      "17960  PTS  2021  \n",
      "17989  PTS  2021  \n",
      "18017  PTS  2021  \n",
      "\n",
      "[658 rows x 31 columns]\n"
     ]
    }
   ],
   "source": [
    "# Prise en compte des lignes du tableau sans celles contenant la valeur \"Rk\" \n",
    "\n",
    "print(players.loc[players[\"Rk\"] == \"Rk\"])\n",
    "players[\"MP\"] = pd.to_numeric(players[\"MP\"], errors='coerce')"
   ]
  },
  {
   "cell_type": "markdown",
   "metadata": {},
   "source": [
    "# **ILLUSTRATION**"
   ]
  },
  {
   "cell_type": "code",
   "execution_count": null,
   "metadata": {},
   "outputs": [
    {
     "data": {
      "application/vnd.plotly.v1+json": {
       "config": {
        "plotlyServerURL": "https://plot.ly"
       },
       "data": [
        {
         "alignmentgroup": "True",
         "hovertemplate": "Position=%{x}<br>Nombre de fois=%{y}<extra></extra>",
         "legendgroup": "Ailier Fort",
         "marker": {
          "color": "#636efa",
          "pattern": {
           "shape": ""
          }
         },
         "name": "Ailier Fort",
         "offsetgroup": "Ailier Fort",
         "orientation": "v",
         "showlegend": true,
         "textposition": "auto",
         "type": "bar",
         "x": [
          "Ailier Fort"
         ],
         "xaxis": "x",
         "y": [
          10
         ],
         "yaxis": "y"
        },
        {
         "alignmentgroup": "True",
         "hovertemplate": "Position=%{x}<br>Nombre de fois=%{y}<extra></extra>",
         "legendgroup": "Arrière",
         "marker": {
          "color": "#EF553B",
          "pattern": {
           "shape": ""
          }
         },
         "name": "Arrière",
         "offsetgroup": "Arrière",
         "orientation": "v",
         "showlegend": true,
         "textposition": "auto",
         "type": "bar",
         "x": [
          "Arrière"
         ],
         "xaxis": "x",
         "y": [
          7
         ],
         "yaxis": "y"
        },
        {
         "alignmentgroup": "True",
         "hovertemplate": "Position=%{x}<br>Nombre de fois=%{y}<extra></extra>",
         "legendgroup": "Meneur de jeu",
         "marker": {
          "color": "#00cc96",
          "pattern": {
           "shape": ""
          }
         },
         "name": "Meneur de jeu",
         "offsetgroup": "Meneur de jeu",
         "orientation": "v",
         "showlegend": true,
         "textposition": "auto",
         "type": "bar",
         "x": [
          "Meneur de jeu"
         ],
         "xaxis": "x",
         "y": [
          6
         ],
         "yaxis": "y"
        },
        {
         "alignmentgroup": "True",
         "hovertemplate": "Position=%{x}<br>Nombre de fois=%{y}<extra></extra>",
         "legendgroup": "Pivot",
         "marker": {
          "color": "#ab63fa",
          "pattern": {
           "shape": ""
          }
         },
         "name": "Pivot",
         "offsetgroup": "Pivot",
         "orientation": "v",
         "showlegend": true,
         "textposition": "auto",
         "type": "bar",
         "x": [
          "Pivot"
         ],
         "xaxis": "x",
         "y": [
          4
         ],
         "yaxis": "y"
        },
        {
         "alignmentgroup": "True",
         "hovertemplate": "Position=%{x}<br>Nombre de fois=%{y}<extra></extra>",
         "legendgroup": "Ailier",
         "marker": {
          "color": "#FFA15A",
          "pattern": {
           "shape": ""
          }
         },
         "name": "Ailier",
         "offsetgroup": "Ailier",
         "orientation": "v",
         "showlegend": true,
         "textposition": "auto",
         "type": "bar",
         "x": [
          "Ailier"
         ],
         "xaxis": "x",
         "y": [
          4
         ],
         "yaxis": "y"
        }
       ],
       "layout": {
        "barmode": "relative",
        "legend": {
         "title": {
          "text": "Position"
         },
         "tracegroupgap": 0
        },
        "template": {
         "data": {
          "bar": [
           {
            "error_x": {
             "color": "#2a3f5f"
            },
            "error_y": {
             "color": "#2a3f5f"
            },
            "marker": {
             "line": {
              "color": "#E5ECF6",
              "width": 0.5
             },
             "pattern": {
              "fillmode": "overlay",
              "size": 10,
              "solidity": 0.2
             }
            },
            "type": "bar"
           }
          ],
          "barpolar": [
           {
            "marker": {
             "line": {
              "color": "#E5ECF6",
              "width": 0.5
             },
             "pattern": {
              "fillmode": "overlay",
              "size": 10,
              "solidity": 0.2
             }
            },
            "type": "barpolar"
           }
          ],
          "carpet": [
           {
            "aaxis": {
             "endlinecolor": "#2a3f5f",
             "gridcolor": "white",
             "linecolor": "white",
             "minorgridcolor": "white",
             "startlinecolor": "#2a3f5f"
            },
            "baxis": {
             "endlinecolor": "#2a3f5f",
             "gridcolor": "white",
             "linecolor": "white",
             "minorgridcolor": "white",
             "startlinecolor": "#2a3f5f"
            },
            "type": "carpet"
           }
          ],
          "choropleth": [
           {
            "colorbar": {
             "outlinewidth": 0,
             "ticks": ""
            },
            "type": "choropleth"
           }
          ],
          "contour": [
           {
            "colorbar": {
             "outlinewidth": 0,
             "ticks": ""
            },
            "colorscale": [
             [
              0,
              "#0d0887"
             ],
             [
              0.1111111111111111,
              "#46039f"
             ],
             [
              0.2222222222222222,
              "#7201a8"
             ],
             [
              0.3333333333333333,
              "#9c179e"
             ],
             [
              0.4444444444444444,
              "#bd3786"
             ],
             [
              0.5555555555555556,
              "#d8576b"
             ],
             [
              0.6666666666666666,
              "#ed7953"
             ],
             [
              0.7777777777777778,
              "#fb9f3a"
             ],
             [
              0.8888888888888888,
              "#fdca26"
             ],
             [
              1,
              "#f0f921"
             ]
            ],
            "type": "contour"
           }
          ],
          "contourcarpet": [
           {
            "colorbar": {
             "outlinewidth": 0,
             "ticks": ""
            },
            "type": "contourcarpet"
           }
          ],
          "heatmap": [
           {
            "colorbar": {
             "outlinewidth": 0,
             "ticks": ""
            },
            "colorscale": [
             [
              0,
              "#0d0887"
             ],
             [
              0.1111111111111111,
              "#46039f"
             ],
             [
              0.2222222222222222,
              "#7201a8"
             ],
             [
              0.3333333333333333,
              "#9c179e"
             ],
             [
              0.4444444444444444,
              "#bd3786"
             ],
             [
              0.5555555555555556,
              "#d8576b"
             ],
             [
              0.6666666666666666,
              "#ed7953"
             ],
             [
              0.7777777777777778,
              "#fb9f3a"
             ],
             [
              0.8888888888888888,
              "#fdca26"
             ],
             [
              1,
              "#f0f921"
             ]
            ],
            "type": "heatmap"
           }
          ],
          "heatmapgl": [
           {
            "colorbar": {
             "outlinewidth": 0,
             "ticks": ""
            },
            "colorscale": [
             [
              0,
              "#0d0887"
             ],
             [
              0.1111111111111111,
              "#46039f"
             ],
             [
              0.2222222222222222,
              "#7201a8"
             ],
             [
              0.3333333333333333,
              "#9c179e"
             ],
             [
              0.4444444444444444,
              "#bd3786"
             ],
             [
              0.5555555555555556,
              "#d8576b"
             ],
             [
              0.6666666666666666,
              "#ed7953"
             ],
             [
              0.7777777777777778,
              "#fb9f3a"
             ],
             [
              0.8888888888888888,
              "#fdca26"
             ],
             [
              1,
              "#f0f921"
             ]
            ],
            "type": "heatmapgl"
           }
          ],
          "histogram": [
           {
            "marker": {
             "pattern": {
              "fillmode": "overlay",
              "size": 10,
              "solidity": 0.2
             }
            },
            "type": "histogram"
           }
          ],
          "histogram2d": [
           {
            "colorbar": {
             "outlinewidth": 0,
             "ticks": ""
            },
            "colorscale": [
             [
              0,
              "#0d0887"
             ],
             [
              0.1111111111111111,
              "#46039f"
             ],
             [
              0.2222222222222222,
              "#7201a8"
             ],
             [
              0.3333333333333333,
              "#9c179e"
             ],
             [
              0.4444444444444444,
              "#bd3786"
             ],
             [
              0.5555555555555556,
              "#d8576b"
             ],
             [
              0.6666666666666666,
              "#ed7953"
             ],
             [
              0.7777777777777778,
              "#fb9f3a"
             ],
             [
              0.8888888888888888,
              "#fdca26"
             ],
             [
              1,
              "#f0f921"
             ]
            ],
            "type": "histogram2d"
           }
          ],
          "histogram2dcontour": [
           {
            "colorbar": {
             "outlinewidth": 0,
             "ticks": ""
            },
            "colorscale": [
             [
              0,
              "#0d0887"
             ],
             [
              0.1111111111111111,
              "#46039f"
             ],
             [
              0.2222222222222222,
              "#7201a8"
             ],
             [
              0.3333333333333333,
              "#9c179e"
             ],
             [
              0.4444444444444444,
              "#bd3786"
             ],
             [
              0.5555555555555556,
              "#d8576b"
             ],
             [
              0.6666666666666666,
              "#ed7953"
             ],
             [
              0.7777777777777778,
              "#fb9f3a"
             ],
             [
              0.8888888888888888,
              "#fdca26"
             ],
             [
              1,
              "#f0f921"
             ]
            ],
            "type": "histogram2dcontour"
           }
          ],
          "mesh3d": [
           {
            "colorbar": {
             "outlinewidth": 0,
             "ticks": ""
            },
            "type": "mesh3d"
           }
          ],
          "parcoords": [
           {
            "line": {
             "colorbar": {
              "outlinewidth": 0,
              "ticks": ""
             }
            },
            "type": "parcoords"
           }
          ],
          "pie": [
           {
            "automargin": true,
            "type": "pie"
           }
          ],
          "scatter": [
           {
            "fillpattern": {
             "fillmode": "overlay",
             "size": 10,
             "solidity": 0.2
            },
            "type": "scatter"
           }
          ],
          "scatter3d": [
           {
            "line": {
             "colorbar": {
              "outlinewidth": 0,
              "ticks": ""
             }
            },
            "marker": {
             "colorbar": {
              "outlinewidth": 0,
              "ticks": ""
             }
            },
            "type": "scatter3d"
           }
          ],
          "scattercarpet": [
           {
            "marker": {
             "colorbar": {
              "outlinewidth": 0,
              "ticks": ""
             }
            },
            "type": "scattercarpet"
           }
          ],
          "scattergeo": [
           {
            "marker": {
             "colorbar": {
              "outlinewidth": 0,
              "ticks": ""
             }
            },
            "type": "scattergeo"
           }
          ],
          "scattergl": [
           {
            "marker": {
             "colorbar": {
              "outlinewidth": 0,
              "ticks": ""
             }
            },
            "type": "scattergl"
           }
          ],
          "scattermapbox": [
           {
            "marker": {
             "colorbar": {
              "outlinewidth": 0,
              "ticks": ""
             }
            },
            "type": "scattermapbox"
           }
          ],
          "scatterpolar": [
           {
            "marker": {
             "colorbar": {
              "outlinewidth": 0,
              "ticks": ""
             }
            },
            "type": "scatterpolar"
           }
          ],
          "scatterpolargl": [
           {
            "marker": {
             "colorbar": {
              "outlinewidth": 0,
              "ticks": ""
             }
            },
            "type": "scatterpolargl"
           }
          ],
          "scatterternary": [
           {
            "marker": {
             "colorbar": {
              "outlinewidth": 0,
              "ticks": ""
             }
            },
            "type": "scatterternary"
           }
          ],
          "surface": [
           {
            "colorbar": {
             "outlinewidth": 0,
             "ticks": ""
            },
            "colorscale": [
             [
              0,
              "#0d0887"
             ],
             [
              0.1111111111111111,
              "#46039f"
             ],
             [
              0.2222222222222222,
              "#7201a8"
             ],
             [
              0.3333333333333333,
              "#9c179e"
             ],
             [
              0.4444444444444444,
              "#bd3786"
             ],
             [
              0.5555555555555556,
              "#d8576b"
             ],
             [
              0.6666666666666666,
              "#ed7953"
             ],
             [
              0.7777777777777778,
              "#fb9f3a"
             ],
             [
              0.8888888888888888,
              "#fdca26"
             ],
             [
              1,
              "#f0f921"
             ]
            ],
            "type": "surface"
           }
          ],
          "table": [
           {
            "cells": {
             "fill": {
              "color": "#EBF0F8"
             },
             "line": {
              "color": "white"
             }
            },
            "header": {
             "fill": {
              "color": "#C8D4E3"
             },
             "line": {
              "color": "white"
             }
            },
            "type": "table"
           }
          ]
         },
         "layout": {
          "annotationdefaults": {
           "arrowcolor": "#2a3f5f",
           "arrowhead": 0,
           "arrowwidth": 1
          },
          "autotypenumbers": "strict",
          "coloraxis": {
           "colorbar": {
            "outlinewidth": 0,
            "ticks": ""
           }
          },
          "colorscale": {
           "diverging": [
            [
             0,
             "#8e0152"
            ],
            [
             0.1,
             "#c51b7d"
            ],
            [
             0.2,
             "#de77ae"
            ],
            [
             0.3,
             "#f1b6da"
            ],
            [
             0.4,
             "#fde0ef"
            ],
            [
             0.5,
             "#f7f7f7"
            ],
            [
             0.6,
             "#e6f5d0"
            ],
            [
             0.7,
             "#b8e186"
            ],
            [
             0.8,
             "#7fbc41"
            ],
            [
             0.9,
             "#4d9221"
            ],
            [
             1,
             "#276419"
            ]
           ],
           "sequential": [
            [
             0,
             "#0d0887"
            ],
            [
             0.1111111111111111,
             "#46039f"
            ],
            [
             0.2222222222222222,
             "#7201a8"
            ],
            [
             0.3333333333333333,
             "#9c179e"
            ],
            [
             0.4444444444444444,
             "#bd3786"
            ],
            [
             0.5555555555555556,
             "#d8576b"
            ],
            [
             0.6666666666666666,
             "#ed7953"
            ],
            [
             0.7777777777777778,
             "#fb9f3a"
            ],
            [
             0.8888888888888888,
             "#fdca26"
            ],
            [
             1,
             "#f0f921"
            ]
           ],
           "sequentialminus": [
            [
             0,
             "#0d0887"
            ],
            [
             0.1111111111111111,
             "#46039f"
            ],
            [
             0.2222222222222222,
             "#7201a8"
            ],
            [
             0.3333333333333333,
             "#9c179e"
            ],
            [
             0.4444444444444444,
             "#bd3786"
            ],
            [
             0.5555555555555556,
             "#d8576b"
            ],
            [
             0.6666666666666666,
             "#ed7953"
            ],
            [
             0.7777777777777778,
             "#fb9f3a"
            ],
            [
             0.8888888888888888,
             "#fdca26"
            ],
            [
             1,
             "#f0f921"
            ]
           ]
          },
          "colorway": [
           "#636efa",
           "#EF553B",
           "#00cc96",
           "#ab63fa",
           "#FFA15A",
           "#19d3f3",
           "#FF6692",
           "#B6E880",
           "#FF97FF",
           "#FECB52"
          ],
          "font": {
           "color": "#2a3f5f"
          },
          "geo": {
           "bgcolor": "white",
           "lakecolor": "white",
           "landcolor": "#E5ECF6",
           "showlakes": true,
           "showland": true,
           "subunitcolor": "white"
          },
          "hoverlabel": {
           "align": "left"
          },
          "hovermode": "closest",
          "mapbox": {
           "style": "light"
          },
          "paper_bgcolor": "white",
          "plot_bgcolor": "#E5ECF6",
          "polar": {
           "angularaxis": {
            "gridcolor": "white",
            "linecolor": "white",
            "ticks": ""
           },
           "bgcolor": "#E5ECF6",
           "radialaxis": {
            "gridcolor": "white",
            "linecolor": "white",
            "ticks": ""
           }
          },
          "scene": {
           "xaxis": {
            "backgroundcolor": "#E5ECF6",
            "gridcolor": "white",
            "gridwidth": 2,
            "linecolor": "white",
            "showbackground": true,
            "ticks": "",
            "zerolinecolor": "white"
           },
           "yaxis": {
            "backgroundcolor": "#E5ECF6",
            "gridcolor": "white",
            "gridwidth": 2,
            "linecolor": "white",
            "showbackground": true,
            "ticks": "",
            "zerolinecolor": "white"
           },
           "zaxis": {
            "backgroundcolor": "#E5ECF6",
            "gridcolor": "white",
            "gridwidth": 2,
            "linecolor": "white",
            "showbackground": true,
            "ticks": "",
            "zerolinecolor": "white"
           }
          },
          "shapedefaults": {
           "line": {
            "color": "#2a3f5f"
           }
          },
          "ternary": {
           "aaxis": {
            "gridcolor": "white",
            "linecolor": "white",
            "ticks": ""
           },
           "baxis": {
            "gridcolor": "white",
            "linecolor": "white",
            "ticks": ""
           },
           "bgcolor": "#E5ECF6",
           "caxis": {
            "gridcolor": "white",
            "linecolor": "white",
            "ticks": ""
           }
          },
          "title": {
           "x": 0.05
          },
          "xaxis": {
           "automargin": true,
           "gridcolor": "white",
           "linecolor": "white",
           "ticks": "",
           "title": {
            "standoff": 15
           },
           "zerolinecolor": "white",
           "zerolinewidth": 2
          },
          "yaxis": {
           "automargin": true,
           "gridcolor": "white",
           "linecolor": "white",
           "ticks": "",
           "title": {
            "standoff": 15
           },
           "zerolinecolor": "white",
           "zerolinewidth": 2
          }
         }
        },
        "title": {
         "text": "Nombre de fois où chaque poste a été numéro 1 au classement MVP"
        },
        "xaxis": {
         "anchor": "y",
         "categoryarray": [
          "Ailier Fort",
          "Arrière",
          "Meneur de jeu",
          "Pivot",
          "Ailier"
         ],
         "categoryorder": "array",
         "domain": [
          0,
          1
         ],
         "title": {
          "text": "Position"
         }
        },
        "yaxis": {
         "anchor": "x",
         "domain": [
          0,
          1
         ],
         "title": {
          "text": "Nombre de fois"
         }
        }
       }
      }
     },
     "metadata": {},
     "output_type": "display_data"
    }
   ],
   "source": [
    "# Représentation du nombre des fois où les joueurs ont été MVP en fonction de leurs postes de jeu. vps\n",
    "position_counts = mvps_merged['Pos'].value_counts().reset_index()\n",
    "position_counts\n",
    "\n",
    "# Remplacement des abréviations\n",
    "alias = { 'PG':'Meneur de jeu','SG':'Arrière', 'SF':'Ailier','PF':'Ailier Fort','C':'Pivot'}\n",
    "\n",
    "# Conversion les abréviations en noms complets dans le dataframe\n",
    "position_counts['Pos'] = [alias.get(item, item) for item in position_counts['Pos']]\n",
    "\n",
    "# Création du graphique\n",
    "fig = px.bar(position_counts, x='Pos', y='count',color=\"Pos\",              title=\"Nombre de fois où chaque poste a été numéro 1 au classement MVP\",\n",
    "             labels={'Pos': 'Position', 'count': 'Nombre de fois','PG':'Meneur de jeu'})\n",
    "\n",
    "# Affichage du graphique\n",
    "fig.show()"
   ]
  },
  {
   "cell_type": "code",
   "execution_count": null,
   "metadata": {},
   "outputs": [
    {
     "data": {
      "application/vnd.plotly.v1+json": {
       "config": {
        "plotlyServerURL": "https://plot.ly"
       },
       "data": [
        {
         "hovertemplate": "Player=Michael Jordan<br>Années=%{x}<br>Moyenne des points par matchs=%{y}<extra></extra>",
         "legendgroup": "Michael Jordan",
         "marker": {
          "color": "#636efa",
          "symbol": "circle"
         },
         "mode": "markers",
         "name": "Michael Jordan",
         "orientation": "v",
         "showlegend": true,
         "type": "scatter",
         "x": [
          1991,
          1992,
          1996,
          1998
         ],
         "xaxis": "x",
         "y": [
          31.5,
          30.1,
          30.4,
          28.7
         ],
         "yaxis": "y"
        },
        {
         "hovertemplate": "Player=Charles Barkley<br>Années=%{x}<br>Moyenne des points par matchs=%{y}<extra></extra>",
         "legendgroup": "Charles Barkley",
         "marker": {
          "color": "#EF553B",
          "symbol": "circle"
         },
         "mode": "markers",
         "name": "Charles Barkley",
         "orientation": "v",
         "showlegend": true,
         "type": "scatter",
         "x": [
          1993
         ],
         "xaxis": "x",
         "y": [
          25.6
         ],
         "yaxis": "y"
        },
        {
         "hovertemplate": "Player=Hakeem Olajuwon<br>Années=%{x}<br>Moyenne des points par matchs=%{y}<extra></extra>",
         "legendgroup": "Hakeem Olajuwon",
         "marker": {
          "color": "#00cc96",
          "symbol": "circle"
         },
         "mode": "markers",
         "name": "Hakeem Olajuwon",
         "orientation": "v",
         "showlegend": true,
         "type": "scatter",
         "x": [
          1994
         ],
         "xaxis": "x",
         "y": [
          27.3
         ],
         "yaxis": "y"
        },
        {
         "hovertemplate": "Player=David Robinson<br>Années=%{x}<br>Moyenne des points par matchs=%{y}<extra></extra>",
         "legendgroup": "David Robinson",
         "marker": {
          "color": "#ab63fa",
          "symbol": "circle"
         },
         "mode": "markers",
         "name": "David Robinson",
         "orientation": "v",
         "showlegend": true,
         "type": "scatter",
         "x": [
          1995
         ],
         "xaxis": "x",
         "y": [
          27.6
         ],
         "yaxis": "y"
        },
        {
         "hovertemplate": "Player=Karl Malone<br>Années=%{x}<br>Moyenne des points par matchs=%{y}<extra></extra>",
         "legendgroup": "Karl Malone",
         "marker": {
          "color": "#FFA15A",
          "symbol": "circle"
         },
         "mode": "markers",
         "name": "Karl Malone",
         "orientation": "v",
         "showlegend": true,
         "type": "scatter",
         "x": [
          1997,
          1999
         ],
         "xaxis": "x",
         "y": [
          27.4,
          23.8
         ],
         "yaxis": "y"
        },
        {
         "hovertemplate": "Player=Shaquille O'Neal<br>Années=%{x}<br>Moyenne des points par matchs=%{y}<extra></extra>",
         "legendgroup": "Shaquille O'Neal",
         "marker": {
          "color": "#19d3f3",
          "symbol": "circle"
         },
         "mode": "markers",
         "name": "Shaquille O'Neal",
         "orientation": "v",
         "showlegend": true,
         "type": "scatter",
         "x": [
          2000
         ],
         "xaxis": "x",
         "y": [
          29.7
         ],
         "yaxis": "y"
        },
        {
         "hovertemplate": "Player=Allen Iverson<br>Années=%{x}<br>Moyenne des points par matchs=%{y}<extra></extra>",
         "legendgroup": "Allen Iverson",
         "marker": {
          "color": "#FF6692",
          "symbol": "circle"
         },
         "mode": "markers",
         "name": "Allen Iverson",
         "orientation": "v",
         "showlegend": true,
         "type": "scatter",
         "x": [
          2001
         ],
         "xaxis": "x",
         "y": [
          31.1
         ],
         "yaxis": "y"
        },
        {
         "hovertemplate": "Player=Tim Duncan<br>Années=%{x}<br>Moyenne des points par matchs=%{y}<extra></extra>",
         "legendgroup": "Tim Duncan",
         "marker": {
          "color": "#B6E880",
          "symbol": "circle"
         },
         "mode": "markers",
         "name": "Tim Duncan",
         "orientation": "v",
         "showlegend": true,
         "type": "scatter",
         "x": [
          2002,
          2003
         ],
         "xaxis": "x",
         "y": [
          25.5,
          23.3
         ],
         "yaxis": "y"
        },
        {
         "hovertemplate": "Player=Kevin Garnett<br>Années=%{x}<br>Moyenne des points par matchs=%{y}<extra></extra>",
         "legendgroup": "Kevin Garnett",
         "marker": {
          "color": "#FF97FF",
          "symbol": "circle"
         },
         "mode": "markers",
         "name": "Kevin Garnett",
         "orientation": "v",
         "showlegend": true,
         "type": "scatter",
         "x": [
          2004
         ],
         "xaxis": "x",
         "y": [
          24.2
         ],
         "yaxis": "y"
        },
        {
         "hovertemplate": "Player=Steve Nash<br>Années=%{x}<br>Moyenne des points par matchs=%{y}<extra></extra>",
         "legendgroup": "Steve Nash",
         "marker": {
          "color": "#FECB52",
          "symbol": "circle"
         },
         "mode": "markers",
         "name": "Steve Nash",
         "orientation": "v",
         "showlegend": true,
         "type": "scatter",
         "x": [
          2005,
          2006
         ],
         "xaxis": "x",
         "y": [
          15.5,
          18.8
         ],
         "yaxis": "y"
        },
        {
         "hovertemplate": "Player=Dirk Nowitzki<br>Années=%{x}<br>Moyenne des points par matchs=%{y}<extra></extra>",
         "legendgroup": "Dirk Nowitzki",
         "marker": {
          "color": "#636efa",
          "symbol": "circle"
         },
         "mode": "markers",
         "name": "Dirk Nowitzki",
         "orientation": "v",
         "showlegend": true,
         "type": "scatter",
         "x": [
          2007
         ],
         "xaxis": "x",
         "y": [
          24.6
         ],
         "yaxis": "y"
        },
        {
         "hovertemplate": "Player=Kobe Bryant<br>Années=%{x}<br>Moyenne des points par matchs=%{y}<extra></extra>",
         "legendgroup": "Kobe Bryant",
         "marker": {
          "color": "#EF553B",
          "symbol": "circle"
         },
         "mode": "markers",
         "name": "Kobe Bryant",
         "orientation": "v",
         "showlegend": true,
         "type": "scatter",
         "x": [
          2008
         ],
         "xaxis": "x",
         "y": [
          28.3
         ],
         "yaxis": "y"
        },
        {
         "hovertemplate": "Player=LeBron James<br>Années=%{x}<br>Moyenne des points par matchs=%{y}<extra></extra>",
         "legendgroup": "LeBron James",
         "marker": {
          "color": "#00cc96",
          "symbol": "circle"
         },
         "mode": "markers",
         "name": "LeBron James",
         "orientation": "v",
         "showlegend": true,
         "type": "scatter",
         "x": [
          2009,
          2010,
          2012,
          2013
         ],
         "xaxis": "x",
         "y": [
          28.4,
          29.7,
          27.1,
          26.8
         ],
         "yaxis": "y"
        },
        {
         "hovertemplate": "Player=Derrick Rose<br>Années=%{x}<br>Moyenne des points par matchs=%{y}<extra></extra>",
         "legendgroup": "Derrick Rose",
         "marker": {
          "color": "#ab63fa",
          "symbol": "circle"
         },
         "mode": "markers",
         "name": "Derrick Rose",
         "orientation": "v",
         "showlegend": true,
         "type": "scatter",
         "x": [
          2011
         ],
         "xaxis": "x",
         "y": [
          25
         ],
         "yaxis": "y"
        },
        {
         "hovertemplate": "Player=Kevin Durant<br>Années=%{x}<br>Moyenne des points par matchs=%{y}<extra></extra>",
         "legendgroup": "Kevin Durant",
         "marker": {
          "color": "#FFA15A",
          "symbol": "circle"
         },
         "mode": "markers",
         "name": "Kevin Durant",
         "orientation": "v",
         "showlegend": true,
         "type": "scatter",
         "x": [
          2014
         ],
         "xaxis": "x",
         "y": [
          32
         ],
         "yaxis": "y"
        },
        {
         "hovertemplate": "Player=Stephen Curry<br>Années=%{x}<br>Moyenne des points par matchs=%{y}<extra></extra>",
         "legendgroup": "Stephen Curry",
         "marker": {
          "color": "#19d3f3",
          "symbol": "circle"
         },
         "mode": "markers",
         "name": "Stephen Curry",
         "orientation": "v",
         "showlegend": true,
         "type": "scatter",
         "x": [
          2015,
          2016
         ],
         "xaxis": "x",
         "y": [
          23.8,
          30.1
         ],
         "yaxis": "y"
        },
        {
         "hovertemplate": "Player=Russell Westbrook<br>Années=%{x}<br>Moyenne des points par matchs=%{y}<extra></extra>",
         "legendgroup": "Russell Westbrook",
         "marker": {
          "color": "#FF6692",
          "symbol": "circle"
         },
         "mode": "markers",
         "name": "Russell Westbrook",
         "orientation": "v",
         "showlegend": true,
         "type": "scatter",
         "x": [
          2017
         ],
         "xaxis": "x",
         "y": [
          31.6
         ],
         "yaxis": "y"
        },
        {
         "hovertemplate": "Player=James Harden<br>Années=%{x}<br>Moyenne des points par matchs=%{y}<extra></extra>",
         "legendgroup": "James Harden",
         "marker": {
          "color": "#B6E880",
          "symbol": "circle"
         },
         "mode": "markers",
         "name": "James Harden",
         "orientation": "v",
         "showlegend": true,
         "type": "scatter",
         "x": [
          2018
         ],
         "xaxis": "x",
         "y": [
          30.4
         ],
         "yaxis": "y"
        },
        {
         "hovertemplate": "Player=Giannis Antetokounmpo<br>Années=%{x}<br>Moyenne des points par matchs=%{y}<extra></extra>",
         "legendgroup": "Giannis Antetokounmpo",
         "marker": {
          "color": "#FF97FF",
          "symbol": "circle"
         },
         "mode": "markers",
         "name": "Giannis Antetokounmpo",
         "orientation": "v",
         "showlegend": true,
         "type": "scatter",
         "x": [
          2019,
          2020
         ],
         "xaxis": "x",
         "y": [
          27.7,
          29.5
         ],
         "yaxis": "y"
        },
        {
         "hovertemplate": "Player=Nikola Joki?<br>Années=%{x}<br>Moyenne des points par matchs=%{y}<extra></extra>",
         "legendgroup": "Nikola Joki?",
         "marker": {
          "color": "#FECB52",
          "symbol": "circle"
         },
         "mode": "markers",
         "name": "Nikola Joki?",
         "orientation": "v",
         "showlegend": true,
         "type": "scatter",
         "x": [
          2021
         ],
         "xaxis": "x",
         "y": [
          26.4
         ],
         "yaxis": "y"
        },
        {
         "hovertemplate": "<b>OLS trendline</b><br>PTS = 0.0156855 * Year + -4.30702<br>R<sup>2</sup>=0.001491<br><br>Années=%{x}<br>Moyenne des points par matchs=%{y} <b>(trend)</b><extra></extra>",
         "legendgroup": "Overall Trendline",
         "line": {
          "color": "#636efa"
         },
         "mode": "lines",
         "name": "Overall Trendline",
         "showlegend": true,
         "type": "scatter",
         "x": [
          1991,
          1992,
          1993,
          1994,
          1995,
          1996,
          1997,
          1998,
          1999,
          2000,
          2001,
          2002,
          2003,
          2004,
          2005,
          2006,
          2007,
          2008,
          2009,
          2010,
          2011,
          2012,
          2013,
          2014,
          2015,
          2016,
          2017,
          2018,
          2019,
          2020,
          2021
         ],
         "xaxis": "x",
         "y": [
          26.92278225806518,
          26.93846774193615,
          26.954153225807122,
          26.96983870967809,
          26.98552419354906,
          27.001209677420032,
          27.016895161291,
          27.03258064516197,
          27.04826612903294,
          27.06395161290391,
          27.07963709677488,
          27.09532258064585,
          27.11100806451682,
          27.126693548387788,
          27.14237903225876,
          27.15806451612973,
          27.173750000000698,
          27.18943548387167,
          27.20512096774264,
          27.22080645161361,
          27.23649193548458,
          27.252177419355547,
          27.26786290322652,
          27.28354838709749,
          27.299233870968457,
          27.31491935483943,
          27.3306048387104,
          27.346290322581368,
          27.36197580645234,
          27.377661290323307,
          27.393346774194278
         ],
         "yaxis": "y"
        }
       ],
       "layout": {
        "annotations": [
         {
          "arrowhead": 2,
          "ax": 20,
          "ay": -30,
          "showarrow": true,
          "text": "Kevin Durant",
          "x": 2014,
          "y": 32
         }
        ],
        "legend": {
         "title": {
          "text": "Player"
         },
         "tracegroupgap": 0
        },
        "template": {
         "data": {
          "bar": [
           {
            "error_x": {
             "color": "#2a3f5f"
            },
            "error_y": {
             "color": "#2a3f5f"
            },
            "marker": {
             "line": {
              "color": "#E5ECF6",
              "width": 0.5
             },
             "pattern": {
              "fillmode": "overlay",
              "size": 10,
              "solidity": 0.2
             }
            },
            "type": "bar"
           }
          ],
          "barpolar": [
           {
            "marker": {
             "line": {
              "color": "#E5ECF6",
              "width": 0.5
             },
             "pattern": {
              "fillmode": "overlay",
              "size": 10,
              "solidity": 0.2
             }
            },
            "type": "barpolar"
           }
          ],
          "carpet": [
           {
            "aaxis": {
             "endlinecolor": "#2a3f5f",
             "gridcolor": "white",
             "linecolor": "white",
             "minorgridcolor": "white",
             "startlinecolor": "#2a3f5f"
            },
            "baxis": {
             "endlinecolor": "#2a3f5f",
             "gridcolor": "white",
             "linecolor": "white",
             "minorgridcolor": "white",
             "startlinecolor": "#2a3f5f"
            },
            "type": "carpet"
           }
          ],
          "choropleth": [
           {
            "colorbar": {
             "outlinewidth": 0,
             "ticks": ""
            },
            "type": "choropleth"
           }
          ],
          "contour": [
           {
            "colorbar": {
             "outlinewidth": 0,
             "ticks": ""
            },
            "colorscale": [
             [
              0,
              "#0d0887"
             ],
             [
              0.1111111111111111,
              "#46039f"
             ],
             [
              0.2222222222222222,
              "#7201a8"
             ],
             [
              0.3333333333333333,
              "#9c179e"
             ],
             [
              0.4444444444444444,
              "#bd3786"
             ],
             [
              0.5555555555555556,
              "#d8576b"
             ],
             [
              0.6666666666666666,
              "#ed7953"
             ],
             [
              0.7777777777777778,
              "#fb9f3a"
             ],
             [
              0.8888888888888888,
              "#fdca26"
             ],
             [
              1,
              "#f0f921"
             ]
            ],
            "type": "contour"
           }
          ],
          "contourcarpet": [
           {
            "colorbar": {
             "outlinewidth": 0,
             "ticks": ""
            },
            "type": "contourcarpet"
           }
          ],
          "heatmap": [
           {
            "colorbar": {
             "outlinewidth": 0,
             "ticks": ""
            },
            "colorscale": [
             [
              0,
              "#0d0887"
             ],
             [
              0.1111111111111111,
              "#46039f"
             ],
             [
              0.2222222222222222,
              "#7201a8"
             ],
             [
              0.3333333333333333,
              "#9c179e"
             ],
             [
              0.4444444444444444,
              "#bd3786"
             ],
             [
              0.5555555555555556,
              "#d8576b"
             ],
             [
              0.6666666666666666,
              "#ed7953"
             ],
             [
              0.7777777777777778,
              "#fb9f3a"
             ],
             [
              0.8888888888888888,
              "#fdca26"
             ],
             [
              1,
              "#f0f921"
             ]
            ],
            "type": "heatmap"
           }
          ],
          "heatmapgl": [
           {
            "colorbar": {
             "outlinewidth": 0,
             "ticks": ""
            },
            "colorscale": [
             [
              0,
              "#0d0887"
             ],
             [
              0.1111111111111111,
              "#46039f"
             ],
             [
              0.2222222222222222,
              "#7201a8"
             ],
             [
              0.3333333333333333,
              "#9c179e"
             ],
             [
              0.4444444444444444,
              "#bd3786"
             ],
             [
              0.5555555555555556,
              "#d8576b"
             ],
             [
              0.6666666666666666,
              "#ed7953"
             ],
             [
              0.7777777777777778,
              "#fb9f3a"
             ],
             [
              0.8888888888888888,
              "#fdca26"
             ],
             [
              1,
              "#f0f921"
             ]
            ],
            "type": "heatmapgl"
           }
          ],
          "histogram": [
           {
            "marker": {
             "pattern": {
              "fillmode": "overlay",
              "size": 10,
              "solidity": 0.2
             }
            },
            "type": "histogram"
           }
          ],
          "histogram2d": [
           {
            "colorbar": {
             "outlinewidth": 0,
             "ticks": ""
            },
            "colorscale": [
             [
              0,
              "#0d0887"
             ],
             [
              0.1111111111111111,
              "#46039f"
             ],
             [
              0.2222222222222222,
              "#7201a8"
             ],
             [
              0.3333333333333333,
              "#9c179e"
             ],
             [
              0.4444444444444444,
              "#bd3786"
             ],
             [
              0.5555555555555556,
              "#d8576b"
             ],
             [
              0.6666666666666666,
              "#ed7953"
             ],
             [
              0.7777777777777778,
              "#fb9f3a"
             ],
             [
              0.8888888888888888,
              "#fdca26"
             ],
             [
              1,
              "#f0f921"
             ]
            ],
            "type": "histogram2d"
           }
          ],
          "histogram2dcontour": [
           {
            "colorbar": {
             "outlinewidth": 0,
             "ticks": ""
            },
            "colorscale": [
             [
              0,
              "#0d0887"
             ],
             [
              0.1111111111111111,
              "#46039f"
             ],
             [
              0.2222222222222222,
              "#7201a8"
             ],
             [
              0.3333333333333333,
              "#9c179e"
             ],
             [
              0.4444444444444444,
              "#bd3786"
             ],
             [
              0.5555555555555556,
              "#d8576b"
             ],
             [
              0.6666666666666666,
              "#ed7953"
             ],
             [
              0.7777777777777778,
              "#fb9f3a"
             ],
             [
              0.8888888888888888,
              "#fdca26"
             ],
             [
              1,
              "#f0f921"
             ]
            ],
            "type": "histogram2dcontour"
           }
          ],
          "mesh3d": [
           {
            "colorbar": {
             "outlinewidth": 0,
             "ticks": ""
            },
            "type": "mesh3d"
           }
          ],
          "parcoords": [
           {
            "line": {
             "colorbar": {
              "outlinewidth": 0,
              "ticks": ""
             }
            },
            "type": "parcoords"
           }
          ],
          "pie": [
           {
            "automargin": true,
            "type": "pie"
           }
          ],
          "scatter": [
           {
            "fillpattern": {
             "fillmode": "overlay",
             "size": 10,
             "solidity": 0.2
            },
            "type": "scatter"
           }
          ],
          "scatter3d": [
           {
            "line": {
             "colorbar": {
              "outlinewidth": 0,
              "ticks": ""
             }
            },
            "marker": {
             "colorbar": {
              "outlinewidth": 0,
              "ticks": ""
             }
            },
            "type": "scatter3d"
           }
          ],
          "scattercarpet": [
           {
            "marker": {
             "colorbar": {
              "outlinewidth": 0,
              "ticks": ""
             }
            },
            "type": "scattercarpet"
           }
          ],
          "scattergeo": [
           {
            "marker": {
             "colorbar": {
              "outlinewidth": 0,
              "ticks": ""
             }
            },
            "type": "scattergeo"
           }
          ],
          "scattergl": [
           {
            "marker": {
             "colorbar": {
              "outlinewidth": 0,
              "ticks": ""
             }
            },
            "type": "scattergl"
           }
          ],
          "scattermapbox": [
           {
            "marker": {
             "colorbar": {
              "outlinewidth": 0,
              "ticks": ""
             }
            },
            "type": "scattermapbox"
           }
          ],
          "scatterpolar": [
           {
            "marker": {
             "colorbar": {
              "outlinewidth": 0,
              "ticks": ""
             }
            },
            "type": "scatterpolar"
           }
          ],
          "scatterpolargl": [
           {
            "marker": {
             "colorbar": {
              "outlinewidth": 0,
              "ticks": ""
             }
            },
            "type": "scatterpolargl"
           }
          ],
          "scatterternary": [
           {
            "marker": {
             "colorbar": {
              "outlinewidth": 0,
              "ticks": ""
             }
            },
            "type": "scatterternary"
           }
          ],
          "surface": [
           {
            "colorbar": {
             "outlinewidth": 0,
             "ticks": ""
            },
            "colorscale": [
             [
              0,
              "#0d0887"
             ],
             [
              0.1111111111111111,
              "#46039f"
             ],
             [
              0.2222222222222222,
              "#7201a8"
             ],
             [
              0.3333333333333333,
              "#9c179e"
             ],
             [
              0.4444444444444444,
              "#bd3786"
             ],
             [
              0.5555555555555556,
              "#d8576b"
             ],
             [
              0.6666666666666666,
              "#ed7953"
             ],
             [
              0.7777777777777778,
              "#fb9f3a"
             ],
             [
              0.8888888888888888,
              "#fdca26"
             ],
             [
              1,
              "#f0f921"
             ]
            ],
            "type": "surface"
           }
          ],
          "table": [
           {
            "cells": {
             "fill": {
              "color": "#EBF0F8"
             },
             "line": {
              "color": "white"
             }
            },
            "header": {
             "fill": {
              "color": "#C8D4E3"
             },
             "line": {
              "color": "white"
             }
            },
            "type": "table"
           }
          ]
         },
         "layout": {
          "annotationdefaults": {
           "arrowcolor": "#2a3f5f",
           "arrowhead": 0,
           "arrowwidth": 1
          },
          "autotypenumbers": "strict",
          "coloraxis": {
           "colorbar": {
            "outlinewidth": 0,
            "ticks": ""
           }
          },
          "colorscale": {
           "diverging": [
            [
             0,
             "#8e0152"
            ],
            [
             0.1,
             "#c51b7d"
            ],
            [
             0.2,
             "#de77ae"
            ],
            [
             0.3,
             "#f1b6da"
            ],
            [
             0.4,
             "#fde0ef"
            ],
            [
             0.5,
             "#f7f7f7"
            ],
            [
             0.6,
             "#e6f5d0"
            ],
            [
             0.7,
             "#b8e186"
            ],
            [
             0.8,
             "#7fbc41"
            ],
            [
             0.9,
             "#4d9221"
            ],
            [
             1,
             "#276419"
            ]
           ],
           "sequential": [
            [
             0,
             "#0d0887"
            ],
            [
             0.1111111111111111,
             "#46039f"
            ],
            [
             0.2222222222222222,
             "#7201a8"
            ],
            [
             0.3333333333333333,
             "#9c179e"
            ],
            [
             0.4444444444444444,
             "#bd3786"
            ],
            [
             0.5555555555555556,
             "#d8576b"
            ],
            [
             0.6666666666666666,
             "#ed7953"
            ],
            [
             0.7777777777777778,
             "#fb9f3a"
            ],
            [
             0.8888888888888888,
             "#fdca26"
            ],
            [
             1,
             "#f0f921"
            ]
           ],
           "sequentialminus": [
            [
             0,
             "#0d0887"
            ],
            [
             0.1111111111111111,
             "#46039f"
            ],
            [
             0.2222222222222222,
             "#7201a8"
            ],
            [
             0.3333333333333333,
             "#9c179e"
            ],
            [
             0.4444444444444444,
             "#bd3786"
            ],
            [
             0.5555555555555556,
             "#d8576b"
            ],
            [
             0.6666666666666666,
             "#ed7953"
            ],
            [
             0.7777777777777778,
             "#fb9f3a"
            ],
            [
             0.8888888888888888,
             "#fdca26"
            ],
            [
             1,
             "#f0f921"
            ]
           ]
          },
          "colorway": [
           "#636efa",
           "#EF553B",
           "#00cc96",
           "#ab63fa",
           "#FFA15A",
           "#19d3f3",
           "#FF6692",
           "#B6E880",
           "#FF97FF",
           "#FECB52"
          ],
          "font": {
           "color": "#2a3f5f"
          },
          "geo": {
           "bgcolor": "white",
           "lakecolor": "white",
           "landcolor": "#E5ECF6",
           "showlakes": true,
           "showland": true,
           "subunitcolor": "white"
          },
          "hoverlabel": {
           "align": "left"
          },
          "hovermode": "closest",
          "mapbox": {
           "style": "light"
          },
          "paper_bgcolor": "white",
          "plot_bgcolor": "#E5ECF6",
          "polar": {
           "angularaxis": {
            "gridcolor": "white",
            "linecolor": "white",
            "ticks": ""
           },
           "bgcolor": "#E5ECF6",
           "radialaxis": {
            "gridcolor": "white",
            "linecolor": "white",
            "ticks": ""
           }
          },
          "scene": {
           "xaxis": {
            "backgroundcolor": "#E5ECF6",
            "gridcolor": "white",
            "gridwidth": 2,
            "linecolor": "white",
            "showbackground": true,
            "ticks": "",
            "zerolinecolor": "white"
           },
           "yaxis": {
            "backgroundcolor": "#E5ECF6",
            "gridcolor": "white",
            "gridwidth": 2,
            "linecolor": "white",
            "showbackground": true,
            "ticks": "",
            "zerolinecolor": "white"
           },
           "zaxis": {
            "backgroundcolor": "#E5ECF6",
            "gridcolor": "white",
            "gridwidth": 2,
            "linecolor": "white",
            "showbackground": true,
            "ticks": "",
            "zerolinecolor": "white"
           }
          },
          "shapedefaults": {
           "line": {
            "color": "#2a3f5f"
           }
          },
          "ternary": {
           "aaxis": {
            "gridcolor": "white",
            "linecolor": "white",
            "ticks": ""
           },
           "baxis": {
            "gridcolor": "white",
            "linecolor": "white",
            "ticks": ""
           },
           "bgcolor": "#E5ECF6",
           "caxis": {
            "gridcolor": "white",
            "linecolor": "white",
            "ticks": ""
           }
          },
          "title": {
           "x": 0.05
          },
          "xaxis": {
           "automargin": true,
           "gridcolor": "white",
           "linecolor": "white",
           "ticks": "",
           "title": {
            "standoff": 15
           },
           "zerolinecolor": "white",
           "zerolinewidth": 2
          },
          "yaxis": {
           "automargin": true,
           "gridcolor": "white",
           "linecolor": "white",
           "ticks": "",
           "title": {
            "standoff": 15
           },
           "zerolinecolor": "white",
           "zerolinewidth": 2
          }
         }
        },
        "title": {
         "text": "Nombre des points marqués par les MVP au fil des années"
        },
        "xaxis": {
         "anchor": "y",
         "domain": [
          0,
          1
         ],
         "title": {
          "text": "Années"
         }
        },
        "yaxis": {
         "anchor": "x",
         "domain": [
          0,
          1
         ],
         "title": {
          "text": "Moyenne des points par matchs"
         }
        }
       }
      }
     },
     "metadata": {},
     "output_type": "display_data"
    }
   ],
   "source": [
    "fig = px.scatter(mvps_merged, x=\"Year\", y=\"PTS\", title=\"Nombre des points marqués par les MVP au fil des années\", color=\"Player\",labels={'PTS': 'Moyenne des points par matchs', 'Year': \"Années\"},trendline=\"ols\",trendline_scope=\"overall\")\n",
    "\n",
    "top_scorer = mvps_merged.loc[mvps_merged[\"PTS\"].idxmax()]\n",
    "\n",
    "fig.add_annotation(\n",
    "    x=top_scorer[\"Year\"],\n",
    "    y=top_scorer[\"PTS\"],\n",
    "    text=top_scorer[\"Player\"],\n",
    "    showarrow=True,\n",
    "    arrowhead=2,\n",
    "    ax=20,  # Position horizontale du texte par rapport à la flèche\n",
    "    ay=-30  # Position verticale du texte par rapport à la flèche\n",
    ")\n",
    "\n",
    "fig.show()"
   ]
  },
  {
   "cell_type": "markdown",
   "metadata": {},
   "source": [
    "Le nombre de points marqués par les MVP au fil des années sont en contates croissance"
   ]
  },
  {
   "cell_type": "code",
   "execution_count": null,
   "metadata": {},
   "outputs": [
    {
     "data": {
      "application/vnd.plotly.v1+json": {
       "config": {
        "plotlyServerURL": "https://plot.ly"
       },
       "data": [
        {
         "hovertemplate": "Player=Michael Jordan<br>Age=%{x}<br>Moyenne des points par matchs=%{y}<extra></extra>",
         "legendgroup": "Michael Jordan",
         "marker": {
          "color": "#636efa",
          "symbol": "circle"
         },
         "mode": "markers",
         "name": "Michael Jordan",
         "orientation": "v",
         "showlegend": true,
         "type": "scatter",
         "x": [
          27,
          28,
          32,
          34
         ],
         "xaxis": "x",
         "y": [
          31.5,
          30.1,
          30.4,
          28.7
         ],
         "yaxis": "y"
        },
        {
         "hovertemplate": "Player=Charles Barkley<br>Age=%{x}<br>Moyenne des points par matchs=%{y}<extra></extra>",
         "legendgroup": "Charles Barkley",
         "marker": {
          "color": "#EF553B",
          "symbol": "circle"
         },
         "mode": "markers",
         "name": "Charles Barkley",
         "orientation": "v",
         "showlegend": true,
         "type": "scatter",
         "x": [
          29
         ],
         "xaxis": "x",
         "y": [
          25.6
         ],
         "yaxis": "y"
        },
        {
         "hovertemplate": "Player=Hakeem Olajuwon<br>Age=%{x}<br>Moyenne des points par matchs=%{y}<extra></extra>",
         "legendgroup": "Hakeem Olajuwon",
         "marker": {
          "color": "#00cc96",
          "symbol": "circle"
         },
         "mode": "markers",
         "name": "Hakeem Olajuwon",
         "orientation": "v",
         "showlegend": true,
         "type": "scatter",
         "x": [
          31
         ],
         "xaxis": "x",
         "y": [
          27.3
         ],
         "yaxis": "y"
        },
        {
         "hovertemplate": "Player=David Robinson<br>Age=%{x}<br>Moyenne des points par matchs=%{y}<extra></extra>",
         "legendgroup": "David Robinson",
         "marker": {
          "color": "#ab63fa",
          "symbol": "circle"
         },
         "mode": "markers",
         "name": "David Robinson",
         "orientation": "v",
         "showlegend": true,
         "type": "scatter",
         "x": [
          29
         ],
         "xaxis": "x",
         "y": [
          27.6
         ],
         "yaxis": "y"
        },
        {
         "hovertemplate": "Player=Karl Malone<br>Age=%{x}<br>Moyenne des points par matchs=%{y}<extra></extra>",
         "legendgroup": "Karl Malone",
         "marker": {
          "color": "#FFA15A",
          "symbol": "circle"
         },
         "mode": "markers",
         "name": "Karl Malone",
         "orientation": "v",
         "showlegend": true,
         "type": "scatter",
         "x": [
          33,
          35
         ],
         "xaxis": "x",
         "y": [
          27.4,
          23.8
         ],
         "yaxis": "y"
        },
        {
         "hovertemplate": "Player=Shaquille O'Neal<br>Age=%{x}<br>Moyenne des points par matchs=%{y}<extra></extra>",
         "legendgroup": "Shaquille O'Neal",
         "marker": {
          "color": "#19d3f3",
          "symbol": "circle"
         },
         "mode": "markers",
         "name": "Shaquille O'Neal",
         "orientation": "v",
         "showlegend": true,
         "type": "scatter",
         "x": [
          27
         ],
         "xaxis": "x",
         "y": [
          29.7
         ],
         "yaxis": "y"
        },
        {
         "hovertemplate": "Player=Allen Iverson<br>Age=%{x}<br>Moyenne des points par matchs=%{y}<extra></extra>",
         "legendgroup": "Allen Iverson",
         "marker": {
          "color": "#FF6692",
          "symbol": "circle"
         },
         "mode": "markers",
         "name": "Allen Iverson",
         "orientation": "v",
         "showlegend": true,
         "type": "scatter",
         "x": [
          25
         ],
         "xaxis": "x",
         "y": [
          31.1
         ],
         "yaxis": "y"
        },
        {
         "hovertemplate": "Player=Tim Duncan<br>Age=%{x}<br>Moyenne des points par matchs=%{y}<extra></extra>",
         "legendgroup": "Tim Duncan",
         "marker": {
          "color": "#B6E880",
          "symbol": "circle"
         },
         "mode": "markers",
         "name": "Tim Duncan",
         "orientation": "v",
         "showlegend": true,
         "type": "scatter",
         "x": [
          25,
          26
         ],
         "xaxis": "x",
         "y": [
          25.5,
          23.3
         ],
         "yaxis": "y"
        },
        {
         "hovertemplate": "Player=Kevin Garnett<br>Age=%{x}<br>Moyenne des points par matchs=%{y}<extra></extra>",
         "legendgroup": "Kevin Garnett",
         "marker": {
          "color": "#FF97FF",
          "symbol": "circle"
         },
         "mode": "markers",
         "name": "Kevin Garnett",
         "orientation": "v",
         "showlegend": true,
         "type": "scatter",
         "x": [
          27
         ],
         "xaxis": "x",
         "y": [
          24.2
         ],
         "yaxis": "y"
        },
        {
         "hovertemplate": "Player=Steve Nash<br>Age=%{x}<br>Moyenne des points par matchs=%{y}<extra></extra>",
         "legendgroup": "Steve Nash",
         "marker": {
          "color": "#FECB52",
          "symbol": "circle"
         },
         "mode": "markers",
         "name": "Steve Nash",
         "orientation": "v",
         "showlegend": true,
         "type": "scatter",
         "x": [
          30,
          31
         ],
         "xaxis": "x",
         "y": [
          15.5,
          18.8
         ],
         "yaxis": "y"
        },
        {
         "hovertemplate": "Player=Dirk Nowitzki<br>Age=%{x}<br>Moyenne des points par matchs=%{y}<extra></extra>",
         "legendgroup": "Dirk Nowitzki",
         "marker": {
          "color": "#636efa",
          "symbol": "circle"
         },
         "mode": "markers",
         "name": "Dirk Nowitzki",
         "orientation": "v",
         "showlegend": true,
         "type": "scatter",
         "x": [
          28
         ],
         "xaxis": "x",
         "y": [
          24.6
         ],
         "yaxis": "y"
        },
        {
         "hovertemplate": "Player=Kobe Bryant<br>Age=%{x}<br>Moyenne des points par matchs=%{y}<extra></extra>",
         "legendgroup": "Kobe Bryant",
         "marker": {
          "color": "#EF553B",
          "symbol": "circle"
         },
         "mode": "markers",
         "name": "Kobe Bryant",
         "orientation": "v",
         "showlegend": true,
         "type": "scatter",
         "x": [
          29
         ],
         "xaxis": "x",
         "y": [
          28.3
         ],
         "yaxis": "y"
        },
        {
         "hovertemplate": "Player=LeBron James<br>Age=%{x}<br>Moyenne des points par matchs=%{y}<extra></extra>",
         "legendgroup": "LeBron James",
         "marker": {
          "color": "#00cc96",
          "symbol": "circle"
         },
         "mode": "markers",
         "name": "LeBron James",
         "orientation": "v",
         "showlegend": true,
         "type": "scatter",
         "x": [
          24,
          25,
          27,
          28
         ],
         "xaxis": "x",
         "y": [
          28.4,
          29.7,
          27.1,
          26.8
         ],
         "yaxis": "y"
        },
        {
         "hovertemplate": "Player=Derrick Rose<br>Age=%{x}<br>Moyenne des points par matchs=%{y}<extra></extra>",
         "legendgroup": "Derrick Rose",
         "marker": {
          "color": "#ab63fa",
          "symbol": "circle"
         },
         "mode": "markers",
         "name": "Derrick Rose",
         "orientation": "v",
         "showlegend": true,
         "type": "scatter",
         "x": [
          22
         ],
         "xaxis": "x",
         "y": [
          25
         ],
         "yaxis": "y"
        },
        {
         "hovertemplate": "Player=Kevin Durant<br>Age=%{x}<br>Moyenne des points par matchs=%{y}<extra></extra>",
         "legendgroup": "Kevin Durant",
         "marker": {
          "color": "#FFA15A",
          "symbol": "circle"
         },
         "mode": "markers",
         "name": "Kevin Durant",
         "orientation": "v",
         "showlegend": true,
         "type": "scatter",
         "x": [
          25
         ],
         "xaxis": "x",
         "y": [
          32
         ],
         "yaxis": "y"
        },
        {
         "hovertemplate": "Player=Stephen Curry<br>Age=%{x}<br>Moyenne des points par matchs=%{y}<extra></extra>",
         "legendgroup": "Stephen Curry",
         "marker": {
          "color": "#19d3f3",
          "symbol": "circle"
         },
         "mode": "markers",
         "name": "Stephen Curry",
         "orientation": "v",
         "showlegend": true,
         "type": "scatter",
         "x": [
          26,
          27
         ],
         "xaxis": "x",
         "y": [
          23.8,
          30.1
         ],
         "yaxis": "y"
        },
        {
         "hovertemplate": "Player=Russell Westbrook<br>Age=%{x}<br>Moyenne des points par matchs=%{y}<extra></extra>",
         "legendgroup": "Russell Westbrook",
         "marker": {
          "color": "#FF6692",
          "symbol": "circle"
         },
         "mode": "markers",
         "name": "Russell Westbrook",
         "orientation": "v",
         "showlegend": true,
         "type": "scatter",
         "x": [
          28
         ],
         "xaxis": "x",
         "y": [
          31.6
         ],
         "yaxis": "y"
        },
        {
         "hovertemplate": "Player=James Harden<br>Age=%{x}<br>Moyenne des points par matchs=%{y}<extra></extra>",
         "legendgroup": "James Harden",
         "marker": {
          "color": "#B6E880",
          "symbol": "circle"
         },
         "mode": "markers",
         "name": "James Harden",
         "orientation": "v",
         "showlegend": true,
         "type": "scatter",
         "x": [
          28
         ],
         "xaxis": "x",
         "y": [
          30.4
         ],
         "yaxis": "y"
        },
        {
         "hovertemplate": "Player=Giannis Antetokounmpo<br>Age=%{x}<br>Moyenne des points par matchs=%{y}<extra></extra>",
         "legendgroup": "Giannis Antetokounmpo",
         "marker": {
          "color": "#FF97FF",
          "symbol": "circle"
         },
         "mode": "markers",
         "name": "Giannis Antetokounmpo",
         "orientation": "v",
         "showlegend": true,
         "type": "scatter",
         "x": [
          24,
          25
         ],
         "xaxis": "x",
         "y": [
          27.7,
          29.5
         ],
         "yaxis": "y"
        },
        {
         "hovertemplate": "Player=Nikola Joki?<br>Age=%{x}<br>Moyenne des points par matchs=%{y}<extra></extra>",
         "legendgroup": "Nikola Joki?",
         "marker": {
          "color": "#FECB52",
          "symbol": "circle"
         },
         "mode": "markers",
         "name": "Nikola Joki?",
         "orientation": "v",
         "showlegend": true,
         "type": "scatter",
         "x": [
          25
         ],
         "xaxis": "x",
         "y": [
          26.4
         ],
         "yaxis": "y"
        },
        {
         "hovertemplate": "<b>OLS trendline</b><br>PTS = -0.240673 * Age + 33.8348<br>R<sup>2</sup>=0.040198<br><br>Age=%{x}<br>Moyenne des points par matchs=%{y} <b>(trend)</b><extra></extra>",
         "legendgroup": "Overall Trendline",
         "line": {
          "color": "#636efa"
         },
         "mode": "lines",
         "name": "Overall Trendline",
         "showlegend": true,
         "type": "scatter",
         "x": [
          22,
          24,
          24,
          25,
          25,
          25,
          25,
          25,
          25,
          26,
          26,
          27,
          27,
          27,
          27,
          27,
          28,
          28,
          28,
          28,
          28,
          29,
          29,
          29,
          30,
          31,
          31,
          32,
          33,
          34,
          35
         ],
         "xaxis": "x",
         "y": [
          28.53999091115655,
          28.05864576232674,
          28.05864576232674,
          27.817973187911832,
          27.817973187911832,
          27.817973187911832,
          27.817973187911832,
          27.817973187911832,
          27.817973187911832,
          27.577300613496927,
          27.577300613496927,
          27.336628039082022,
          27.336628039082022,
          27.336628039082022,
          27.336628039082022,
          27.336628039082022,
          27.095955464667117,
          27.095955464667117,
          27.095955464667117,
          27.095955464667117,
          27.095955464667117,
          26.855282890252212,
          26.855282890252212,
          26.855282890252212,
          26.614610315837304,
          26.3739377414224,
          26.3739377414224,
          26.133265167007494,
          25.89259259259259,
          25.651920018177684,
          25.411247443762775
         ],
         "yaxis": "y"
        }
       ],
       "layout": {
        "annotations": [
         {
          "arrowhead": 2,
          "ax": 20,
          "ay": -30,
          "showarrow": true,
          "text": "Kevin Durant",
          "x": 25,
          "y": 32
         }
        ],
        "legend": {
         "title": {
          "text": "Player"
         },
         "tracegroupgap": 0
        },
        "template": {
         "data": {
          "bar": [
           {
            "error_x": {
             "color": "#2a3f5f"
            },
            "error_y": {
             "color": "#2a3f5f"
            },
            "marker": {
             "line": {
              "color": "#E5ECF6",
              "width": 0.5
             },
             "pattern": {
              "fillmode": "overlay",
              "size": 10,
              "solidity": 0.2
             }
            },
            "type": "bar"
           }
          ],
          "barpolar": [
           {
            "marker": {
             "line": {
              "color": "#E5ECF6",
              "width": 0.5
             },
             "pattern": {
              "fillmode": "overlay",
              "size": 10,
              "solidity": 0.2
             }
            },
            "type": "barpolar"
           }
          ],
          "carpet": [
           {
            "aaxis": {
             "endlinecolor": "#2a3f5f",
             "gridcolor": "white",
             "linecolor": "white",
             "minorgridcolor": "white",
             "startlinecolor": "#2a3f5f"
            },
            "baxis": {
             "endlinecolor": "#2a3f5f",
             "gridcolor": "white",
             "linecolor": "white",
             "minorgridcolor": "white",
             "startlinecolor": "#2a3f5f"
            },
            "type": "carpet"
           }
          ],
          "choropleth": [
           {
            "colorbar": {
             "outlinewidth": 0,
             "ticks": ""
            },
            "type": "choropleth"
           }
          ],
          "contour": [
           {
            "colorbar": {
             "outlinewidth": 0,
             "ticks": ""
            },
            "colorscale": [
             [
              0,
              "#0d0887"
             ],
             [
              0.1111111111111111,
              "#46039f"
             ],
             [
              0.2222222222222222,
              "#7201a8"
             ],
             [
              0.3333333333333333,
              "#9c179e"
             ],
             [
              0.4444444444444444,
              "#bd3786"
             ],
             [
              0.5555555555555556,
              "#d8576b"
             ],
             [
              0.6666666666666666,
              "#ed7953"
             ],
             [
              0.7777777777777778,
              "#fb9f3a"
             ],
             [
              0.8888888888888888,
              "#fdca26"
             ],
             [
              1,
              "#f0f921"
             ]
            ],
            "type": "contour"
           }
          ],
          "contourcarpet": [
           {
            "colorbar": {
             "outlinewidth": 0,
             "ticks": ""
            },
            "type": "contourcarpet"
           }
          ],
          "heatmap": [
           {
            "colorbar": {
             "outlinewidth": 0,
             "ticks": ""
            },
            "colorscale": [
             [
              0,
              "#0d0887"
             ],
             [
              0.1111111111111111,
              "#46039f"
             ],
             [
              0.2222222222222222,
              "#7201a8"
             ],
             [
              0.3333333333333333,
              "#9c179e"
             ],
             [
              0.4444444444444444,
              "#bd3786"
             ],
             [
              0.5555555555555556,
              "#d8576b"
             ],
             [
              0.6666666666666666,
              "#ed7953"
             ],
             [
              0.7777777777777778,
              "#fb9f3a"
             ],
             [
              0.8888888888888888,
              "#fdca26"
             ],
             [
              1,
              "#f0f921"
             ]
            ],
            "type": "heatmap"
           }
          ],
          "heatmapgl": [
           {
            "colorbar": {
             "outlinewidth": 0,
             "ticks": ""
            },
            "colorscale": [
             [
              0,
              "#0d0887"
             ],
             [
              0.1111111111111111,
              "#46039f"
             ],
             [
              0.2222222222222222,
              "#7201a8"
             ],
             [
              0.3333333333333333,
              "#9c179e"
             ],
             [
              0.4444444444444444,
              "#bd3786"
             ],
             [
              0.5555555555555556,
              "#d8576b"
             ],
             [
              0.6666666666666666,
              "#ed7953"
             ],
             [
              0.7777777777777778,
              "#fb9f3a"
             ],
             [
              0.8888888888888888,
              "#fdca26"
             ],
             [
              1,
              "#f0f921"
             ]
            ],
            "type": "heatmapgl"
           }
          ],
          "histogram": [
           {
            "marker": {
             "pattern": {
              "fillmode": "overlay",
              "size": 10,
              "solidity": 0.2
             }
            },
            "type": "histogram"
           }
          ],
          "histogram2d": [
           {
            "colorbar": {
             "outlinewidth": 0,
             "ticks": ""
            },
            "colorscale": [
             [
              0,
              "#0d0887"
             ],
             [
              0.1111111111111111,
              "#46039f"
             ],
             [
              0.2222222222222222,
              "#7201a8"
             ],
             [
              0.3333333333333333,
              "#9c179e"
             ],
             [
              0.4444444444444444,
              "#bd3786"
             ],
             [
              0.5555555555555556,
              "#d8576b"
             ],
             [
              0.6666666666666666,
              "#ed7953"
             ],
             [
              0.7777777777777778,
              "#fb9f3a"
             ],
             [
              0.8888888888888888,
              "#fdca26"
             ],
             [
              1,
              "#f0f921"
             ]
            ],
            "type": "histogram2d"
           }
          ],
          "histogram2dcontour": [
           {
            "colorbar": {
             "outlinewidth": 0,
             "ticks": ""
            },
            "colorscale": [
             [
              0,
              "#0d0887"
             ],
             [
              0.1111111111111111,
              "#46039f"
             ],
             [
              0.2222222222222222,
              "#7201a8"
             ],
             [
              0.3333333333333333,
              "#9c179e"
             ],
             [
              0.4444444444444444,
              "#bd3786"
             ],
             [
              0.5555555555555556,
              "#d8576b"
             ],
             [
              0.6666666666666666,
              "#ed7953"
             ],
             [
              0.7777777777777778,
              "#fb9f3a"
             ],
             [
              0.8888888888888888,
              "#fdca26"
             ],
             [
              1,
              "#f0f921"
             ]
            ],
            "type": "histogram2dcontour"
           }
          ],
          "mesh3d": [
           {
            "colorbar": {
             "outlinewidth": 0,
             "ticks": ""
            },
            "type": "mesh3d"
           }
          ],
          "parcoords": [
           {
            "line": {
             "colorbar": {
              "outlinewidth": 0,
              "ticks": ""
             }
            },
            "type": "parcoords"
           }
          ],
          "pie": [
           {
            "automargin": true,
            "type": "pie"
           }
          ],
          "scatter": [
           {
            "fillpattern": {
             "fillmode": "overlay",
             "size": 10,
             "solidity": 0.2
            },
            "type": "scatter"
           }
          ],
          "scatter3d": [
           {
            "line": {
             "colorbar": {
              "outlinewidth": 0,
              "ticks": ""
             }
            },
            "marker": {
             "colorbar": {
              "outlinewidth": 0,
              "ticks": ""
             }
            },
            "type": "scatter3d"
           }
          ],
          "scattercarpet": [
           {
            "marker": {
             "colorbar": {
              "outlinewidth": 0,
              "ticks": ""
             }
            },
            "type": "scattercarpet"
           }
          ],
          "scattergeo": [
           {
            "marker": {
             "colorbar": {
              "outlinewidth": 0,
              "ticks": ""
             }
            },
            "type": "scattergeo"
           }
          ],
          "scattergl": [
           {
            "marker": {
             "colorbar": {
              "outlinewidth": 0,
              "ticks": ""
             }
            },
            "type": "scattergl"
           }
          ],
          "scattermapbox": [
           {
            "marker": {
             "colorbar": {
              "outlinewidth": 0,
              "ticks": ""
             }
            },
            "type": "scattermapbox"
           }
          ],
          "scatterpolar": [
           {
            "marker": {
             "colorbar": {
              "outlinewidth": 0,
              "ticks": ""
             }
            },
            "type": "scatterpolar"
           }
          ],
          "scatterpolargl": [
           {
            "marker": {
             "colorbar": {
              "outlinewidth": 0,
              "ticks": ""
             }
            },
            "type": "scatterpolargl"
           }
          ],
          "scatterternary": [
           {
            "marker": {
             "colorbar": {
              "outlinewidth": 0,
              "ticks": ""
             }
            },
            "type": "scatterternary"
           }
          ],
          "surface": [
           {
            "colorbar": {
             "outlinewidth": 0,
             "ticks": ""
            },
            "colorscale": [
             [
              0,
              "#0d0887"
             ],
             [
              0.1111111111111111,
              "#46039f"
             ],
             [
              0.2222222222222222,
              "#7201a8"
             ],
             [
              0.3333333333333333,
              "#9c179e"
             ],
             [
              0.4444444444444444,
              "#bd3786"
             ],
             [
              0.5555555555555556,
              "#d8576b"
             ],
             [
              0.6666666666666666,
              "#ed7953"
             ],
             [
              0.7777777777777778,
              "#fb9f3a"
             ],
             [
              0.8888888888888888,
              "#fdca26"
             ],
             [
              1,
              "#f0f921"
             ]
            ],
            "type": "surface"
           }
          ],
          "table": [
           {
            "cells": {
             "fill": {
              "color": "#EBF0F8"
             },
             "line": {
              "color": "white"
             }
            },
            "header": {
             "fill": {
              "color": "#C8D4E3"
             },
             "line": {
              "color": "white"
             }
            },
            "type": "table"
           }
          ]
         },
         "layout": {
          "annotationdefaults": {
           "arrowcolor": "#2a3f5f",
           "arrowhead": 0,
           "arrowwidth": 1
          },
          "autotypenumbers": "strict",
          "coloraxis": {
           "colorbar": {
            "outlinewidth": 0,
            "ticks": ""
           }
          },
          "colorscale": {
           "diverging": [
            [
             0,
             "#8e0152"
            ],
            [
             0.1,
             "#c51b7d"
            ],
            [
             0.2,
             "#de77ae"
            ],
            [
             0.3,
             "#f1b6da"
            ],
            [
             0.4,
             "#fde0ef"
            ],
            [
             0.5,
             "#f7f7f7"
            ],
            [
             0.6,
             "#e6f5d0"
            ],
            [
             0.7,
             "#b8e186"
            ],
            [
             0.8,
             "#7fbc41"
            ],
            [
             0.9,
             "#4d9221"
            ],
            [
             1,
             "#276419"
            ]
           ],
           "sequential": [
            [
             0,
             "#0d0887"
            ],
            [
             0.1111111111111111,
             "#46039f"
            ],
            [
             0.2222222222222222,
             "#7201a8"
            ],
            [
             0.3333333333333333,
             "#9c179e"
            ],
            [
             0.4444444444444444,
             "#bd3786"
            ],
            [
             0.5555555555555556,
             "#d8576b"
            ],
            [
             0.6666666666666666,
             "#ed7953"
            ],
            [
             0.7777777777777778,
             "#fb9f3a"
            ],
            [
             0.8888888888888888,
             "#fdca26"
            ],
            [
             1,
             "#f0f921"
            ]
           ],
           "sequentialminus": [
            [
             0,
             "#0d0887"
            ],
            [
             0.1111111111111111,
             "#46039f"
            ],
            [
             0.2222222222222222,
             "#7201a8"
            ],
            [
             0.3333333333333333,
             "#9c179e"
            ],
            [
             0.4444444444444444,
             "#bd3786"
            ],
            [
             0.5555555555555556,
             "#d8576b"
            ],
            [
             0.6666666666666666,
             "#ed7953"
            ],
            [
             0.7777777777777778,
             "#fb9f3a"
            ],
            [
             0.8888888888888888,
             "#fdca26"
            ],
            [
             1,
             "#f0f921"
            ]
           ]
          },
          "colorway": [
           "#636efa",
           "#EF553B",
           "#00cc96",
           "#ab63fa",
           "#FFA15A",
           "#19d3f3",
           "#FF6692",
           "#B6E880",
           "#FF97FF",
           "#FECB52"
          ],
          "font": {
           "color": "#2a3f5f"
          },
          "geo": {
           "bgcolor": "white",
           "lakecolor": "white",
           "landcolor": "#E5ECF6",
           "showlakes": true,
           "showland": true,
           "subunitcolor": "white"
          },
          "hoverlabel": {
           "align": "left"
          },
          "hovermode": "closest",
          "mapbox": {
           "style": "light"
          },
          "paper_bgcolor": "white",
          "plot_bgcolor": "#E5ECF6",
          "polar": {
           "angularaxis": {
            "gridcolor": "white",
            "linecolor": "white",
            "ticks": ""
           },
           "bgcolor": "#E5ECF6",
           "radialaxis": {
            "gridcolor": "white",
            "linecolor": "white",
            "ticks": ""
           }
          },
          "scene": {
           "xaxis": {
            "backgroundcolor": "#E5ECF6",
            "gridcolor": "white",
            "gridwidth": 2,
            "linecolor": "white",
            "showbackground": true,
            "ticks": "",
            "zerolinecolor": "white"
           },
           "yaxis": {
            "backgroundcolor": "#E5ECF6",
            "gridcolor": "white",
            "gridwidth": 2,
            "linecolor": "white",
            "showbackground": true,
            "ticks": "",
            "zerolinecolor": "white"
           },
           "zaxis": {
            "backgroundcolor": "#E5ECF6",
            "gridcolor": "white",
            "gridwidth": 2,
            "linecolor": "white",
            "showbackground": true,
            "ticks": "",
            "zerolinecolor": "white"
           }
          },
          "shapedefaults": {
           "line": {
            "color": "#2a3f5f"
           }
          },
          "ternary": {
           "aaxis": {
            "gridcolor": "white",
            "linecolor": "white",
            "ticks": ""
           },
           "baxis": {
            "gridcolor": "white",
            "linecolor": "white",
            "ticks": ""
           },
           "bgcolor": "#E5ECF6",
           "caxis": {
            "gridcolor": "white",
            "linecolor": "white",
            "ticks": ""
           }
          },
          "title": {
           "x": 0.05
          },
          "xaxis": {
           "automargin": true,
           "gridcolor": "white",
           "linecolor": "white",
           "ticks": "",
           "title": {
            "standoff": 15
           },
           "zerolinecolor": "white",
           "zerolinewidth": 2
          },
          "yaxis": {
           "automargin": true,
           "gridcolor": "white",
           "linecolor": "white",
           "ticks": "",
           "title": {
            "standoff": 15
           },
           "zerolinecolor": "white",
           "zerolinewidth": 2
          }
         }
        },
        "title": {
         "text": "Nombre des points marqués en fonction de l'age"
        },
        "xaxis": {
         "anchor": "y",
         "domain": [
          0,
          1
         ],
         "title": {
          "text": "Age"
         }
        },
        "yaxis": {
         "anchor": "x",
         "domain": [
          0,
          1
         ],
         "title": {
          "text": "Moyenne des points par matchs"
         }
        }
       }
      }
     },
     "metadata": {},
     "output_type": "display_data"
    }
   ],
   "source": [
    "fig = px.scatter(mvps_merged, x=\"Age\", y=\"PTS\", title=\"Nombre des points marqués en fonction de l'age\", color=\"Player\",labels={'PTS': 'Moyenne des points par matchs', 'Year': \"Années\"},trendline=\"ols\",trendline_scope=\"overall\")\n",
    "\n",
    "top_scorer = mvps_merged.loc[mvps_merged[\"PTS\"].idxmax()]\n",
    "\n",
    "fig.add_annotation(\n",
    "    x=top_scorer[\"Age\"],\n",
    "    y=top_scorer[\"PTS\"],\n",
    "    text=top_scorer[\"Player\"],\n",
    "    showarrow=True,\n",
    "    arrowhead=2,\n",
    "    ax=20,  # Position horizontale du texte par rapport à la flèche\n",
    "    ay=-30  # Position verticale du texte par rapport à la flèche\n",
    ")\n",
    "\n",
    "fig.show()"
   ]
  },
  {
   "cell_type": "markdown",
   "metadata": {},
   "source": [
    "Ce qu'on peut remarquer c'est que les joueurs qui ont marqué le plus de points sont ceux qui sont les plus jeunes et ceux qui ont marqué le moins de points sont ceux qui sont les plus vieux."
   ]
  },
  {
   "cell_type": "code",
   "execution_count": null,
   "metadata": {},
   "outputs": [
    {
     "data": {
      "text/plain": [
       "0      1\n",
       "20     1\n",
       "37     1\n",
       "51     1\n",
       "68     1\n",
       "83     1\n",
       "100    1\n",
       "120    1\n",
       "139    1\n",
       "160    1\n",
       "176    1\n",
       "193    1\n",
       "211    1\n",
       "224    1\n",
       "240    1\n",
       "256    1\n",
       "267    1\n",
       "284    1\n",
       "301    1\n",
       "313    1\n",
       "328    1\n",
       "341    1\n",
       "356    1\n",
       "372    1\n",
       "389    1\n",
       "401    1\n",
       "411    1\n",
       "422    1\n",
       "435    1\n",
       "447    1\n",
       "459    1\n",
       "Name: Rank, dtype: object"
      ]
     },
     "execution_count": 149,
     "metadata": {},
     "output_type": "execute_result"
    }
   ],
   "source": [
    "# age_moy_mvp = mvps[\"Age\"].mean()\n",
    "# moy=round(age_moy_mvp,1)\n",
    "# print(\"L'age moyen est \",moy)\n",
    "\n",
    "# age_moy_lot = mvps['Rank']\n",
    "# print(\"Le rang moyen est \",age_moy_lot)\n",
    "\n",
    "rang = mvps[\"Rank\"]\n",
    "rang \n"
   ]
  },
  {
   "cell_type": "code",
   "execution_count": null,
   "metadata": {},
   "outputs": [
    {
     "data": {
      "application/vnd.plotly.v1+json": {
       "config": {
        "plotlyServerURL": "https://plot.ly"
       },
       "data": [
        {
         "hovertemplate": "Player=Michael Jordan<br>Années=%{x}<br>Âge=%{y}<extra></extra>",
         "legendgroup": "Michael Jordan",
         "marker": {
          "color": "#636efa",
          "symbol": "circle"
         },
         "mode": "markers",
         "name": "Michael Jordan",
         "orientation": "v",
         "showlegend": true,
         "type": "scatter",
         "x": [
          1991,
          1992,
          1996,
          1998
         ],
         "xaxis": "x",
         "y": [
          27,
          28,
          32,
          34
         ],
         "yaxis": "y"
        },
        {
         "hovertemplate": "Player=Charles Barkley<br>Années=%{x}<br>Âge=%{y}<extra></extra>",
         "legendgroup": "Charles Barkley",
         "marker": {
          "color": "#EF553B",
          "symbol": "circle"
         },
         "mode": "markers",
         "name": "Charles Barkley",
         "orientation": "v",
         "showlegend": true,
         "type": "scatter",
         "x": [
          1993
         ],
         "xaxis": "x",
         "y": [
          29
         ],
         "yaxis": "y"
        },
        {
         "hovertemplate": "Player=Hakeem Olajuwon<br>Années=%{x}<br>Âge=%{y}<extra></extra>",
         "legendgroup": "Hakeem Olajuwon",
         "marker": {
          "color": "#00cc96",
          "symbol": "circle"
         },
         "mode": "markers",
         "name": "Hakeem Olajuwon",
         "orientation": "v",
         "showlegend": true,
         "type": "scatter",
         "x": [
          1994
         ],
         "xaxis": "x",
         "y": [
          31
         ],
         "yaxis": "y"
        },
        {
         "hovertemplate": "Player=David Robinson<br>Années=%{x}<br>Âge=%{y}<extra></extra>",
         "legendgroup": "David Robinson",
         "marker": {
          "color": "#ab63fa",
          "symbol": "circle"
         },
         "mode": "markers",
         "name": "David Robinson",
         "orientation": "v",
         "showlegend": true,
         "type": "scatter",
         "x": [
          1995
         ],
         "xaxis": "x",
         "y": [
          29
         ],
         "yaxis": "y"
        },
        {
         "hovertemplate": "Player=Karl Malone<br>Années=%{x}<br>Âge=%{y}<extra></extra>",
         "legendgroup": "Karl Malone",
         "marker": {
          "color": "#FFA15A",
          "symbol": "circle"
         },
         "mode": "markers",
         "name": "Karl Malone",
         "orientation": "v",
         "showlegend": true,
         "type": "scatter",
         "x": [
          1997,
          1999
         ],
         "xaxis": "x",
         "y": [
          33,
          35
         ],
         "yaxis": "y"
        },
        {
         "hovertemplate": "Player=Shaquille O'Neal<br>Années=%{x}<br>Âge=%{y}<extra></extra>",
         "legendgroup": "Shaquille O'Neal",
         "marker": {
          "color": "#19d3f3",
          "symbol": "circle"
         },
         "mode": "markers",
         "name": "Shaquille O'Neal",
         "orientation": "v",
         "showlegend": true,
         "type": "scatter",
         "x": [
          2000
         ],
         "xaxis": "x",
         "y": [
          27
         ],
         "yaxis": "y"
        },
        {
         "hovertemplate": "Player=Allen Iverson<br>Années=%{x}<br>Âge=%{y}<extra></extra>",
         "legendgroup": "Allen Iverson",
         "marker": {
          "color": "#FF6692",
          "symbol": "circle"
         },
         "mode": "markers",
         "name": "Allen Iverson",
         "orientation": "v",
         "showlegend": true,
         "type": "scatter",
         "x": [
          2001
         ],
         "xaxis": "x",
         "y": [
          25
         ],
         "yaxis": "y"
        },
        {
         "hovertemplate": "Player=Tim Duncan<br>Années=%{x}<br>Âge=%{y}<extra></extra>",
         "legendgroup": "Tim Duncan",
         "marker": {
          "color": "#B6E880",
          "symbol": "circle"
         },
         "mode": "markers",
         "name": "Tim Duncan",
         "orientation": "v",
         "showlegend": true,
         "type": "scatter",
         "x": [
          2002,
          2003
         ],
         "xaxis": "x",
         "y": [
          25,
          26
         ],
         "yaxis": "y"
        },
        {
         "hovertemplate": "Player=Kevin Garnett<br>Années=%{x}<br>Âge=%{y}<extra></extra>",
         "legendgroup": "Kevin Garnett",
         "marker": {
          "color": "#FF97FF",
          "symbol": "circle"
         },
         "mode": "markers",
         "name": "Kevin Garnett",
         "orientation": "v",
         "showlegend": true,
         "type": "scatter",
         "x": [
          2004
         ],
         "xaxis": "x",
         "y": [
          27
         ],
         "yaxis": "y"
        },
        {
         "hovertemplate": "Player=Steve Nash<br>Années=%{x}<br>Âge=%{y}<extra></extra>",
         "legendgroup": "Steve Nash",
         "marker": {
          "color": "#FECB52",
          "symbol": "circle"
         },
         "mode": "markers",
         "name": "Steve Nash",
         "orientation": "v",
         "showlegend": true,
         "type": "scatter",
         "x": [
          2005,
          2006
         ],
         "xaxis": "x",
         "y": [
          30,
          31
         ],
         "yaxis": "y"
        },
        {
         "hovertemplate": "Player=Dirk Nowitzki<br>Années=%{x}<br>Âge=%{y}<extra></extra>",
         "legendgroup": "Dirk Nowitzki",
         "marker": {
          "color": "#636efa",
          "symbol": "circle"
         },
         "mode": "markers",
         "name": "Dirk Nowitzki",
         "orientation": "v",
         "showlegend": true,
         "type": "scatter",
         "x": [
          2007
         ],
         "xaxis": "x",
         "y": [
          28
         ],
         "yaxis": "y"
        },
        {
         "hovertemplate": "Player=Kobe Bryant<br>Années=%{x}<br>Âge=%{y}<extra></extra>",
         "legendgroup": "Kobe Bryant",
         "marker": {
          "color": "#EF553B",
          "symbol": "circle"
         },
         "mode": "markers",
         "name": "Kobe Bryant",
         "orientation": "v",
         "showlegend": true,
         "type": "scatter",
         "x": [
          2008
         ],
         "xaxis": "x",
         "y": [
          29
         ],
         "yaxis": "y"
        },
        {
         "hovertemplate": "Player=LeBron James<br>Années=%{x}<br>Âge=%{y}<extra></extra>",
         "legendgroup": "LeBron James",
         "marker": {
          "color": "#00cc96",
          "symbol": "circle"
         },
         "mode": "markers",
         "name": "LeBron James",
         "orientation": "v",
         "showlegend": true,
         "type": "scatter",
         "x": [
          2009,
          2010,
          2012,
          2013
         ],
         "xaxis": "x",
         "y": [
          24,
          25,
          27,
          28
         ],
         "yaxis": "y"
        },
        {
         "hovertemplate": "Player=Derrick Rose<br>Années=%{x}<br>Âge=%{y}<extra></extra>",
         "legendgroup": "Derrick Rose",
         "marker": {
          "color": "#ab63fa",
          "symbol": "circle"
         },
         "mode": "markers",
         "name": "Derrick Rose",
         "orientation": "v",
         "showlegend": true,
         "type": "scatter",
         "x": [
          2011
         ],
         "xaxis": "x",
         "y": [
          22
         ],
         "yaxis": "y"
        },
        {
         "hovertemplate": "Player=Kevin Durant<br>Années=%{x}<br>Âge=%{y}<extra></extra>",
         "legendgroup": "Kevin Durant",
         "marker": {
          "color": "#FFA15A",
          "symbol": "circle"
         },
         "mode": "markers",
         "name": "Kevin Durant",
         "orientation": "v",
         "showlegend": true,
         "type": "scatter",
         "x": [
          2014
         ],
         "xaxis": "x",
         "y": [
          25
         ],
         "yaxis": "y"
        },
        {
         "hovertemplate": "Player=Stephen Curry<br>Années=%{x}<br>Âge=%{y}<extra></extra>",
         "legendgroup": "Stephen Curry",
         "marker": {
          "color": "#19d3f3",
          "symbol": "circle"
         },
         "mode": "markers",
         "name": "Stephen Curry",
         "orientation": "v",
         "showlegend": true,
         "type": "scatter",
         "x": [
          2015,
          2016
         ],
         "xaxis": "x",
         "y": [
          26,
          27
         ],
         "yaxis": "y"
        },
        {
         "hovertemplate": "Player=Russell Westbrook<br>Années=%{x}<br>Âge=%{y}<extra></extra>",
         "legendgroup": "Russell Westbrook",
         "marker": {
          "color": "#FF6692",
          "symbol": "circle"
         },
         "mode": "markers",
         "name": "Russell Westbrook",
         "orientation": "v",
         "showlegend": true,
         "type": "scatter",
         "x": [
          2017
         ],
         "xaxis": "x",
         "y": [
          28
         ],
         "yaxis": "y"
        },
        {
         "hovertemplate": "Player=James Harden<br>Années=%{x}<br>Âge=%{y}<extra></extra>",
         "legendgroup": "James Harden",
         "marker": {
          "color": "#B6E880",
          "symbol": "circle"
         },
         "mode": "markers",
         "name": "James Harden",
         "orientation": "v",
         "showlegend": true,
         "type": "scatter",
         "x": [
          2018
         ],
         "xaxis": "x",
         "y": [
          28
         ],
         "yaxis": "y"
        },
        {
         "hovertemplate": "Player=Giannis Antetokounmpo<br>Années=%{x}<br>Âge=%{y}<extra></extra>",
         "legendgroup": "Giannis Antetokounmpo",
         "marker": {
          "color": "#FF97FF",
          "symbol": "circle"
         },
         "mode": "markers",
         "name": "Giannis Antetokounmpo",
         "orientation": "v",
         "showlegend": true,
         "type": "scatter",
         "x": [
          2019,
          2020
         ],
         "xaxis": "x",
         "y": [
          24,
          25
         ],
         "yaxis": "y"
        },
        {
         "hovertemplate": "Player=Nikola Joki?<br>Années=%{x}<br>Âge=%{y}<extra></extra>",
         "legendgroup": "Nikola Joki?",
         "marker": {
          "color": "#FECB52",
          "symbol": "circle"
         },
         "mode": "markers",
         "name": "Nikola Joki?",
         "orientation": "v",
         "showlegend": true,
         "type": "scatter",
         "x": [
          2021
         ],
         "xaxis": "x",
         "y": [
          25
         ],
         "yaxis": "y"
        },
        {
         "hovertemplate": "<b>OLS trendline</b><br>Age = -0.17621 * Year + 381.219<br>R<sup>2</sup>=0.271201<br><br>Années=%{x}<br>Âge=%{y} <b>(trend)</b><extra></extra>",
         "legendgroup": "Overall Trendline",
         "line": {
          "color": "#636efa"
         },
         "mode": "lines",
         "name": "Overall Trendline",
         "showlegend": true,
         "type": "scatter",
         "x": [
          1991,
          1992,
          1993,
          1994,
          1995,
          1996,
          1997,
          1998,
          1999,
          2000,
          2001,
          2002,
          2003,
          2004,
          2005,
          2006,
          2007,
          2008,
          2009,
          2010,
          2011,
          2012,
          2013,
          2014,
          2015,
          2016,
          2017,
          2018,
          2019,
          2020,
          2021
         ],
         "xaxis": "x",
         "y": [
          30.385080645161647,
          30.20887096774229,
          30.032661290322935,
          29.856451612903577,
          29.68024193548422,
          29.50403225806486,
          29.327822580645503,
          29.151612903226145,
          28.975403225806787,
          28.79919354838743,
          28.62298387096807,
          28.446774193548716,
          28.270564516129358,
          28.09435483871,
          27.918145161290642,
          27.741935483871284,
          27.565725806451926,
          27.389516129032568,
          27.21330645161321,
          27.037096774193856,
          26.860887096774498,
          26.68467741935514,
          26.50846774193578,
          26.332258064516424,
          26.156048387097066,
          25.979838709677708,
          25.80362903225835,
          25.62741935483899,
          25.451209677419637,
          25.27500000000028,
          25.09879032258092
         ],
         "yaxis": "y"
        }
       ],
       "layout": {
        "annotations": [
         {
          "arrowhead": 2,
          "ax": 20,
          "ay": -30,
          "showarrow": true,
          "text": "Derrick Rose (Âge: 22)",
          "x": 2011,
          "y": 22
         },
         {
          "arrowhead": 2,
          "ax": 20,
          "ay": -30,
          "showarrow": true,
          "text": "Karl Malone (Âge: 35)",
          "x": 1999,
          "y": 35
         }
        ],
        "legend": {
         "title": {
          "text": "Player"
         },
         "tracegroupgap": 0
        },
        "template": {
         "data": {
          "bar": [
           {
            "error_x": {
             "color": "#2a3f5f"
            },
            "error_y": {
             "color": "#2a3f5f"
            },
            "marker": {
             "line": {
              "color": "#E5ECF6",
              "width": 0.5
             },
             "pattern": {
              "fillmode": "overlay",
              "size": 10,
              "solidity": 0.2
             }
            },
            "type": "bar"
           }
          ],
          "barpolar": [
           {
            "marker": {
             "line": {
              "color": "#E5ECF6",
              "width": 0.5
             },
             "pattern": {
              "fillmode": "overlay",
              "size": 10,
              "solidity": 0.2
             }
            },
            "type": "barpolar"
           }
          ],
          "carpet": [
           {
            "aaxis": {
             "endlinecolor": "#2a3f5f",
             "gridcolor": "white",
             "linecolor": "white",
             "minorgridcolor": "white",
             "startlinecolor": "#2a3f5f"
            },
            "baxis": {
             "endlinecolor": "#2a3f5f",
             "gridcolor": "white",
             "linecolor": "white",
             "minorgridcolor": "white",
             "startlinecolor": "#2a3f5f"
            },
            "type": "carpet"
           }
          ],
          "choropleth": [
           {
            "colorbar": {
             "outlinewidth": 0,
             "ticks": ""
            },
            "type": "choropleth"
           }
          ],
          "contour": [
           {
            "colorbar": {
             "outlinewidth": 0,
             "ticks": ""
            },
            "colorscale": [
             [
              0,
              "#0d0887"
             ],
             [
              0.1111111111111111,
              "#46039f"
             ],
             [
              0.2222222222222222,
              "#7201a8"
             ],
             [
              0.3333333333333333,
              "#9c179e"
             ],
             [
              0.4444444444444444,
              "#bd3786"
             ],
             [
              0.5555555555555556,
              "#d8576b"
             ],
             [
              0.6666666666666666,
              "#ed7953"
             ],
             [
              0.7777777777777778,
              "#fb9f3a"
             ],
             [
              0.8888888888888888,
              "#fdca26"
             ],
             [
              1,
              "#f0f921"
             ]
            ],
            "type": "contour"
           }
          ],
          "contourcarpet": [
           {
            "colorbar": {
             "outlinewidth": 0,
             "ticks": ""
            },
            "type": "contourcarpet"
           }
          ],
          "heatmap": [
           {
            "colorbar": {
             "outlinewidth": 0,
             "ticks": ""
            },
            "colorscale": [
             [
              0,
              "#0d0887"
             ],
             [
              0.1111111111111111,
              "#46039f"
             ],
             [
              0.2222222222222222,
              "#7201a8"
             ],
             [
              0.3333333333333333,
              "#9c179e"
             ],
             [
              0.4444444444444444,
              "#bd3786"
             ],
             [
              0.5555555555555556,
              "#d8576b"
             ],
             [
              0.6666666666666666,
              "#ed7953"
             ],
             [
              0.7777777777777778,
              "#fb9f3a"
             ],
             [
              0.8888888888888888,
              "#fdca26"
             ],
             [
              1,
              "#f0f921"
             ]
            ],
            "type": "heatmap"
           }
          ],
          "heatmapgl": [
           {
            "colorbar": {
             "outlinewidth": 0,
             "ticks": ""
            },
            "colorscale": [
             [
              0,
              "#0d0887"
             ],
             [
              0.1111111111111111,
              "#46039f"
             ],
             [
              0.2222222222222222,
              "#7201a8"
             ],
             [
              0.3333333333333333,
              "#9c179e"
             ],
             [
              0.4444444444444444,
              "#bd3786"
             ],
             [
              0.5555555555555556,
              "#d8576b"
             ],
             [
              0.6666666666666666,
              "#ed7953"
             ],
             [
              0.7777777777777778,
              "#fb9f3a"
             ],
             [
              0.8888888888888888,
              "#fdca26"
             ],
             [
              1,
              "#f0f921"
             ]
            ],
            "type": "heatmapgl"
           }
          ],
          "histogram": [
           {
            "marker": {
             "pattern": {
              "fillmode": "overlay",
              "size": 10,
              "solidity": 0.2
             }
            },
            "type": "histogram"
           }
          ],
          "histogram2d": [
           {
            "colorbar": {
             "outlinewidth": 0,
             "ticks": ""
            },
            "colorscale": [
             [
              0,
              "#0d0887"
             ],
             [
              0.1111111111111111,
              "#46039f"
             ],
             [
              0.2222222222222222,
              "#7201a8"
             ],
             [
              0.3333333333333333,
              "#9c179e"
             ],
             [
              0.4444444444444444,
              "#bd3786"
             ],
             [
              0.5555555555555556,
              "#d8576b"
             ],
             [
              0.6666666666666666,
              "#ed7953"
             ],
             [
              0.7777777777777778,
              "#fb9f3a"
             ],
             [
              0.8888888888888888,
              "#fdca26"
             ],
             [
              1,
              "#f0f921"
             ]
            ],
            "type": "histogram2d"
           }
          ],
          "histogram2dcontour": [
           {
            "colorbar": {
             "outlinewidth": 0,
             "ticks": ""
            },
            "colorscale": [
             [
              0,
              "#0d0887"
             ],
             [
              0.1111111111111111,
              "#46039f"
             ],
             [
              0.2222222222222222,
              "#7201a8"
             ],
             [
              0.3333333333333333,
              "#9c179e"
             ],
             [
              0.4444444444444444,
              "#bd3786"
             ],
             [
              0.5555555555555556,
              "#d8576b"
             ],
             [
              0.6666666666666666,
              "#ed7953"
             ],
             [
              0.7777777777777778,
              "#fb9f3a"
             ],
             [
              0.8888888888888888,
              "#fdca26"
             ],
             [
              1,
              "#f0f921"
             ]
            ],
            "type": "histogram2dcontour"
           }
          ],
          "mesh3d": [
           {
            "colorbar": {
             "outlinewidth": 0,
             "ticks": ""
            },
            "type": "mesh3d"
           }
          ],
          "parcoords": [
           {
            "line": {
             "colorbar": {
              "outlinewidth": 0,
              "ticks": ""
             }
            },
            "type": "parcoords"
           }
          ],
          "pie": [
           {
            "automargin": true,
            "type": "pie"
           }
          ],
          "scatter": [
           {
            "fillpattern": {
             "fillmode": "overlay",
             "size": 10,
             "solidity": 0.2
            },
            "type": "scatter"
           }
          ],
          "scatter3d": [
           {
            "line": {
             "colorbar": {
              "outlinewidth": 0,
              "ticks": ""
             }
            },
            "marker": {
             "colorbar": {
              "outlinewidth": 0,
              "ticks": ""
             }
            },
            "type": "scatter3d"
           }
          ],
          "scattercarpet": [
           {
            "marker": {
             "colorbar": {
              "outlinewidth": 0,
              "ticks": ""
             }
            },
            "type": "scattercarpet"
           }
          ],
          "scattergeo": [
           {
            "marker": {
             "colorbar": {
              "outlinewidth": 0,
              "ticks": ""
             }
            },
            "type": "scattergeo"
           }
          ],
          "scattergl": [
           {
            "marker": {
             "colorbar": {
              "outlinewidth": 0,
              "ticks": ""
             }
            },
            "type": "scattergl"
           }
          ],
          "scattermapbox": [
           {
            "marker": {
             "colorbar": {
              "outlinewidth": 0,
              "ticks": ""
             }
            },
            "type": "scattermapbox"
           }
          ],
          "scatterpolar": [
           {
            "marker": {
             "colorbar": {
              "outlinewidth": 0,
              "ticks": ""
             }
            },
            "type": "scatterpolar"
           }
          ],
          "scatterpolargl": [
           {
            "marker": {
             "colorbar": {
              "outlinewidth": 0,
              "ticks": ""
             }
            },
            "type": "scatterpolargl"
           }
          ],
          "scatterternary": [
           {
            "marker": {
             "colorbar": {
              "outlinewidth": 0,
              "ticks": ""
             }
            },
            "type": "scatterternary"
           }
          ],
          "surface": [
           {
            "colorbar": {
             "outlinewidth": 0,
             "ticks": ""
            },
            "colorscale": [
             [
              0,
              "#0d0887"
             ],
             [
              0.1111111111111111,
              "#46039f"
             ],
             [
              0.2222222222222222,
              "#7201a8"
             ],
             [
              0.3333333333333333,
              "#9c179e"
             ],
             [
              0.4444444444444444,
              "#bd3786"
             ],
             [
              0.5555555555555556,
              "#d8576b"
             ],
             [
              0.6666666666666666,
              "#ed7953"
             ],
             [
              0.7777777777777778,
              "#fb9f3a"
             ],
             [
              0.8888888888888888,
              "#fdca26"
             ],
             [
              1,
              "#f0f921"
             ]
            ],
            "type": "surface"
           }
          ],
          "table": [
           {
            "cells": {
             "fill": {
              "color": "#EBF0F8"
             },
             "line": {
              "color": "white"
             }
            },
            "header": {
             "fill": {
              "color": "#C8D4E3"
             },
             "line": {
              "color": "white"
             }
            },
            "type": "table"
           }
          ]
         },
         "layout": {
          "annotationdefaults": {
           "arrowcolor": "#2a3f5f",
           "arrowhead": 0,
           "arrowwidth": 1
          },
          "autotypenumbers": "strict",
          "coloraxis": {
           "colorbar": {
            "outlinewidth": 0,
            "ticks": ""
           }
          },
          "colorscale": {
           "diverging": [
            [
             0,
             "#8e0152"
            ],
            [
             0.1,
             "#c51b7d"
            ],
            [
             0.2,
             "#de77ae"
            ],
            [
             0.3,
             "#f1b6da"
            ],
            [
             0.4,
             "#fde0ef"
            ],
            [
             0.5,
             "#f7f7f7"
            ],
            [
             0.6,
             "#e6f5d0"
            ],
            [
             0.7,
             "#b8e186"
            ],
            [
             0.8,
             "#7fbc41"
            ],
            [
             0.9,
             "#4d9221"
            ],
            [
             1,
             "#276419"
            ]
           ],
           "sequential": [
            [
             0,
             "#0d0887"
            ],
            [
             0.1111111111111111,
             "#46039f"
            ],
            [
             0.2222222222222222,
             "#7201a8"
            ],
            [
             0.3333333333333333,
             "#9c179e"
            ],
            [
             0.4444444444444444,
             "#bd3786"
            ],
            [
             0.5555555555555556,
             "#d8576b"
            ],
            [
             0.6666666666666666,
             "#ed7953"
            ],
            [
             0.7777777777777778,
             "#fb9f3a"
            ],
            [
             0.8888888888888888,
             "#fdca26"
            ],
            [
             1,
             "#f0f921"
            ]
           ],
           "sequentialminus": [
            [
             0,
             "#0d0887"
            ],
            [
             0.1111111111111111,
             "#46039f"
            ],
            [
             0.2222222222222222,
             "#7201a8"
            ],
            [
             0.3333333333333333,
             "#9c179e"
            ],
            [
             0.4444444444444444,
             "#bd3786"
            ],
            [
             0.5555555555555556,
             "#d8576b"
            ],
            [
             0.6666666666666666,
             "#ed7953"
            ],
            [
             0.7777777777777778,
             "#fb9f3a"
            ],
            [
             0.8888888888888888,
             "#fdca26"
            ],
            [
             1,
             "#f0f921"
            ]
           ]
          },
          "colorway": [
           "#636efa",
           "#EF553B",
           "#00cc96",
           "#ab63fa",
           "#FFA15A",
           "#19d3f3",
           "#FF6692",
           "#B6E880",
           "#FF97FF",
           "#FECB52"
          ],
          "font": {
           "color": "#2a3f5f"
          },
          "geo": {
           "bgcolor": "white",
           "lakecolor": "white",
           "landcolor": "#E5ECF6",
           "showlakes": true,
           "showland": true,
           "subunitcolor": "white"
          },
          "hoverlabel": {
           "align": "left"
          },
          "hovermode": "closest",
          "mapbox": {
           "style": "light"
          },
          "paper_bgcolor": "white",
          "plot_bgcolor": "#E5ECF6",
          "polar": {
           "angularaxis": {
            "gridcolor": "white",
            "linecolor": "white",
            "ticks": ""
           },
           "bgcolor": "#E5ECF6",
           "radialaxis": {
            "gridcolor": "white",
            "linecolor": "white",
            "ticks": ""
           }
          },
          "scene": {
           "xaxis": {
            "backgroundcolor": "#E5ECF6",
            "gridcolor": "white",
            "gridwidth": 2,
            "linecolor": "white",
            "showbackground": true,
            "ticks": "",
            "zerolinecolor": "white"
           },
           "yaxis": {
            "backgroundcolor": "#E5ECF6",
            "gridcolor": "white",
            "gridwidth": 2,
            "linecolor": "white",
            "showbackground": true,
            "ticks": "",
            "zerolinecolor": "white"
           },
           "zaxis": {
            "backgroundcolor": "#E5ECF6",
            "gridcolor": "white",
            "gridwidth": 2,
            "linecolor": "white",
            "showbackground": true,
            "ticks": "",
            "zerolinecolor": "white"
           }
          },
          "shapedefaults": {
           "line": {
            "color": "#2a3f5f"
           }
          },
          "ternary": {
           "aaxis": {
            "gridcolor": "white",
            "linecolor": "white",
            "ticks": ""
           },
           "baxis": {
            "gridcolor": "white",
            "linecolor": "white",
            "ticks": ""
           },
           "bgcolor": "#E5ECF6",
           "caxis": {
            "gridcolor": "white",
            "linecolor": "white",
            "ticks": ""
           }
          },
          "title": {
           "x": 0.05
          },
          "xaxis": {
           "automargin": true,
           "gridcolor": "white",
           "linecolor": "white",
           "ticks": "",
           "title": {
            "standoff": 15
           },
           "zerolinecolor": "white",
           "zerolinewidth": 2
          },
          "yaxis": {
           "automargin": true,
           "gridcolor": "white",
           "linecolor": "white",
           "ticks": "",
           "title": {
            "standoff": 15
           },
           "zerolinecolor": "white",
           "zerolinewidth": 2
          }
         }
        },
        "title": {
         "text": "Moyenne d'âge des MVP au fil des ans"
        },
        "xaxis": {
         "anchor": "y",
         "domain": [
          0,
          1
         ],
         "title": {
          "text": "Années"
         }
        },
        "yaxis": {
         "anchor": "x",
         "domain": [
          0,
          1
         ],
         "title": {
          "text": "Âge"
         }
        }
       }
      }
     },
     "metadata": {},
     "output_type": "display_data"
    }
   ],
   "source": [
    "\n",
    "fig = px.scatter(mvps_merged,x=\"Year\",y=\"Age\",title=\"Moyenne d'âge des MVP au fil des ans\",color=\"Player\",labels={'Age': 'Âge', 'Year': 'Années'},\n",
    "    trendline=\"ols\",trendline_scope=\"overall\")\n",
    "\n",
    "# Localiser le joueur le plus jeune\n",
    "youngest_player = mvps_merged.loc[mvps_merged[\"Age\"].idxmin()]\n",
    "# Ajouter une annotation pour le joueur le plus jeune\n",
    "fig.add_annotation(\n",
    "    x=youngest_player[\"Year\"],y=youngest_player[\"Age\"], text=f\"{youngest_player['Player']} (Âge: {youngest_player['Age']})\", showarrow=True,\n",
    "    arrowhead=2,ax=20,ay=-30)\n",
    "\n",
    "# Localiser le joueur le plus vieux\n",
    "oldest_player = mvps_merged.loc[mvps_merged[\"Age\"].idxmax()]\n",
    "# Ajouter une annotation pour le joueur le plus vieux\n",
    "fig.add_annotation(\n",
    "    x=oldest_player[\"Year\"],y=oldest_player[\"Age\"], text=f\"{oldest_player['Player']} (Âge: {oldest_player['Age']})\", showarrow=True,\n",
    "    arrowhead=2,ax=20,ay=-30)\n",
    "\n",
    "\n",
    "# Affichage le graphique\n",
    "fig.show()"
   ]
  },
  {
   "cell_type": "markdown",
   "metadata": {},
   "source": [
    "**Nous constatons que l'age, et la moyenne des points marq ainsi que l'appport du joueur dans son équipe entre en considération dans l'élection pour le titre de MVP de l'année**u"
   ]
  },
  {
   "cell_type": "markdown",
   "metadata": {},
   "source": []
  }
 ],
 "metadata": {
  "kernelspec": {
   "display_name": "Python 3",
   "language": "python",
   "name": "python3"
  },
  "language_info": {
   "codemirror_mode": {
    "name": "ipython",
    "version": 3
   },
   "file_extension": ".py",
   "mimetype": "text/x-python",
   "name": "python",
   "nbconvert_exporter": "python",
   "pygments_lexer": "ipython3",
   "version": "3.12.3"
  }
 },
 "nbformat": 4,
 "nbformat_minor": 2
}
