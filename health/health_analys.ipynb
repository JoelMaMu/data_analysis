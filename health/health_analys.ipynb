{
 "cells": [
  {
   "cell_type": "markdown",
   "metadata": {},
   "source": [
    "# **PROJET DATA**"
   ]
  },
  {
   "cell_type": "markdown",
   "metadata": {},
   "source": [
    "# Importation des bibliothèques"
   ]
  },
  {
   "cell_type": "code",
   "execution_count": 1,
   "metadata": {},
   "outputs": [],
   "source": [
    "import pandas as pd\n",
    "import numpy as np\n",
    "import matplotlib.pyplot as plt\n",
    "import plotly.express as px"
   ]
  },
  {
   "cell_type": "code",
   "execution_count": 2,
   "metadata": {},
   "outputs": [],
   "source": [
    "path = '/Users/joel/Desktop/DATA/data-analys/heart_disease.xlsx'"
   ]
  },
  {
   "cell_type": "code",
   "execution_count": 3,
   "metadata": {},
   "outputs": [],
   "source": [
    "df= pd.read_excel(path)"
   ]
  },
  {
   "cell_type": "code",
   "execution_count": 4,
   "metadata": {},
   "outputs": [
    {
     "name": "stdout",
     "output_type": "stream",
     "text": [
      "      age  sex  Male  Max male  Female  Max female  cp  trestbps  chol  fbs  \\\n",
      "0      52    1     1        52       0           0   0       125   212    0   \n",
      "1      53    1     1        53       0           0   0       140   203    1   \n",
      "2      70    1     1        70       0           0   0       145   174    0   \n",
      "3      61    1     1        61       0           0   0       148   203    0   \n",
      "4      62    0     0         0       1          62   0       138   294    1   \n",
      "...   ...  ...   ...       ...     ...         ...  ..       ...   ...  ...   \n",
      "1020   59    1     1        59       0           0   1       140   221    0   \n",
      "1021   60    1     1        60       0           0   0       125   258    0   \n",
      "1022   47    1     1        47       0           0   0       110   275    0   \n",
      "1023   50    0     0         0       1          50   0       110   254    0   \n",
      "1024   54    1     1        54       0           0   0       120   188    0   \n",
      "\n",
      "      restecg  thalach  exang  oldpeak  slope  ca  thal  target  \n",
      "0           1      168      0      1.0      2   2     3       0  \n",
      "1           0      155      1      3.1      0   0     3       0  \n",
      "2           1      125      1      2.6      0   0     3       0  \n",
      "3           1      161      0      0.0      2   1     3       0  \n",
      "4           1      106      0      1.9      1   3     2       0  \n",
      "...       ...      ...    ...      ...    ...  ..   ...     ...  \n",
      "1020        1      164      1      0.0      2   0     2       1  \n",
      "1021        0      141      1      2.8      1   1     3       0  \n",
      "1022        0      118      1      1.0      1   1     2       0  \n",
      "1023        0      159      0      0.0      2   0     2       1  \n",
      "1024        1      113      0      1.4      1   1     3       0  \n",
      "\n",
      "[1025 rows x 18 columns]\n"
     ]
    }
   ],
   "source": [
    "df = pd.DataFrame(df)\n",
    "print(df)"
   ]
  },
  {
   "cell_type": "markdown",
   "metadata": {},
   "source": [
    "# Normalisation des données"
   ]
  },
  {
   "cell_type": "code",
   "execution_count": 5,
   "metadata": {},
   "outputs": [
    {
     "name": "stdout",
     "output_type": "stream",
     "text": [
      "age             int64\n",
      "sex             int64\n",
      "Male            int64\n",
      "Max male        int64\n",
      "Female          int64\n",
      "Max female      int64\n",
      "cp              int64\n",
      "trestbps        int64\n",
      "chol            int64\n",
      "fbs             int64\n",
      "restecg         int64\n",
      "thalach         int64\n",
      "exang           int64\n",
      "oldpeak       float64\n",
      "slope           int64\n",
      "ca              int64\n",
      "thal            int64\n",
      "target          int64\n",
      "dtype: object\n"
     ]
    }
   ],
   "source": [
    "\n",
    "print(df.dtypes)\n"
   ]
  },
  {
   "cell_type": "code",
   "execution_count": 6,
   "metadata": {},
   "outputs": [
    {
     "name": "stdout",
     "output_type": "stream",
     "text": [
      "int64\n"
     ]
    }
   ],
   "source": [
    "df['oldpeak']=df['oldpeak'].astype(int)\n",
    "print(df['oldpeak'].dtypes)"
   ]
  },
  {
   "cell_type": "code",
   "execution_count": 7,
   "metadata": {},
   "outputs": [
    {
     "name": "stdout",
     "output_type": "stream",
     "text": [
      "age           int64\n",
      "sex           int64\n",
      "Male          int64\n",
      "Max male      int64\n",
      "Female        int64\n",
      "Max female    int64\n",
      "cp            int64\n",
      "trestbps      int64\n",
      "chol          int64\n",
      "fbs           int64\n",
      "restecg       int64\n",
      "thalach       int64\n",
      "exang         int64\n",
      "oldpeak       int64\n",
      "slope         int64\n",
      "ca            int64\n",
      "thal          int64\n",
      "target        int64\n",
      "dtype: object\n"
     ]
    }
   ],
   "source": [
    "print(df.dtypes)"
   ]
  },
  {
   "cell_type": "code",
   "execution_count": 8,
   "metadata": {},
   "outputs": [
    {
     "name": "stdout",
     "output_type": "stream",
     "text": [
      "<class 'pandas.core.frame.DataFrame'>\n",
      "RangeIndex: 1025 entries, 0 to 1024\n",
      "Data columns (total 18 columns):\n",
      " #   Column      Non-Null Count  Dtype\n",
      "---  ------      --------------  -----\n",
      " 0   age         1025 non-null   int64\n",
      " 1   sex         1025 non-null   int64\n",
      " 2   Male        1025 non-null   int64\n",
      " 3   Max male    1025 non-null   int64\n",
      " 4   Female      1025 non-null   int64\n",
      " 5   Max female  1025 non-null   int64\n",
      " 6   cp          1025 non-null   int64\n",
      " 7   trestbps    1025 non-null   int64\n",
      " 8   chol        1025 non-null   int64\n",
      " 9   fbs         1025 non-null   int64\n",
      " 10  restecg     1025 non-null   int64\n",
      " 11  thalach     1025 non-null   int64\n",
      " 12  exang       1025 non-null   int64\n",
      " 13  oldpeak     1025 non-null   int64\n",
      " 14  slope       1025 non-null   int64\n",
      " 15  ca          1025 non-null   int64\n",
      " 16  thal        1025 non-null   int64\n",
      " 17  target      1025 non-null   int64\n",
      "dtypes: int64(18)\n",
      "memory usage: 144.3 KB\n"
     ]
    }
   ],
   "source": [
    "df.info()"
   ]
  },
  {
   "cell_type": "markdown",
   "metadata": {},
   "source": [
    "# Analyse"
   ]
  },
  {
   "cell_type": "code",
   "execution_count": 9,
   "metadata": {},
   "outputs": [
    {
     "data": {
      "text/html": [
       "<div>\n",
       "<style scoped>\n",
       "    .dataframe tbody tr th:only-of-type {\n",
       "        vertical-align: middle;\n",
       "    }\n",
       "\n",
       "    .dataframe tbody tr th {\n",
       "        vertical-align: top;\n",
       "    }\n",
       "\n",
       "    .dataframe thead th {\n",
       "        text-align: right;\n",
       "    }\n",
       "</style>\n",
       "<table border=\"1\" class=\"dataframe\">\n",
       "  <thead>\n",
       "    <tr style=\"text-align: right;\">\n",
       "      <th></th>\n",
       "      <th>age</th>\n",
       "      <th>sex</th>\n",
       "      <th>Male</th>\n",
       "      <th>Max male</th>\n",
       "      <th>Female</th>\n",
       "      <th>Max female</th>\n",
       "      <th>cp</th>\n",
       "      <th>trestbps</th>\n",
       "      <th>chol</th>\n",
       "      <th>fbs</th>\n",
       "      <th>restecg</th>\n",
       "      <th>thalach</th>\n",
       "      <th>exang</th>\n",
       "      <th>oldpeak</th>\n",
       "      <th>slope</th>\n",
       "      <th>ca</th>\n",
       "      <th>thal</th>\n",
       "      <th>target</th>\n",
       "    </tr>\n",
       "  </thead>\n",
       "  <tbody>\n",
       "    <tr>\n",
       "      <th>count</th>\n",
       "      <td>1025.00</td>\n",
       "      <td>1025.00</td>\n",
       "      <td>1025.00</td>\n",
       "      <td>1025.00</td>\n",
       "      <td>1025.00</td>\n",
       "      <td>1025.00</td>\n",
       "      <td>1025.00</td>\n",
       "      <td>1025.00</td>\n",
       "      <td>1025.00</td>\n",
       "      <td>1025.00</td>\n",
       "      <td>1025.00</td>\n",
       "      <td>1025.00</td>\n",
       "      <td>1025.00</td>\n",
       "      <td>1025.00</td>\n",
       "      <td>1025.00</td>\n",
       "      <td>1025.00</td>\n",
       "      <td>1025.00</td>\n",
       "      <td>1025.00</td>\n",
       "    </tr>\n",
       "    <tr>\n",
       "      <th>mean</th>\n",
       "      <td>54.43</td>\n",
       "      <td>0.70</td>\n",
       "      <td>0.70</td>\n",
       "      <td>37.43</td>\n",
       "      <td>0.30</td>\n",
       "      <td>17.00</td>\n",
       "      <td>0.94</td>\n",
       "      <td>131.61</td>\n",
       "      <td>246.00</td>\n",
       "      <td>0.15</td>\n",
       "      <td>0.53</td>\n",
       "      <td>149.11</td>\n",
       "      <td>0.34</td>\n",
       "      <td>0.80</td>\n",
       "      <td>1.39</td>\n",
       "      <td>0.75</td>\n",
       "      <td>2.32</td>\n",
       "      <td>0.51</td>\n",
       "    </tr>\n",
       "    <tr>\n",
       "      <th>std</th>\n",
       "      <td>9.07</td>\n",
       "      <td>0.46</td>\n",
       "      <td>0.46</td>\n",
       "      <td>25.86</td>\n",
       "      <td>0.46</td>\n",
       "      <td>26.22</td>\n",
       "      <td>1.03</td>\n",
       "      <td>17.52</td>\n",
       "      <td>51.59</td>\n",
       "      <td>0.36</td>\n",
       "      <td>0.53</td>\n",
       "      <td>23.01</td>\n",
       "      <td>0.47</td>\n",
       "      <td>1.09</td>\n",
       "      <td>0.62</td>\n",
       "      <td>1.03</td>\n",
       "      <td>0.62</td>\n",
       "      <td>0.50</td>\n",
       "    </tr>\n",
       "    <tr>\n",
       "      <th>min</th>\n",
       "      <td>29.00</td>\n",
       "      <td>0.00</td>\n",
       "      <td>0.00</td>\n",
       "      <td>0.00</td>\n",
       "      <td>0.00</td>\n",
       "      <td>0.00</td>\n",
       "      <td>0.00</td>\n",
       "      <td>94.00</td>\n",
       "      <td>126.00</td>\n",
       "      <td>0.00</td>\n",
       "      <td>0.00</td>\n",
       "      <td>71.00</td>\n",
       "      <td>0.00</td>\n",
       "      <td>0.00</td>\n",
       "      <td>0.00</td>\n",
       "      <td>0.00</td>\n",
       "      <td>0.00</td>\n",
       "      <td>0.00</td>\n",
       "    </tr>\n",
       "    <tr>\n",
       "      <th>25%</th>\n",
       "      <td>48.00</td>\n",
       "      <td>0.00</td>\n",
       "      <td>0.00</td>\n",
       "      <td>0.00</td>\n",
       "      <td>0.00</td>\n",
       "      <td>0.00</td>\n",
       "      <td>0.00</td>\n",
       "      <td>120.00</td>\n",
       "      <td>211.00</td>\n",
       "      <td>0.00</td>\n",
       "      <td>0.00</td>\n",
       "      <td>132.00</td>\n",
       "      <td>0.00</td>\n",
       "      <td>0.00</td>\n",
       "      <td>1.00</td>\n",
       "      <td>0.00</td>\n",
       "      <td>2.00</td>\n",
       "      <td>0.00</td>\n",
       "    </tr>\n",
       "    <tr>\n",
       "      <th>50%</th>\n",
       "      <td>56.00</td>\n",
       "      <td>1.00</td>\n",
       "      <td>1.00</td>\n",
       "      <td>48.00</td>\n",
       "      <td>0.00</td>\n",
       "      <td>0.00</td>\n",
       "      <td>1.00</td>\n",
       "      <td>130.00</td>\n",
       "      <td>240.00</td>\n",
       "      <td>0.00</td>\n",
       "      <td>1.00</td>\n",
       "      <td>152.00</td>\n",
       "      <td>0.00</td>\n",
       "      <td>0.00</td>\n",
       "      <td>1.00</td>\n",
       "      <td>0.00</td>\n",
       "      <td>2.00</td>\n",
       "      <td>1.00</td>\n",
       "    </tr>\n",
       "    <tr>\n",
       "      <th>75%</th>\n",
       "      <td>61.00</td>\n",
       "      <td>1.00</td>\n",
       "      <td>1.00</td>\n",
       "      <td>58.00</td>\n",
       "      <td>1.00</td>\n",
       "      <td>45.00</td>\n",
       "      <td>2.00</td>\n",
       "      <td>140.00</td>\n",
       "      <td>275.00</td>\n",
       "      <td>0.00</td>\n",
       "      <td>1.00</td>\n",
       "      <td>166.00</td>\n",
       "      <td>1.00</td>\n",
       "      <td>1.00</td>\n",
       "      <td>2.00</td>\n",
       "      <td>1.00</td>\n",
       "      <td>3.00</td>\n",
       "      <td>1.00</td>\n",
       "    </tr>\n",
       "    <tr>\n",
       "      <th>max</th>\n",
       "      <td>77.00</td>\n",
       "      <td>1.00</td>\n",
       "      <td>1.00</td>\n",
       "      <td>77.00</td>\n",
       "      <td>1.00</td>\n",
       "      <td>76.00</td>\n",
       "      <td>3.00</td>\n",
       "      <td>200.00</td>\n",
       "      <td>564.00</td>\n",
       "      <td>1.00</td>\n",
       "      <td>2.00</td>\n",
       "      <td>202.00</td>\n",
       "      <td>1.00</td>\n",
       "      <td>6.00</td>\n",
       "      <td>2.00</td>\n",
       "      <td>4.00</td>\n",
       "      <td>3.00</td>\n",
       "      <td>1.00</td>\n",
       "    </tr>\n",
       "  </tbody>\n",
       "</table>\n",
       "</div>"
      ],
      "text/plain": [
       "           age      sex     Male  Max male   Female  Max female       cp  \\\n",
       "count  1025.00  1025.00  1025.00   1025.00  1025.00     1025.00  1025.00   \n",
       "mean     54.43     0.70     0.70     37.43     0.30       17.00     0.94   \n",
       "std       9.07     0.46     0.46     25.86     0.46       26.22     1.03   \n",
       "min      29.00     0.00     0.00      0.00     0.00        0.00     0.00   \n",
       "25%      48.00     0.00     0.00      0.00     0.00        0.00     0.00   \n",
       "50%      56.00     1.00     1.00     48.00     0.00        0.00     1.00   \n",
       "75%      61.00     1.00     1.00     58.00     1.00       45.00     2.00   \n",
       "max      77.00     1.00     1.00     77.00     1.00       76.00     3.00   \n",
       "\n",
       "       trestbps     chol      fbs  restecg  thalach    exang  oldpeak  \\\n",
       "count   1025.00  1025.00  1025.00  1025.00  1025.00  1025.00  1025.00   \n",
       "mean     131.61   246.00     0.15     0.53   149.11     0.34     0.80   \n",
       "std       17.52    51.59     0.36     0.53    23.01     0.47     1.09   \n",
       "min       94.00   126.00     0.00     0.00    71.00     0.00     0.00   \n",
       "25%      120.00   211.00     0.00     0.00   132.00     0.00     0.00   \n",
       "50%      130.00   240.00     0.00     1.00   152.00     0.00     0.00   \n",
       "75%      140.00   275.00     0.00     1.00   166.00     1.00     1.00   \n",
       "max      200.00   564.00     1.00     2.00   202.00     1.00     6.00   \n",
       "\n",
       "         slope       ca     thal   target  \n",
       "count  1025.00  1025.00  1025.00  1025.00  \n",
       "mean      1.39     0.75     2.32     0.51  \n",
       "std       0.62     1.03     0.62     0.50  \n",
       "min       0.00     0.00     0.00     0.00  \n",
       "25%       1.00     0.00     2.00     0.00  \n",
       "50%       1.00     0.00     2.00     1.00  \n",
       "75%       2.00     1.00     3.00     1.00  \n",
       "max       2.00     4.00     3.00     1.00  "
      ]
     },
     "execution_count": 9,
     "metadata": {},
     "output_type": "execute_result"
    }
   ],
   "source": [
    "df.describe().round(2)"
   ]
  },
  {
   "cell_type": "code",
   "execution_count": 10,
   "metadata": {},
   "outputs": [
    {
     "name": "stdout",
     "output_type": "stream",
     "text": [
      "      age  sex  Male  Female  cp  trestbps  chol  fbs  restecg  thalach  \\\n",
      "0      52    1     1       0   0       125   212    0        1      168   \n",
      "1      53    1     1       0   0       140   203    1        0      155   \n",
      "2      70    1     1       0   0       145   174    0        1      125   \n",
      "3      61    1     1       0   0       148   203    0        1      161   \n",
      "4      62    0     0       1   0       138   294    1        1      106   \n",
      "...   ...  ...   ...     ...  ..       ...   ...  ...      ...      ...   \n",
      "1020   59    1     1       0   1       140   221    0        1      164   \n",
      "1021   60    1     1       0   0       125   258    0        0      141   \n",
      "1022   47    1     1       0   0       110   275    0        0      118   \n",
      "1023   50    0     0       1   0       110   254    0        0      159   \n",
      "1024   54    1     1       0   0       120   188    0        1      113   \n",
      "\n",
      "      exang  oldpeak  slope  ca  thal  target  \n",
      "0         0        1      2   2     3       0  \n",
      "1         1        3      0   0     3       0  \n",
      "2         1        2      0   0     3       0  \n",
      "3         0        0      2   1     3       0  \n",
      "4         0        1      1   3     2       0  \n",
      "...     ...      ...    ...  ..   ...     ...  \n",
      "1020      1        0      2   0     2       1  \n",
      "1021      1        2      1   1     3       0  \n",
      "1022      1        1      1   1     2       0  \n",
      "1023      0        0      2   0     2       1  \n",
      "1024      0        1      1   1     3       0  \n",
      "\n",
      "[1025 rows x 16 columns]\n"
     ]
    }
   ],
   "source": [
    "df = df.drop(['Max male', 'Max female'], axis=1)\n",
    "print(df)"
   ]
  },
  {
   "cell_type": "code",
   "execution_count": 11,
   "metadata": {},
   "outputs": [
    {
     "data": {
      "image/png": "[encoded data removed]",
      "text/plain": [
       "<Figure size 640x480 with 1 Axes>"
      ]
     },
     "metadata": {},
     "output_type": "display_data"
    }
   ],
   "source": [
    "# Fonctions linéaires : Observation de la dispersion\n",
    "\n",
    "\n",
    "df.plot(x='chol', y = 'cp',kind='scatter', c='blue'),\n",
    "plt.xlim(xmin=0)\n",
    "plt.ylim(ymin=0)\n",
    "plt.show()"
   ]
  },
  {
   "cell_type": "code",
   "execution_count": 12,
   "metadata": {},
   "outputs": [
    {
     "name": "stdout",
     "output_type": "stream",
     "text": [
      "age           82.226151\n",
      "sex            0.211737\n",
      "Male           0.211737\n",
      "Female         0.211737\n",
      "cp             1.059126\n",
      "trestbps     306.536058\n",
      "chol        2659.190244\n",
      "fbs            0.126987\n",
      "restecg        0.278383\n",
      "thalach      528.746971\n",
      "exang          0.223296\n",
      "oldpeak        1.176960\n",
      "slope          0.381249\n",
      "ca             1.061507\n",
      "thal           0.384843\n",
      "target         0.249827\n",
      "dtype: float64\n"
     ]
    },
    {
     "name": "stderr",
     "output_type": "stream",
     "text": [
      "/Library/Frameworks/Python.framework/Versions/3.12/lib/python3.12/site-packages/numpy/core/fromnumeric.py:3785: FutureWarning: The behavior of DataFrame.var with axis=None is deprecated, in a future version this will reduce over both axes and return a scalar. To retain the old behavior, pass axis=0 (or do not pass axis)\n",
      "  return var(axis=axis, dtype=dtype, out=out, ddof=ddof, **kwargs)\n"
     ]
    }
   ],
   "source": [
    "variance_df=np.var(df)\n",
    "print(variance_df)"
   ]
  },
  {
   "cell_type": "code",
   "execution_count": 13,
   "metadata": {},
   "outputs": [
    {
     "name": "stdout",
     "output_type": "stream",
     "text": [
      "           age   sex  Male  Female    cp  trestbps  chol   fbs  restecg  \\\n",
      "age       1.00 -0.10 -0.10    0.10 -0.07      0.27  0.22  0.12    -0.13   \n",
      "sex      -0.10  1.00  1.00   -1.00 -0.04     -0.08 -0.20  0.03    -0.06   \n",
      "Male     -0.10  1.00  1.00   -1.00 -0.04     -0.08 -0.20  0.03    -0.06   \n",
      "Female    0.10 -1.00 -1.00    1.00  0.04      0.08  0.20 -0.03     0.06   \n",
      "cp       -0.07 -0.04 -0.04    0.04  1.00      0.04 -0.08  0.08     0.04   \n",
      "trestbps  0.27 -0.08 -0.08    0.08  0.04      1.00  0.13  0.18    -0.12   \n",
      "chol      0.22 -0.20 -0.20    0.20 -0.08      0.13  1.00  0.03    -0.15   \n",
      "fbs       0.12  0.03  0.03   -0.03  0.08      0.18  0.03  1.00    -0.10   \n",
      "restecg  -0.13 -0.06 -0.06    0.06  0.04     -0.12 -0.15 -0.10     1.00   \n",
      "thalach  -0.39 -0.05 -0.05    0.05  0.31     -0.04 -0.02 -0.01     0.05   \n",
      "exang     0.09  0.14  0.14   -0.14 -0.40      0.06  0.07  0.05    -0.07   \n",
      "oldpeak   0.18  0.08  0.08   -0.08 -0.21      0.18  0.05  0.03    -0.04   \n",
      "slope    -0.17 -0.03 -0.03    0.03  0.13     -0.12 -0.01 -0.06     0.09   \n",
      "ca        0.27  0.11  0.11   -0.11 -0.18      0.10  0.07  0.14    -0.08   \n",
      "thal      0.07  0.20  0.20   -0.20 -0.16      0.06  0.10 -0.04    -0.02   \n",
      "target   -0.23 -0.28 -0.28    0.28  0.43     -0.14 -0.10 -0.04     0.13   \n",
      "\n",
      "          thalach  exang  oldpeak  slope    ca  thal  target  \n",
      "age         -0.39   0.09     0.18  -0.17  0.27  0.07   -0.23  \n",
      "sex         -0.05   0.14     0.08  -0.03  0.11  0.20   -0.28  \n",
      "Male        -0.05   0.14     0.08  -0.03  0.11  0.20   -0.28  \n",
      "Female       0.05  -0.14    -0.08   0.03 -0.11 -0.20    0.28  \n",
      "cp           0.31  -0.40    -0.21   0.13 -0.18 -0.16    0.43  \n",
      "trestbps    -0.04   0.06     0.18  -0.12  0.10  0.06   -0.14  \n",
      "chol        -0.02   0.07     0.05  -0.01  0.07  0.10   -0.10  \n",
      "fbs         -0.01   0.05     0.03  -0.06  0.14 -0.04   -0.04  \n",
      "restecg      0.05  -0.07    -0.04   0.09 -0.08 -0.02    0.13  \n",
      "thalach      1.00  -0.38    -0.33   0.40 -0.21 -0.10    0.42  \n",
      "exang       -0.38   1.00     0.29  -0.27  0.11  0.20   -0.44  \n",
      "oldpeak     -0.33   0.29     1.00  -0.55  0.23  0.19   -0.43  \n",
      "slope        0.40  -0.27    -0.55   1.00 -0.07 -0.09    0.35  \n",
      "ca          -0.21   0.11     0.23  -0.07  1.00  0.15   -0.38  \n",
      "thal        -0.10   0.20     0.19  -0.09  0.15  1.00   -0.34  \n",
      "target       0.42  -0.44    -0.43   0.35 -0.38 -0.34    1.00  \n"
     ]
    }
   ],
   "source": [
    "df_corr=round(df.corr(),2)\n",
    "print(df_corr)"
   ]
  },
  {
   "cell_type": "code",
   "execution_count": 14,
   "metadata": {},
   "outputs": [
    {
     "data": {
      "application/vnd.plotly.v1+json": {
       "config": {
        "plotlyServerURL": "https://plot.ly"
       },
       "data": [
        {
         "coloraxis": "coloraxis",
         "hovertemplate": "x: %{x}<br>y: %{y}<br>color: %{z}<extra></extra>",
         "name": "0",
         "texttemplate": "%{z}",
         "type": "heatmap",
         "x": [
          "age",
          "sex",
          "Male",
          "Female",
          "cp",
          "trestbps",
          "chol",
          "fbs",
          "restecg",
          "thalach",
          "exang",
          "oldpeak",
          "slope",
          "ca",
          "thal",
          "target"
         ],
         "xaxis": "x",
         "y": [
          "age",
          "sex",
          "Male",
          "Female",
          "cp",
          "trestbps",
          "chol",
          "fbs",
          "restecg",
          "thalach",
          "exang",
          "oldpeak",
          "slope",
          "ca",
          "thal",
          "target"
         ],
         "yaxis": "y",
         "z": [
          [
           1,
           -0.1,
           -0.1,
           0.1,
           -0.07,
           0.27,
           0.22,
           0.12,
           -0.13,
           -0.39,
           0.09,
           0.18,
           -0.17,
           0.27,
           0.07,
           -0.23
          ],
          [
           -0.1,
           1,
           1,
           -1,
           -0.04,
           -0.08,
           -0.2,
           0.03,
           -0.06,
           -0.05,
           0.14,
           0.08,
           -0.03,
           0.11,
           0.2,
           -0.28
          ],
          [
           -0.1,
           1,
           1,
           -1,
           -0.04,
           -0.08,
           -0.2,
           0.03,
           -0.06,
           -0.05,
           0.14,
           0.08,
           -0.03,
           0.11,
           0.2,
           -0.28
          ],
          [
           0.1,
           -1,
           -1,
           1,
           0.04,
           0.08,
           0.2,
           -0.03,
           0.06,
           0.05,
           -0.14,
           -0.08,
           0.03,
           -0.11,
           -0.2,
           0.28
          ],
          [
           -0.07,
           -0.04,
           -0.04,
           0.04,
           1,
           0.04,
           -0.08,
           0.08,
           0.04,
           0.31,
           -0.4,
           -0.21,
           0.13,
           -0.18,
           -0.16,
           0.43
          ],
          [
           0.27,
           -0.08,
           -0.08,
           0.08,
           0.04,
           1,
           0.13,
           0.18,
           -0.12,
           -0.04,
           0.06,
           0.18,
           -0.12,
           0.1,
           0.06,
           -0.14
          ],
          [
           0.22,
           -0.2,
           -0.2,
           0.2,
           -0.08,
           0.13,
           1,
           0.03,
           -0.15,
           -0.02,
           0.07,
           0.05,
           -0.01,
           0.07,
           0.1,
           -0.1
          ],
          [
           0.12,
           0.03,
           0.03,
           -0.03,
           0.08,
           0.18,
           0.03,
           1,
           -0.1,
           -0.01,
           0.05,
           0.03,
           -0.06,
           0.14,
           -0.04,
           -0.04
          ],
          [
           -0.13,
           -0.06,
           -0.06,
           0.06,
           0.04,
           -0.12,
           -0.15,
           -0.1,
           1,
           0.05,
           -0.07,
           -0.04,
           0.09,
           -0.08,
           -0.02,
           0.13
          ],
          [
           -0.39,
           -0.05,
           -0.05,
           0.05,
           0.31,
           -0.04,
           -0.02,
           -0.01,
           0.05,
           1,
           -0.38,
           -0.33,
           0.4,
           -0.21,
           -0.1,
           0.42
          ],
          [
           0.09,
           0.14,
           0.14,
           -0.14,
           -0.4,
           0.06,
           0.07,
           0.05,
           -0.07,
           -0.38,
           1,
           0.29,
           -0.27,
           0.11,
           0.2,
           -0.44
          ],
          [
           0.18,
           0.08,
           0.08,
           -0.08,
           -0.21,
           0.18,
           0.05,
           0.03,
           -0.04,
           -0.33,
           0.29,
           1,
           -0.55,
           0.23,
           0.19,
           -0.43
          ],
          [
           -0.17,
           -0.03,
           -0.03,
           0.03,
           0.13,
           -0.12,
           -0.01,
           -0.06,
           0.09,
           0.4,
           -0.27,
           -0.55,
           1,
           -0.07,
           -0.09,
           0.35
          ],
          [
           0.27,
           0.11,
           0.11,
           -0.11,
           -0.18,
           0.1,
           0.07,
           0.14,
           -0.08,
           -0.21,
           0.11,
           0.23,
           -0.07,
           1,
           0.15,
           -0.38
          ],
          [
           0.07,
           0.2,
           0.2,
           -0.2,
           -0.16,
           0.06,
           0.1,
           -0.04,
           -0.02,
           -0.1,
           0.2,
           0.19,
           -0.09,
           0.15,
           1,
           -0.34
          ],
          [
           -0.23,
           -0.28,
           -0.28,
           0.28,
           0.43,
           -0.14,
           -0.1,
           -0.04,
           0.13,
           0.42,
           -0.44,
           -0.43,
           0.35,
           -0.38,
           -0.34,
           1
          ]
         ]
        }
       ],
       "layout": {
        "coloraxis": {
         "cmax": 1,
         "cmin": -1,
         "colorscale": [
          [
           0,
           "#440154"
          ],
          [
           0.1111111111111111,
           "#482878"
          ],
          [
           0.2222222222222222,
           "#3e4989"
          ],
          [
           0.3333333333333333,
           "#31688e"
          ],
          [
           0.4444444444444444,
           "#26828e"
          ],
          [
           0.5555555555555556,
           "#1f9e89"
          ],
          [
           0.6666666666666666,
           "#35b779"
          ],
          [
           0.7777777777777778,
           "#6ece58"
          ],
          [
           0.8888888888888888,
           "#b5de2b"
          ],
          [
           1,
           "#fde725"
          ]
         ]
        },
        "template": {
         "data": {
          "bar": [
           {
            "error_x": {
             "color": "#2a3f5f"
            },
            "error_y": {
             "color": "#2a3f5f"
            },
            "marker": {
             "line": {
              "color": "#E5ECF6",
              "width": 0.5
             },
             "pattern": {
              "fillmode": "overlay",
              "size": 10,
              "solidity": 0.2
             }
            },
            "type": "bar"
           }
          ],
          "barpolar": [
           {
            "marker": {
             "line": {
              "color": "#E5ECF6",
              "width": 0.5
             },
             "pattern": {
              "fillmode": "overlay",
              "size": 10,
              "solidity": 0.2
             }
            },
            "type": "barpolar"
           }
          ],
          "carpet": [
           {
            "aaxis": {
             "endlinecolor": "#2a3f5f",
             "gridcolor": "white",
             "linecolor": "white",
             "minorgridcolor": "white",
             "startlinecolor": "#2a3f5f"
            },
            "baxis": {
             "endlinecolor": "#2a3f5f",
             "gridcolor": "white",
             "linecolor": "white",
             "minorgridcolor": "white",
             "startlinecolor": "#2a3f5f"
            },
            "type": "carpet"
           }
          ],
          "choropleth": [
           {
            "colorbar": {
             "outlinewidth": 0,
             "ticks": ""
            },
            "type": "choropleth"
           }
          ],
          "contour": [
           {
            "colorbar": {
             "outlinewidth": 0,
             "ticks": ""
            },
            "colorscale": [
             [
              0,
              "#0d0887"
             ],
             [
              0.1111111111111111,
              "#46039f"
             ],
             [
              0.2222222222222222,
              "#7201a8"
             ],
             [
              0.3333333333333333,
              "#9c179e"
             ],
             [
              0.4444444444444444,
              "#bd3786"
             ],
             [
              0.5555555555555556,
              "#d8576b"
             ],
             [
              0.6666666666666666,
              "#ed7953"
             ],
             [
              0.7777777777777778,
              "#fb9f3a"
             ],
             [
              0.8888888888888888,
              "#fdca26"
             ],
             [
              1,
              "#f0f921"
             ]
            ],
            "type": "contour"
           }
          ],
          "contourcarpet": [
           {
            "colorbar": {
             "outlinewidth": 0,
             "ticks": ""
            },
            "type": "contourcarpet"
           }
          ],
          "heatmap": [
           {
            "colorbar": {
             "outlinewidth": 0,
             "ticks": ""
            },
            "colorscale": [
             [
              0,
              "#0d0887"
             ],
             [
              0.1111111111111111,
              "#46039f"
             ],
             [
              0.2222222222222222,
              "#7201a8"
             ],
             [
              0.3333333333333333,
              "#9c179e"
             ],
             [
              0.4444444444444444,
              "#bd3786"
             ],
             [
              0.5555555555555556,
              "#d8576b"
             ],
             [
              0.6666666666666666,
              "#ed7953"
             ],
             [
              0.7777777777777778,
              "#fb9f3a"
             ],
             [
              0.8888888888888888,
              "#fdca26"
             ],
             [
              1,
              "#f0f921"
             ]
            ],
            "type": "heatmap"
           }
          ],
          "heatmapgl": [
           {
            "colorbar": {
             "outlinewidth": 0,
             "ticks": ""
            },
            "colorscale": [
             [
              0,
              "#0d0887"
             ],
             [
              0.1111111111111111,
              "#46039f"
             ],
             [
              0.2222222222222222,
              "#7201a8"
             ],
             [
              0.3333333333333333,
              "#9c179e"
             ],
             [
              0.4444444444444444,
              "#bd3786"
             ],
             [
              0.5555555555555556,
              "#d8576b"
             ],
             [
              0.6666666666666666,
              "#ed7953"
             ],
             [
              0.7777777777777778,
              "#fb9f3a"
             ],
             [
              0.8888888888888888,
              "#fdca26"
             ],
             [
              1,
              "#f0f921"
             ]
            ],
            "type": "heatmapgl"
           }
          ],
          "histogram": [
           {
            "marker": {
             "pattern": {
              "fillmode": "overlay",
              "size": 10,
              "solidity": 0.2
             }
            },
            "type": "histogram"
           }
          ],
          "histogram2d": [
           {
            "colorbar": {
             "outlinewidth": 0,
             "ticks": ""
            },
            "colorscale": [
             [
              0,
              "#0d0887"
             ],
             [
              0.1111111111111111,
              "#46039f"
             ],
             [
              0.2222222222222222,
              "#7201a8"
             ],
             [
              0.3333333333333333,
              "#9c179e"
             ],
             [
              0.4444444444444444,
              "#bd3786"
             ],
             [
              0.5555555555555556,
              "#d8576b"
             ],
             [
              0.6666666666666666,
              "#ed7953"
             ],
             [
              0.7777777777777778,
              "#fb9f3a"
             ],
             [
              0.8888888888888888,
              "#fdca26"
             ],
             [
              1,
              "#f0f921"
             ]
            ],
            "type": "histogram2d"
           }
          ],
          "histogram2dcontour": [
           {
            "colorbar": {
             "outlinewidth": 0,
             "ticks": ""
            },
            "colorscale": [
             [
              0,
              "#0d0887"
             ],
             [
              0.1111111111111111,
              "#46039f"
             ],
             [
              0.2222222222222222,
              "#7201a8"
             ],
             [
              0.3333333333333333,
              "#9c179e"
             ],
             [
              0.4444444444444444,
              "#bd3786"
             ],
             [
              0.5555555555555556,
              "#d8576b"
             ],
             [
              0.6666666666666666,
              "#ed7953"
             ],
             [
              0.7777777777777778,
              "#fb9f3a"
             ],
             [
              0.8888888888888888,
              "#fdca26"
             ],
             [
              1,
              "#f0f921"
             ]
            ],
            "type": "histogram2dcontour"
           }
          ],
          "mesh3d": [
           {
            "colorbar": {
             "outlinewidth": 0,
             "ticks": ""
            },
            "type": "mesh3d"
           }
          ],
          "parcoords": [
           {
            "line": {
             "colorbar": {
              "outlinewidth": 0,
              "ticks": ""
             }
            },
            "type": "parcoords"
           }
          ],
          "pie": [
           {
            "automargin": true,
            "type": "pie"
           }
          ],
          "scatter": [
           {
            "fillpattern": {
             "fillmode": "overlay",
             "size": 10,
             "solidity": 0.2
            },
            "type": "scatter"
           }
          ],
          "scatter3d": [
           {
            "line": {
             "colorbar": {
              "outlinewidth": 0,
              "ticks": ""
             }
            },
            "marker": {
             "colorbar": {
              "outlinewidth": 0,
              "ticks": ""
             }
            },
            "type": "scatter3d"
           }
          ],
          "scattercarpet": [
           {
            "marker": {
             "colorbar": {
              "outlinewidth": 0,
              "ticks": ""
             }
            },
            "type": "scattercarpet"
           }
          ],
          "scattergeo": [
           {
            "marker": {
             "colorbar": {
              "outlinewidth": 0,
              "ticks": ""
             }
            },
            "type": "scattergeo"
           }
          ],
          "scattergl": [
           {
            "marker": {
             "colorbar": {
              "outlinewidth": 0,
              "ticks": ""
             }
            },
            "type": "scattergl"
           }
          ],
          "scattermapbox": [
           {
            "marker": {
             "colorbar": {
              "outlinewidth": 0,
              "ticks": ""
             }
            },
            "type": "scattermapbox"
           }
          ],
          "scatterpolar": [
           {
            "marker": {
             "colorbar": {
              "outlinewidth": 0,
              "ticks": ""
             }
            },
            "type": "scatterpolar"
           }
          ],
          "scatterpolargl": [
           {
            "marker": {
             "colorbar": {
              "outlinewidth": 0,
              "ticks": ""
             }
            },
            "type": "scatterpolargl"
           }
          ],
          "scatterternary": [
           {
            "marker": {
             "colorbar": {
              "outlinewidth": 0,
              "ticks": ""
             }
            },
            "type": "scatterternary"
           }
          ],
          "surface": [
           {
            "colorbar": {
             "outlinewidth": 0,
             "ticks": ""
            },
            "colorscale": [
             [
              0,
              "#0d0887"
             ],
             [
              0.1111111111111111,
              "#46039f"
             ],
             [
              0.2222222222222222,
              "#7201a8"
             ],
             [
              0.3333333333333333,
              "#9c179e"
             ],
             [
              0.4444444444444444,
              "#bd3786"
             ],
             [
              0.5555555555555556,
              "#d8576b"
             ],
             [
              0.6666666666666666,
              "#ed7953"
             ],
             [
              0.7777777777777778,
              "#fb9f3a"
             ],
             [
              0.8888888888888888,
              "#fdca26"
             ],
             [
              1,
              "#f0f921"
             ]
            ],
            "type": "surface"
           }
          ],
          "table": [
           {
            "cells": {
             "fill": {
              "color": "#EBF0F8"
             },
             "line": {
              "color": "white"
             }
            },
            "header": {
             "fill": {
              "color": "#C8D4E3"
             },
             "line": {
              "color": "white"
             }
            },
            "type": "table"
           }
          ]
         },
         "layout": {
          "annotationdefaults": {
           "arrowcolor": "#2a3f5f",
           "arrowhead": 0,
           "arrowwidth": 1
          },
          "autotypenumbers": "strict",
          "coloraxis": {
           "colorbar": {
            "outlinewidth": 0,
            "ticks": ""
           }
          },
          "colorscale": {
           "diverging": [
            [
             0,
             "#8e0152"
            ],
            [
             0.1,
             "#c51b7d"
            ],
            [
             0.2,
             "#de77ae"
            ],
            [
             0.3,
             "#f1b6da"
            ],
            [
             0.4,
             "#fde0ef"
            ],
            [
             0.5,
             "#f7f7f7"
            ],
            [
             0.6,
             "#e6f5d0"
            ],
            [
             0.7,
             "#b8e186"
            ],
            [
             0.8,
             "#7fbc41"
            ],
            [
             0.9,
             "#4d9221"
            ],
            [
             1,
             "#276419"
            ]
           ],
           "sequential": [
            [
             0,
             "#0d0887"
            ],
            [
             0.1111111111111111,
             "#46039f"
            ],
            [
             0.2222222222222222,
             "#7201a8"
            ],
            [
             0.3333333333333333,
             "#9c179e"
            ],
            [
             0.4444444444444444,
             "#bd3786"
            ],
            [
             0.5555555555555556,
             "#d8576b"
            ],
            [
             0.6666666666666666,
             "#ed7953"
            ],
            [
             0.7777777777777778,
             "#fb9f3a"
            ],
            [
             0.8888888888888888,
             "#fdca26"
            ],
            [
             1,
             "#f0f921"
            ]
           ],
           "sequentialminus": [
            [
             0,
             "#0d0887"
            ],
            [
             0.1111111111111111,
             "#46039f"
            ],
            [
             0.2222222222222222,
             "#7201a8"
            ],
            [
             0.3333333333333333,
             "#9c179e"
            ],
            [
             0.4444444444444444,
             "#bd3786"
            ],
            [
             0.5555555555555556,
             "#d8576b"
            ],
            [
             0.6666666666666666,
             "#ed7953"
            ],
            [
             0.7777777777777778,
             "#fb9f3a"
            ],
            [
             0.8888888888888888,
             "#fdca26"
            ],
            [
             1,
             "#f0f921"
            ]
           ]
          },
          "colorway": [
           "#636efa",
           "#EF553B",
           "#00cc96",
           "#ab63fa",
           "#FFA15A",
           "#19d3f3",
           "#FF6692",
           "#B6E880",
           "#FF97FF",
           "#FECB52"
          ],
          "font": {
           "color": "#2a3f5f"
          },
          "geo": {
           "bgcolor": "white",
           "lakecolor": "white",
           "landcolor": "#E5ECF6",
           "showlakes": true,
           "showland": true,
           "subunitcolor": "white"
          },
          "hoverlabel": {
           "align": "left"
          },
          "hovermode": "closest",
          "mapbox": {
           "style": "light"
          },
          "paper_bgcolor": "white",
          "plot_bgcolor": "#E5ECF6",
          "polar": {
           "angularaxis": {
            "gridcolor": "white",
            "linecolor": "white",
            "ticks": ""
           },
           "bgcolor": "#E5ECF6",
           "radialaxis": {
            "gridcolor": "white",
            "linecolor": "white",
            "ticks": ""
           }
          },
          "scene": {
           "xaxis": {
            "backgroundcolor": "#E5ECF6",
            "gridcolor": "white",
            "gridwidth": 2,
            "linecolor": "white",
            "showbackground": true,
            "ticks": "",
            "zerolinecolor": "white"
           },
           "yaxis": {
            "backgroundcolor": "#E5ECF6",
            "gridcolor": "white",
            "gridwidth": 2,
            "linecolor": "white",
            "showbackground": true,
            "ticks": "",
            "zerolinecolor": "white"
           },
           "zaxis": {
            "backgroundcolor": "#E5ECF6",
            "gridcolor": "white",
            "gridwidth": 2,
            "linecolor": "white",
            "showbackground": true,
            "ticks": "",
            "zerolinecolor": "white"
           }
          },
          "shapedefaults": {
           "line": {
            "color": "#2a3f5f"
           }
          },
          "ternary": {
           "aaxis": {
            "gridcolor": "white",
            "linecolor": "white",
            "ticks": ""
           },
           "baxis": {
            "gridcolor": "white",
            "linecolor": "white",
            "ticks": ""
           },
           "bgcolor": "#E5ECF6",
           "caxis": {
            "gridcolor": "white",
            "linecolor": "white",
            "ticks": ""
           }
          },
          "title": {
           "x": 0.05
          },
          "xaxis": {
           "automargin": true,
           "gridcolor": "white",
           "linecolor": "white",
           "ticks": "",
           "title": {
            "standoff": 15
           },
           "zerolinecolor": "white",
           "zerolinewidth": 2
          },
          "yaxis": {
           "automargin": true,
           "gridcolor": "white",
           "linecolor": "white",
           "ticks": "",
           "title": {
            "standoff": 15
           },
           "zerolinecolor": "white",
           "zerolinewidth": 2
          }
         }
        },
        "title": {
         "text": "Matrice de corrélation interactive"
        },
        "xaxis": {
         "anchor": "y",
         "domain": [
          0,
          1
         ]
        },
        "yaxis": {
         "anchor": "x",
         "autorange": "reversed",
         "domain": [
          0,
          1
         ]
        }
       }
      }
     },
     "metadata": {},
     "output_type": "display_data"
    }
   ],
   "source": [
    "corr_matrix = df.corr().round(2)\n",
    "\n",
    "fig = px.imshow(corr_matrix,\n",
    "                text_auto=True,\n",
    "                aspect=\"cube\",\n",
    "                color_continuous_scale='viridis',\n",
    "                zmin=-1, zmax=1,\n",
    "                title=\"Matrice de corrélation interactive\")\n",
    "\n",
    "fig.show()"
   ]
  },
  {
   "cell_type": "markdown",
   "metadata": {},
   "source": [
    "- age : âge\n",
    "- sex : sexe\n",
    "- Male : homme\n",
    "- Max male : homme maximal (ou nombre maximum d'hommes)\n",
    "- Female : femme\n",
    "- Max female : femme maximale (ou nombre maximum de femmes)\n",
    "- cp : douleur thoracique (cp est souvent l'abréviation de \"chest pain\")\n",
    "- trestbps : pression artérielle au repos (trestbps est l'abréviation de  \n",
    "\"resting blood pressure\")\n",
    "- chol : cholestérol\n",
    "- fbs : glycémie à jeun (fbs est l'abréviation de \"fasting blood sugar\")\n",
    "- restecg : ECG au repos (restecg est l'abréviation de \"resting electrocardiographic results\")\n",
    "- thalach : fréquence cardiaque maximale atteinte (thalach est l'abréviation de \"maximum heart rate achieved\")\n",
    "exang : angine induite par l'exercice (exang est l'abréviation de \"exercise-induced angina\")\n",
    "- oldpeak : dépression du segment ST après effort\n",
    "- slope : pente (de la dépression du segment ST)\n",
    "- ca : nombre de vaisseaux principaux colorés par fluoroscopie\n",
    "- thal : thalassémie\n",
    "- target : cible (ou présence d'une maladie cardiaque)\n",
    "\n",
    "\n"
   ]
  },
  {
   "cell_type": "code",
   "execution_count": null,
   "metadata": {},
   "outputs": [],
   "source": []
  }
 ],
 "metadata": {
  "kernelspec": {
   "display_name": "Python 3",
   "language": "python",
   "name": "python3"
  },
  "language_info": {
   "codemirror_mode": {
    "name": "ipython",
    "version": 3
   },
   "file_extension": ".py",
   "mimetype": "text/x-python",
   "name": "python",
   "nbconvert_exporter": "python",
   "pygments_lexer": "ipython3",
   "version": "3.12.4"
  }
 },
 "nbformat": 4,
 "nbformat_minor": 2
}
